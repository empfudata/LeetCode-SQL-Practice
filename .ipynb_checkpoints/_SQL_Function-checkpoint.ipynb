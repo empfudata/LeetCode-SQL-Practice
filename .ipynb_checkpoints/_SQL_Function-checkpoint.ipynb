{
 "cells": [
  {
   "cell_type": "markdown",
   "metadata": {},
   "source": [
    "# **SQL Function Summary**"
   ]
  },
  {
   "cell_type": "markdown",
   "metadata": {},
   "source": [
    "## **SQL Operation Order**"
   ]
  },
  {
   "cell_type": "markdown",
   "metadata": {},
   "source": [
    "<img src=https://cdn.sisense.com/wp-content/uploads/image-1-order-blog.png width = 600 height = 300>\n"
   ]
  },
  {
   "cell_type": "markdown",
   "metadata": {},
   "source": [
    "## **SQL JOINS**"
   ]
  },
  {
   "cell_type": "markdown",
   "metadata": {},
   "source": [
    "<img src=https://www.codeproject.com/KB/database/Visual_SQL_Joins/Visual_SQL_JOINS_orig.jpg width = 600 height = 500>"
   ]
  },
  {
   "cell_type": "markdown",
   "metadata": {},
   "source": [
    "## **Window Function**"
   ]
  },
  {
   "cell_type": "code",
   "execution_count": null,
   "metadata": {
    "vscode": {
     "languageId": "sql"
    }
   },
   "outputs": [],
   "source": [
    "-- Active: 1658960739017@@127.0.0.1@3306@LeetCode\n",
    "DROP TABLE IF EXISTS Employee;\n",
    "CREATE TABLE Employee (id INT, salary INT);\n",
    "INSERT INTO Employee (id, salary) VALUES\n",
    "    ('1', '100'),\n",
    "    ('2', '200'),\n",
    "    ('3', '300'),\n",
    "    ('4', '300');\n",
    "\n",
    "SELECT *,\n",
    "\t   RANK() OVER(ORDER BY salary DESC), \n",
    "       DENSE_RANK() OVER(ORDER BY salary DESC), \n",
    "       ROW_NUMBER() OVER(ORDER BY salary DESC) \n",
    "FROM Employee;"
   ]
  },
  {
   "cell_type": "markdown",
   "metadata": {},
   "source": [
    "| id | salary | RANK() | DENSE_RANK()| ROW_NUMBER()|\n",
    "|:--:|:------:|:------:|:-----------:|:-----------:|\n",
    "|  3 |\t300\t  |    1   |     1\t     |     1       |\n",
    "|  4 |  300\t  |    1   |     1\t     |     2       |\n",
    "|  2 |  200\t  |    3   |     2\t     |     3       |\n",
    "|  1 |  100\t  |    4   |     3\t     |     4       |\n"
   ]
  },
  {
   "cell_type": "markdown",
   "metadata": {},
   "source": [
    "RANK(): 并列-占位-顺延 <br/>\n",
    "DENSE_RANK(): 并列-不占位-顺延 <br/>\n",
    "ROW_NUMBER(): 先到先得-顺延 <br/>"
   ]
  },
  {
   "cell_type": "code",
   "execution_count": 1,
   "metadata": {},
   "outputs": [
    {
     "data": {
      "text/html": [
       "<style>\n",
       "table {float:left}\n",
       "</style>\n"
      ],
      "text/plain": [
       "<IPython.core.display.HTML object>"
      ]
     },
     "metadata": {},
     "output_type": "display_data"
    }
   ],
   "source": [
    "%%html\n",
    "<style>\n",
    "table {float:left}\n",
    "</style>"
   ]
  },
  {
   "cell_type": "markdown",
   "metadata": {},
   "source": [
    "## **PIVOT**\n"
   ]
  },
  {
   "cell_type": "markdown",
   "metadata": {},
   "source": [
    "CASE WHEN\n",
    "\n",
    "https://www.mssqltips.com/sqlservertip/7233/sql-pivot-sql-unpivot-examples-transform-data/\n",
    "\n",
    "https://modern-sql.com/use-case/pivot"
   ]
  },
  {
   "cell_type": "code",
   "execution_count": null,
   "metadata": {
    "vscode": {
     "languageId": "sql"
    }
   },
   "outputs": [],
   "source": [
    "## MS SQL SERVER \n",
    "SELECT <non-pivoted column>,  \n",
    "    [first pivoted column] AS <column name>,  \n",
    "    [second pivoted column] AS <column name>,  \n",
    "    ...  \n",
    "    [last pivoted column] AS <column name>  \n",
    "FROM  \n",
    "    (<SELECT query that produces the data>)   \n",
    "    AS <alias for the source query>  \n",
    "PIVOT  \n",
    "(  \n",
    "    <aggregation function>(<column being aggregated>)  \n",
    "FOR   \n",
    "[<column that contains the values that will become column headers>]   \n",
    "    IN ( [first pivoted column], [second pivoted column],  \n",
    "    ... [last pivoted column])  \n",
    ") AS <alias for the pivot table>  \n",
    "<optional ORDER BY clause>;  "
   ]
  },
  {
   "cell_type": "markdown",
   "metadata": {},
   "source": [
    "## **DATE**"
   ]
  },
  {
   "cell_type": "markdown",
   "metadata": {},
   "source": [
    "DATE_ADD <br/>\n",
    "DATE_SUB <br/>\n",
    "DATEDIFF "
   ]
  },
  {
   "cell_type": "markdown",
   "metadata": {},
   "source": [
    "## **ODD & EVEN Numbers**"
   ]
  },
  {
   "cell_type": "markdown",
   "metadata": {},
   "source": [
    "Even: <br/>\n",
    "MOD(NUM, 2) = 0 <br/>\n",
    " NUM % 2 = 0 <br/>\n",
    "\n",
    "Odd: <br/>\n",
    "MOD(NUM, 2) = 1 <br/>\n",
    "NUM % 2 = 1"
   ]
  },
  {
   "cell_type": "markdown",
   "metadata": {},
   "source": [
    "## **ROUND UP & DOWN**"
   ]
  },
  {
   "cell_type": "markdown",
   "metadata": {},
   "source": [
    "CEIL(ING) - Round up to nearest integer <br/>\n",
    "FLOOR - Round down to nearest interger"
   ]
  },
  {
   "cell_type": "markdown",
   "metadata": {},
   "source": []
  }
 ],
 "metadata": {
  "kernelspec": {
   "display_name": "Python 3 (ipykernel)",
   "language": "python",
   "name": "python3"
  },
  "language_info": {
   "codemirror_mode": {
    "name": "ipython",
    "version": 3
   },
   "file_extension": ".py",
   "mimetype": "text/x-python",
   "name": "python",
   "nbconvert_exporter": "python",
   "pygments_lexer": "ipython3",
   "version": "3.8.2"
  },
  "vscode": {
   "interpreter": {
    "hash": "85e4efe9063ed4b62e0af5c002e514e18481edf79e017b3b1894968950fcef3b"
   }
  }
 },
 "nbformat": 4,
 "nbformat_minor": 2
}
