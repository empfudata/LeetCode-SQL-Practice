{
 "cells": [
  {
   "cell_type": "markdown",
   "metadata": {},
   "source": [
    "# **LeetCode SQL Question Summary**"
   ]
  },
  {
   "cell_type": "markdown",
   "metadata": {},
   "source": [
    "Write a SQL query for a report that provides the pairs (actor_id, director_id) where the actor has cooperated with the director at least three times.\n",
    "ActorDirector table:\n",
    "+-------------+-------------+-------------+\n",
    "| actor_id    | director_id | timestamp   |\n",
    "+-------------+-------------+-------------+\n",
    "| 1           | 1           | 0           |\n",
    "| 1           | 1           | 1           |\n",
    "| 1           | 1           | 2           |\n",
    "| 1           | 2           | 3           |\n",
    "| 1           | 2           | 4           |\n",
    "| 2           | 1           | 5           |\n",
    "| 2           | 1           | 6           |\n",
    "+-------------+-------------+-------------+\n",
    "Result table: \n",
    "+-------------+-------------+\n",
    "| actor_id    | director_id |\n",
    "+-------------+-------------+\n",
    "| 1           | 1           |\n",
    "+-------------+-------------+\n",
    "Explanation: The only pair is (1, 1) where they cooperated exactly 3 times."
   ]
  },
  {
   "cell_type": "markdown",
   "metadata": {},
   "source": [
    "## 175.[Easy] Combine Two Tables "
   ]
  },
  {
   "cell_type": "markdown",
   "metadata": {},
   "source": [
    "***Write an SQL query to report the first name, last name, city, and state of each person in the Person table.<br/>\n",
    "If the address of a personId is not present in the Address table, report null instead.***\n",
    "\n",
    "Person table:\n",
    "| personId | lastName | firstName | \n",
    "|:--------:|:--------:|:---------:| \n",
    "| 1        | Wang     | Allen     | \n",
    "| 2        | Alice    | Bob       | \n",
    "\n",
    "Address table:\n",
    "| addressId | personId | city          | state      |\n",
    "|:---------:|:--------:|:-------------:|:----------:|\n",
    "| 1         | 2        | New York City | New York   |\n",
    "| 2         | 3        | Leetcode      | California |\n",
    "\n",
    "Output: \n",
    "| firstName | lastName | city          | state    |\n",
    "|:---------:|:--------:|:-------------:|:--------:|\n",
    "| Allen     | Wang     | Null          | Null     |\n",
    "| Bob       | Alice    | New York City | New York |\n",
    "\n",
    "Explanation:<br/>\n",
    "There is no address in the address table for the personId = 1 so we return null in their city and state.<br/>\n",
    "addressId = 1 contains information about the address of personId = 2."
   ]
  },
  {
   "cell_type": "code",
   "execution_count": null,
   "metadata": {
    "vscode": {
     "languageId": "sql"
    }
   },
   "outputs": [],
   "source": [
    "-- Active: 1658960739017@@127.0.0.1@3306@LeetCode\n",
    "-- Creating SQL Schema\n",
    "DROP TABLE IF EXISTS Person;\n",
    "CREATE TABLE Person (personId int, firstName varchar(255), lastName varchar(255));\n",
    "INSERT INTO Person (personId, lastName, firstName) VALUES \n",
    "('1', 'Wang', 'Allen'),\n",
    "('2', 'Alice', 'Bob');\n",
    "\n",
    "DROP TABLE IF EXISTS Address;\n",
    "CREATE TABLE Address (addressId int, personId int, city varchar(255), state varchar(255));\n",
    "INSERT INTO Address (addressId, personId, city, state) VALUES\n",
    "('1', '2', 'New York City', 'New York'),\n",
    "('2', '3', 'Leetcode', 'California');\n",
    "\n",
    "-- Write your MySQL query statement below\n",
    "SELECT p.firstName, p.lastName, a.city, a.state\n",
    "FROM Person p LEFT JOIN Address a\n",
    "ON p.personId = a.personId"
   ]
  },
  {
   "cell_type": "markdown",
   "metadata": {},
   "source": [
    "## 176.[Easy] Second Highest Salary"
   ]
  },
  {
   "cell_type": "markdown",
   "metadata": {},
   "source": [
    "***Write an SQL query to report the second highest salary from the Employee table.<br/>\n",
    "If there is no second highest salary, the query should report null.***\n",
    "\n",
    "Employee table:\n",
    "| id | salary |\n",
    "|:--:|:------:|\n",
    "| 1  | 100    |\n",
    "| 2  | 200    |\n",
    "| 3  | 300    |\n",
    "\n",
    "Output:\n",
    "| SecondHighestSalary |\n",
    "|:-------------------:|\n",
    "| 200                 |\n"
   ]
  },
  {
   "cell_type": "code",
   "execution_count": null,
   "metadata": {
    "vscode": {
     "languageId": "sql"
    }
   },
   "outputs": [],
   "source": [
    "-- Creating SQL Schema\n",
    "DROP TABLE IF EXISTS Employee;\n",
    "CREATE TABLE Employee (id INT, salary INT);\n",
    "INSERT INTO Employee (id, salary) VALUES\n",
    "    ('1', '100'),\n",
    "    ('2', '200'),\n",
    "    ('3', '300'),\n",
    "    ('4', '300');\n",
    "    \n",
    "-- Write your MySQL query statement below\n",
    "-- #1 WHERE, MAX\n",
    "SELECT MAX(salary) AS SecondHighestSalary\n",
    "FROM Employee\n",
    "WHERE salary < (SELECT MAX(salary)\n",
    "\t\t\t\tFROM Employee);\n",
    "                \n",
    "-- #2 LIMIT, OFFSET\n",
    "SELECT IFNULL((SELECT DISTINCT salary \n",
    "        FROM Employee\n",
    "        ORDER BY salary DESC\n",
    "        LIMIT 1 OFFSET 1), NULL) AS SecondHighestSalary; \n",
    "        -- LIMIT 1, 1 (# rows to skip (offset), # rows to show)\n",
    "        \n",
    "-- #3 DENSE_RANK()\n",
    "SELECT IFNULL((SELECT DISTINCT salary \n",
    "               FROM (SELECT salary,\n",
    "\t                 DENSE_RANK() OVER(ORDER BY salary DESC) AS 'nb_dense_rank'\n",
    "\t\t\t\t\t FROM Employee) AS temp\n",
    "\t\t\t   WHERE nb_dense_rank = 2), NULL) AS SecondHighestSalary;"
   ]
  },
  {
   "cell_type": "markdown",
   "metadata": {},
   "source": [
    "## 177.[Medium] Nth Highest Salary "
   ]
  },
  {
   "cell_type": "markdown",
   "metadata": {},
   "source": [
    "***Write an SQL query to report the nth highest salary from the Employee table.<br/>\n",
    "If there is no nth highest salary, the query should report null.***\n",
    "\n",
    "Employee table:\n",
    "| id | salary |\n",
    "|:--:|:------:|\n",
    "| 1  | 100    |\n",
    "| 2  | 200    |\n",
    "| 3  | 300    |\n",
    "\n",
    "n = 2\n",
    "\n",
    "Output: \n",
    "| getNthHighestSalary(2) |\n",
    "|:----------------------:|\n",
    "| 200                    |\n"
   ]
  },
  {
   "cell_type": "code",
   "execution_count": null,
   "metadata": {
    "vscode": {
     "languageId": "sql"
    }
   },
   "outputs": [],
   "source": [
    "-- Creating SQL Schema\n",
    "DROP TABLE IF EXISTS Employee;\n",
    "CREATE TABLE Employee(Id int, Salary int);\n",
    "INSERT INTO Employee (id, salary) VALUES \n",
    "    ('1', '100'),\n",
    "\t('2', '200'),\n",
    "\t('3', '300');\n",
    "\n",
    "-- Writing your MySQL statement below\n",
    "SELECT salary AS \"gerNthHighestSalary(2)\"\n",
    "FROM (SELECT *, IFNULL(DENSE_RANK() OVER(ORDER BY salary DESC), NULL) AS n\n",
    "\t  FROM Employee) AS temp\n",
    "WHERE n = 2;"
   ]
  },
  {
   "cell_type": "markdown",
   "metadata": {},
   "source": [
    "## 178.[Medium] Rank Scores "
   ]
  },
  {
   "cell_type": "markdown",
   "metadata": {},
   "source": [
    "***Write an SQL query to rank the scores. The ranking should be calculated according to the following rules:***<br/>\n",
    "- ***The scores should be ranked from the highest to the lowest.***\n",
    "- ***If there is a tie between two scores, both should have the same ranking.***\n",
    "- ***After a tie, the next ranking number should be the next consecutive integer value.***<br/>\n",
    "  ***In other words, there should be no holes between ranks.***\n",
    "- ***Return the result table ordered by score in descending order.***\n",
    "\n",
    "Input:<br/>\n",
    "Scores table:\n",
    "| id | score |\n",
    "|:--:|:-----:|\n",
    "| 1  | 3.50  |\n",
    "| 2  | 3.65  |\n",
    "| 3  | 4.00  |\n",
    "| 4  | 3.85  |\n",
    "| 5  | 4.00  |\n",
    "| 6  | 3.65  |\n",
    "\n",
    "Output: \n",
    "\n",
    "| score | rank |\n",
    "|:-----:|:----:|\n",
    "| 4.00  | 1    |\n",
    "| 4.00  | 1    |\n",
    "| 3.85  | 2    |\n",
    "| 3.65  | 3    |\n",
    "| 3.65  | 3    |\n",
    "| 3.50  | 4    |"
   ]
  },
  {
   "cell_type": "code",
   "execution_count": null,
   "metadata": {
    "vscode": {
     "languageId": "sql"
    }
   },
   "outputs": [],
   "source": [
    "-- Creating SQL Schema\n",
    "DROP TABLE IF EXISTS Scores;\n",
    "CREATE TABLE Scores (id INT, score DECIMAL(3,2));\n",
    "INSERT INTO Scores (id, score) VALUES\n",
    "    ('1', '3.5'),\n",
    "    ('2', '3.65'),\n",
    "    ('3', '4.0'),\n",
    "    ('4', '3.85'),\n",
    "    ('5', '4.0'),\n",
    "    ('6', '3.65');\n",
    "\n",
    "-- Write your MySQL query statement below\n",
    "-- #1 DENSE_RANK()\n",
    "SELECT score,\n",
    "\t   DENSE_RANK() OVER(ORDER BY score DESC) AS 'rank'\n",
    "FROM Scores;\n",
    "\n",
    "-- #2 COUNT, WHERE, ORDER BY\n",
    "SELECT score,\n",
    "\t  (SELECT COUNT(DISTINCT score) \n",
    "\t   FROM Scores \n",
    "\t   WHERE score >= s.score) AS 'rank'\n",
    "FROM Scores s\n",
    "ORDER BY Score DESC;"
   ]
  },
  {
   "cell_type": "markdown",
   "metadata": {},
   "source": [
    "## 180.[Medium] Consecutive Numbers "
   ]
  },
  {
   "cell_type": "markdown",
   "metadata": {},
   "source": [
    "***Write an SQL query to find all numbers that appear at least three times consecutively.***\n",
    "\n",
    "Input:<br/>\n",
    "Logs table:\n",
    "| id | num |\n",
    "|:--:|:---:|\n",
    "| 1  | 1   |\n",
    "| 2  | 1   |\n",
    "| 3  | 1   |\n",
    "| 4  | 2   |\n",
    "| 5  | 1   |\n",
    "| 6  | 2   |\n",
    "| 7  | 2   |\n",
    "\n",
    "Output: \n",
    "| ConsecutiveNums |\n",
    "|:---------------:|\n",
    "| 1               |\n",
    "\n",
    "Explanation: 1 is the only number that appears consecutively for at least three times."
   ]
  },
  {
   "cell_type": "code",
   "execution_count": null,
   "metadata": {
    "vscode": {
     "languageId": "sql"
    }
   },
   "outputs": [],
   "source": [
    "-- Creating SQL Schema\n",
    "DROP TABLE IF EXISTS Logs;\n",
    "CREATE TABLE Logs (id INT, num INT);\n",
    "INSERT INTO Logs (id, num) VALUES \n",
    "    ('1', '1'),\n",
    "    ('2', '1'),\n",
    "    ('3', '1'),\n",
    "    ('4', '2'),\n",
    "    ('5', '1'),\n",
    "    ('6', '2'),\n",
    "    ('7', '2');\n",
    "\n",
    "-- Write your MySQL query statement below\n",
    "-- #1 Selft Join 3 tables\n",
    "SELECT DISTINCT tb1.num AS ConsecutiveNums\n",
    "FROM Logs AS tb1\n",
    "LEFT JOIN Logs AS tb2\n",
    "ON tb1.id + 1 = tb2.id\n",
    "LEFT JOIN Logs AS tb3\n",
    "ON tb2.id + 1 = tb3.id -- ON tb1.id + 2 = tb3.id\n",
    "WHERE tb1.num = tb2.num \n",
    "AND tb2.num = tb3.num;  -- tb1.num = tb2.num = tb3.num WRONG\n",
    "\n",
    "-- #2 SELF JOIN\n",
    "SELECT DISTINCT tb1.num AS ConsecutiveNums\n",
    "FROM Logs AS tb1, Logs AS tb2, Logs AS tb3\n",
    "WHERE tb1.id + 1 = tb2.id AND tb2.id + 1 = tb3.id\n",
    "AND tb1.num = tb2.num AND tb2.num = tb3.num;\n",
    "\n",
    "-- #3 Window Function Using Lead\n",
    "SELECT DISTINCT num AS ConsecutiveNums\n",
    "FROM (SELECT *,\n",
    "\t         LEAD(num) OVER(ORDER BY id) AS Num_2,\n",
    "\t\t\t LEAD(num, 2) OVER(ORDER BY id) AS Num_3\n",
    "             FROM Logs) AS temp\n",
    "WHERE Num = Num_2 AND Num_2 = Num_3;\n",
    "\n",
    "-- #4 Smart way to solve\n",
    "SELECT DISTINCT Num AS ConsecutiveNums\n",
    "FROM Logs\n",
    "WHERE (Id + 1, Num) IN (SELECT * FROM Logs) \n",
    "AND (Id + 2, Num) IN (SELECT * FROM Logs);"
   ]
  },
  {
   "cell_type": "markdown",
   "metadata": {},
   "source": [
    "## 181.[Easy] Employees Earning More Than Their Managers \n"
   ]
  },
  {
   "cell_type": "markdown",
   "metadata": {},
   "source": [
    "***Write an SQL query to find the employees who earn more than their managers.***\n",
    "\n",
    "Input:<br/>\n",
    "Employee table:\n",
    "| id | name  | salary | managerId |\n",
    "|:--:|:-----:|:------:|:---------:|\n",
    "| 1  | Joe   | 70000  | 3         |\n",
    "| 2  | Henry | 80000  | 4         |\n",
    "| 3  | Sam   | 60000  | Null      |\n",
    "| 4  | Max   | 90000  | Null      |\n",
    "\n",
    "Output: \n",
    "| Employee |\n",
    "|:--------:|\n",
    "| Joe      |\n",
    "\n",
    "Explanation: Joe is the only employee who earns more than his manager."
   ]
  },
  {
   "cell_type": "code",
   "execution_count": null,
   "metadata": {
    "vscode": {
     "languageId": "sql"
    }
   },
   "outputs": [],
   "source": [
    "-- Active: 1658960739017@@127.0.0.1@3306@LeetCode\n",
    "-- Creating SQL Schema\n",
    "DROP TABLE IF EXISTS Employee;\n",
    "CREATE TABLE Employee (Id INT,  name VARCHAR(255), salary INT, managerId INT);\n",
    "INSERT INTO Employee (Id, name, salary, managerId) VALUES\n",
    "    (1,'Joe',70000,3),\n",
    "    (2,'Henry',80000,4),\n",
    "    (3,'Sam',60000,NULL),\n",
    "    (4,'Max',90000,NULL);\n",
    "\n",
    "-- Write your MySQL query statement below\n",
    "-- Check\n",
    "SELECT *\n",
    "FROM Employee e1 \n",
    "LEFT JOIN Employee e2\n",
    "ON e1.managerId = e2.Id;\n",
    "\n",
    "-- Final\n",
    "SELECT e1.name AS 'Employee' \n",
    "FROM Employee AS e1\n",
    "LEFT JOIN Employee AS e2\n",
    "ON e1.managerId = e2.id\n",
    "WHERE e1.salary > e2.salary;"
   ]
  },
  {
   "cell_type": "markdown",
   "metadata": {},
   "source": [
    "## 182.[Easy] Duplicate Emails "
   ]
  },
  {
   "cell_type": "markdown",
   "metadata": {},
   "source": [
    "***Write an SQL query to report all the duplicate emails.***\n",
    "\n",
    "Input:<br/>\n",
    "Person table:\n",
    "| id |   email   |\n",
    "|:--:|:---------:|\n",
    "| 1  | 'a@b.com' |\n",
    "| 2  | 'c@d.com' |\n",
    "| 3  | 'a@b.com' |\n",
    "\n",
    "Output: \n",
    "|   Email   |\n",
    "|:---------:|\n",
    "| 'a@b.com' |\n",
    "\n",
    "Explanation: 'a@b.com' is repeated two times."
   ]
  },
  {
   "cell_type": "code",
   "execution_count": null,
   "metadata": {
    "vscode": {
     "languageId": "sql"
    }
   },
   "outputs": [],
   "source": [
    "-- Active: 1658960739017@@127.0.0.1@3306@LeetCode\n",
    "-- Creating SQL Schema\n",
    "DROP TABLE IF EXISTS Person;\n",
    "CREATE TABLE Person (Id INT, Email VARCHAR(100));\n",
    "INSERT INTO Person (Id, Email) VALUES\n",
    "    (1,'a@b.com'),\n",
    "    (2,'c@d.com'),\n",
    "    (3,'a@b.com');\n",
    "\n",
    "-- Write your MySQL query statement below\n",
    "-- Check \n",
    "SELECT email AS \"Email\", COUNT(id)\n",
    "FROM Person\n",
    "GROUP BY email;\n",
    "\n",
    "-- Final\n",
    "SELECT email AS \"Email\"\n",
    "FROM Person\n",
    "GROUP BY email\n",
    "HAVING COUNT(id) > 1;"
   ]
  },
  {
   "cell_type": "markdown",
   "metadata": {},
   "source": [
    "## 183.[Easy] Customers Who Never Order "
   ]
  },
  {
   "cell_type": "markdown",
   "metadata": {},
   "source": [
    "***Write an SQL query to report all customers who never order anything.***\n",
    "\n",
    "Input:<br/> \n",
    "Customers table:\n",
    "| id | name  |\n",
    "|:--:|:-----:|\n",
    "| 1  | Joe   |\n",
    "| 2  | Henry |\n",
    "| 3  | Sam   |\n",
    "| 4  | Max   |\n",
    "\n",
    "Orders table:\n",
    "| id | customerId |\n",
    "|:--:|:----------:|\n",
    "| 1  | 3          |\n",
    "| 2  | 1          |\n",
    "\n",
    "Output: \n",
    "| Customers |\n",
    "|:---------:|\n",
    "| Henry     |\n",
    "| Max       |"
   ]
  },
  {
   "cell_type": "code",
   "execution_count": null,
   "metadata": {
    "vscode": {
     "languageId": "sql"
    }
   },
   "outputs": [],
   "source": [
    "-- Active: 1658960739017@@127.0.0.1@3306@LeetCode\n",
    "-- Creating SQL Schema\n",
    "DROP TABLE IF EXISTS Customers;\n",
    "CREATE TABLE Customers (Id INT, Name VARCHAR(100));\n",
    "INSERT INTO Customers (Id, Name) VALUES\n",
    "    (1,'Joe'),\n",
    "    (2,'Henry'),\n",
    "    (3,'Sam'),\n",
    "    (4,'Max');\n",
    "    \n",
    "DROP TABLE IF EXISTS Orders;\n",
    "CREATE TABLE Orders (Id INT, CustomerId INT);\n",
    "INSERT INTO Orders (Id, CustomerId) VALUES\n",
    "    (1,3),\n",
    "    (2,1);\n",
    "\n",
    "-- Write your MySQL query statement below\n",
    "-- Check\n",
    "SELECT c.Id AS CustomerID, c.Name, o.Id AS OrderID\n",
    "FROM Customers AS c\n",
    "LEFT JOIN Orders AS o\n",
    "ON c.id = o.customerId;\n",
    "\n",
    "-- Final\n",
    "SELECT c.name AS 'Customers' \n",
    "FROM Customers AS c\n",
    "LEFT JOIN Orders AS o\n",
    "ON c.id = o.customerId\n",
    "WHERE o.id IS NULL;"
   ]
  },
  {
   "cell_type": "markdown",
   "metadata": {},
   "source": [
    "## 184.[Medium] Department Highest Salary"
   ]
  },
  {
   "cell_type": "markdown",
   "metadata": {},
   "source": [
    "***Write an SQL query to find employees who have the highest salary in each of the departments.***\n",
    "\n",
    "Input:<br/>\n",
    "Employee table:\n",
    "| id | name  | salary | departmentId |\n",
    "|:--:|:-----:|:------:|:------------:|\n",
    "| 1  | Joe   | 70000  | 1            |\n",
    "| 2  | Jim   | 90000  | 1            |\n",
    "| 3  | Henry | 80000  | 2            |\n",
    "| 4  | Sam   | 60000  | 2            |\n",
    "| 5  | Max   | 90000  | 1            |\n",
    "\n",
    "Department table:\n",
    "| id | name  |\n",
    "|:--:|:-----:|\n",
    "| 1  | IT    |\n",
    "| 2  | Sales |\n",
    "\n",
    "Output: \n",
    "| Department | Employee | Salary |\n",
    "|:----------:|:--------:|:------:|\n",
    "| IT         | Jim      | 90000  |\n",
    "| Sales      | Henry    | 80000  |\n",
    "| IT         | Max      | 90000  |\n",
    "\n",
    "Explanation: Max and Jim both have the highest salary in the IT department and Henry has the highest salary in the Sales department."
   ]
  },
  {
   "cell_type": "code",
   "execution_count": null,
   "metadata": {
    "vscode": {
     "languageId": "sql"
    }
   },
   "outputs": [],
   "source": [
    "-- Active: 1658960739017@@127.0.0.1@3306@LeetCode\n",
    "-- Creating SQL Schema\n",
    "DROP TABLE IF EXISTS Employee;\n",
    "CREATE TABLE Employee (Id INT, Name VARCHAR(100), Salary INT, departmentId INT);\n",
    "INSERT INTO Employee VALUES\n",
    "    (1,'Joe',70000,1),\n",
    "    (2,'Jim',90000,1),\n",
    "    (3,'Henry',80000,2),\n",
    "    (4,'Sam',60000,2),\n",
    "    (5,'Max',90000,1);\n",
    "    \n",
    "DROP TABLE IF EXISTS Department;\n",
    "CREATE TABLE Department (Id INT, Name VARCHAR(100));\n",
    "INSERT INTO Department (Id, Name) VALUES\n",
    "    (1,'IT'),\n",
    "    (2,'Sales');\n",
    "\n",
    "-- Write your MySQL query statement below\n",
    "-- Check\n",
    "SELECT e2.departmentId, MAX(salary)\n",
    "FROM Employee AS e2\n",
    "WHERE e1.departmentId = e2.departmentId\n",
    "GROUP BY e2.departmentId;\n",
    "\n",
    "-- Final\n",
    "SELECT d.name AS \"Department\", e1.name AS \"Employee\", e1.salary\n",
    "FROM Employee e1 LEFT JOIN Department d\n",
    "ON e1.departmentId = d.id\n",
    "WHERE (d.id, e1.salary) IN (SELECT e2.departmentId, MAX(salary)\n",
    "                            FROM Employee AS e2\n",
    "                            WHERE e1.departmentId = e2.departmentId\n",
    "                            GROUP BY e2.departmentId);"
   ]
  },
  {
   "cell_type": "markdown",
   "metadata": {},
   "source": [
    "## 185.[Hard] Department Top Three Salaries "
   ]
  },
  {
   "cell_type": "markdown",
   "metadata": {},
   "source": [
    "***Write a SQL query to find employees who earn the top three salaries in each of the department.***\n",
    "\n",
    "Input:<br/>\n",
    "Employee table:\n",
    "| id | name  | salary | departmentId |\n",
    "|:--:|:-----:|:------:|:------------:|\n",
    "| 1  | Joe   | 85000  | 1            |\n",
    "| 2  | Henry | 80000  | 2            |\n",
    "| 3  | Sam   | 60000  | 2            |\n",
    "| 4  | Max   | 90000  | 1            |\n",
    "| 5  | Janet | 69000  | 1            |\n",
    "| 6  | Randy | 85000  | 1            |\n",
    "| 7  | Will  | 70000  | 1            |\n",
    "\n",
    "Department table:\n",
    "| id | name  |\n",
    "|:--:|:-----:|\n",
    "| 1  | IT    |\n",
    "| 2  | Sales |\n",
    "\n",
    "Output: \n",
    "| Department | Employee | Salary |\n",
    "|:----------:|:--------:|:------:|\n",
    "| IT         | Max      | 90000  |\n",
    "| IT         | Joe      | 85000  |\n",
    "| IT         | Randy    | 85000  |\n",
    "| IT         | Will     | 70000  |\n",
    "| Sales      | Henry    | 80000  |\n",
    "| Sales      | Sam      | 60000  |\n",
    "\n",
    "Explanation: \n",
    "In the IT department:<br/>\n",
    "- Max earns the highest unique salary\n",
    "- Both Randy and Joe earn the second-highest unique salary\n",
    "- Will earns the third-highest unique salary\n",
    "\n",
    "In the Sales department:<br/>\n",
    "- Henry earns the highest salary\n",
    "- Sam earns the second-highest salary\n",
    "- There is no third-highest salary as there are only two employees"
   ]
  },
  {
   "cell_type": "code",
   "execution_count": null,
   "metadata": {
    "vscode": {
     "languageId": "sql"
    }
   },
   "outputs": [],
   "source": [
    "-- Active: 1658960739017@@127.0.0.1@3306@LeetCode\n",
    "-- Creating SQL Schema\n",
    "DROP TABLE IF EXISTS Employee;\n",
    "CREATE TABLE Employee (Id INT, Name VARCHAR(100), Salary INT, departmentId INT);\n",
    "INSERT INTO Employee VALUES\n",
    "    (1,'Joe',85000,1),\n",
    "    (2,'Henry',80000,2),\n",
    "    (3,'Sam',60000,2),\n",
    "    (4,'Max',90000,1),\n",
    "    (5,'Janet',69000,1),\n",
    "    (6,'Randy',85000,1),\n",
    "    (7,'Will',70000,1);\n",
    "\n",
    "DROP TABLE IF EXISTS Department;\n",
    "CREATE TABLE Department (Id INT, Name VARCHAR(100));\n",
    "INSERT INTO Department (Id, Name) VALUES\n",
    "    (1,'IT'),\n",
    "    (2,'Sales');\n",
    "\n",
    "-- Write your MySQL query statement below\n",
    "-- #1 Solution \n",
    "-- #1 Compare every employee's salary with their collegues (include themslef) in same department\n",
    "-- List the person (Employee2) whose salary is higher or eaqual than themself  \n",
    "SELECT d.name AS Department, e1.name AS Employee1, e1.salary AS Salary1, e2.name AS Employee2, e2.salary AS Salary2\n",
    "FROM Department AS d LEFT JOIN Employee AS e1\n",
    "ON d.id = e1.departmentId LEFT JOIN Employee AS e2\n",
    "ON e1.departmentId = e2.departmentId\n",
    "WHERE e1.salary <= e2.salary\n",
    "ORDER BY d.name, e1.name;\n",
    "\n",
    "-- #2 List how many people get more (include themself) pay than themself\n",
    "SELECT d.name AS Department, e1.name AS Employee1, e1.salary AS Salary1, COUNT(DISTINCT e2.salary) AS Higher_Salary\n",
    "FROM Department AS d LEFT JOIN Employee AS e1\n",
    "ON d.id = e1.departmentId LEFT JOIN Employee AS e2\n",
    "ON e1.departmentId = e2.departmentId\n",
    "WHERE e1.salary <= e2.salary\n",
    "GROUP BY d.name, e1.name, e1.salary\n",
    "ORDER BY d.name, e1.name;\n",
    "\n",
    "-- #3 List the people who earn the top three salaries\n",
    "SELECT d.name AS Department, e1.name AS Employee, e1.salary AS Salary\n",
    "FROM Department AS d LEFT JOIN Employee AS e1\n",
    "ON d.id = e1.departmentId LEFT JOIN Employee AS e2\n",
    "ON e1.departmentId = e2.departmentId\n",
    "WHERE e1.salary <= e2.salary\n",
    "GROUP BY d.name, e1.name, e1.salary\n",
    "HAVING COUNT(DISTINCT e2.salary) <= 3\n",
    "ORDER BY d.name, e1.salary DESC;\n",
    "\n",
    "-- #2 Solution \n",
    "SELECT x.Department, x.Employee, x.Salary\n",
    "FROM (SELECT b.Name AS Department, a.Name AS Employee, a.Salary AS Salary, \n",
    "        DENSE_RANK() OVER (PARTITION BY b.Name ORDER BY a.Salary DESC) AS dept_rank\n",
    "      FROM Employee AS a\n",
    "      INNER JOIN Department AS b\n",
    "      ON a.DepartmentId = b.Id) AS x\n",
    "WHERE x.dept_rank <= 3;"
   ]
  },
  {
   "cell_type": "markdown",
   "metadata": {},
   "source": [
    "## 196.[Easy] Delete Duplicate Emails "
   ]
  },
  {
   "cell_type": "markdown",
   "metadata": {},
   "source": [
    "***Write an SQL query to delete all the duplicate emails, keeping only one unique email with the <br/> smallest id. Note that you are supposed to write a DELETE statement and not a SELECT one.***\n",
    "\n",
    "Input:<br/> \n",
    "Person table:\n",
    "| id |   email            |\n",
    "|:--:|:------------------:|\n",
    "| 1  | 'john@example.com' |\n",
    "| 2  | 'bob@example.com'  |\n",
    "| 3  | 'john@example.com' |\n",
    "\n",
    "Output: \n",
    "\n",
    "| id |   email            |\n",
    "|:--:|:------------------:|\n",
    "| 1  | 'john@example.com' |\n",
    "| 2  | 'bob@example.com'  |\n",
    "\n",
    "Explanation: 'john@example.com' is repeated two times. We keep the row with the smallest Id = 1."
   ]
  },
  {
   "cell_type": "code",
   "execution_count": null,
   "metadata": {
    "vscode": {
     "languageId": "sql"
    }
   },
   "outputs": [],
   "source": [
    "-- Creating SQL Schema\n",
    "DROP TABLE IF EXISTS Person;\n",
    "CREATE TABLE Person (Id int, Email varchar(255));\n",
    "INSERT INTO Person (id, email) VALUES\n",
    "\t('1', 'john@example.com'),\n",
    "\t('2', 'bob@example.com'),\n",
    "    ('3', 'john@example.com');\n",
    "\n",
    "-- Writing your MySQL statement below\n",
    "-- #1 From 2 tables\n",
    "DELETE p1\n",
    "FROM Person p1, Person p2\n",
    "WHERE p1.email = p2.email AND p1.id > p2.id;\n",
    "\n",
    "-- #2 Subquery\n",
    "DELETE FROM Person \n",
    "WHERE id NOT IN (SELECT *\n",
    "\t\t\t\t FROM (SELECT min(id)\n",
    "\t\t\t\t\t   FROM Person\n",
    "\t\t\t\t\t   GROUP BY email)AS temp);\n",
    "SELECT * FROM Person;\t\t\t\t"
   ]
  },
  {
   "cell_type": "markdown",
   "metadata": {},
   "source": [
    "## 197.[Easy] Rising Temperature \n"
   ]
  },
  {
   "cell_type": "markdown",
   "metadata": {},
   "source": [
    "***Write an SQL query to find all dates' id with higher temperatures compared to its previous dates (yesterday).***\n",
    "\n",
    "Weather table:\n",
    "| id | recordDate | temperature |\n",
    "|:--:|:----------:|:-----------:|\n",
    "| 1  | 2015-01-01 | 10          |\n",
    "| 2  | 2015-01-02 | 25          |\n",
    "| 3  | 2015-01-03 | 20          |\n",
    "| 4  | 2015-01-04 | 30          |\n",
    "\n",
    "Output: \n",
    "| id |\n",
    "|:--:|\n",
    "| 2  |\n",
    "| 4  |\n",
    "\n",
    "Explanation:<br/>\n",
    "In 2015-01-02, the temperature was higher than the previous day (10 -> 25).<br/>\n",
    "In 2015-01-04, the temperature was higher than the previous day (20 -> 30)."
   ]
  },
  {
   "cell_type": "code",
   "execution_count": null,
   "metadata": {
    "vscode": {
     "languageId": "sql"
    }
   },
   "outputs": [],
   "source": [
    "-- Active: 1658960739017@@127.0.0.1@3306@LeetCode\n",
    "-- Creating SQL Schema\n",
    "DROP TABLE IF EXISTS Weather;\n",
    "CREATE TABLE Weather (id INT, recordDate DATE, temperature INT);\n",
    "TRUNCATE TABLE Weather;\n",
    "INSERT INTO Weather (id, recordDate, temperature) VALUES\n",
    "    (1,'2015-01-01',10),   \n",
    "\t(2,'2015-01-02',25), \n",
    "\t(3,'2015-01-03',20),   \n",
    "\t(4,'2015-01-04',30);\n",
    "\n",
    "-- Write your MySQL query statement below\n",
    "SELECT tod.id \n",
    "FROM Weather AS tod\n",
    "LEFT JOIN Weather AS yes\n",
    "-- today = yesterday + 1 day\n",
    "ON tod.recordDate = ADDDATE(yes.recordDate, INTERVAL 1 DAY)\n",
    "WHERE tod.temperature > yes.temperature;"
   ]
  },
  {
   "cell_type": "markdown",
   "metadata": {},
   "source": [
    "## 262.[Hard] Trips and Users"
   ]
  },
  {
   "cell_type": "markdown",
   "metadata": {},
   "source": [
    "***The cancellation rate is computed by dividing the number of canceled (by client or driver) requests with unbanned users by the total number of requests with unbanned users on that day.***\n",
    "\n",
    "***Write a SQL query to find the cancellation rate of requests with unbanned users (both client and driver must not be banned) each day between \"2013-10-01\" and \"2013-10-03\". Round Cancellation Rate to two decimal points.***\n",
    "\n",
    "Trips table:\n",
    "| id | client_id | driver_id | city_id | status              | request_at |\n",
    "|:--:|:---------:|:---------:|:-------:|:-------------------:|:----------:|\n",
    "| 1  | 1         | 10        | 1       | completed           | 2013-10-01 |\n",
    "| 2  | 2         | 11        | 1       | cancelled_by_driver | 2013-10-01 |\n",
    "| 3  | 3         | 12        | 6       | completed           | 2013-10-01 |\n",
    "| 4  | 4         | 13        | 6       | cancelled_by_client | 2013-10-01 |\n",
    "| 5  | 1         | 10        | 1       | completed           | 2013-10-02 |\n",
    "| 6  | 2         | 11        | 6       | completed           | 2013-10-02 |\n",
    "| 7  | 3         | 12        | 6       | completed           | 2013-10-02 |\n",
    "| 8  | 2         | 12        | 12      | completed           | 2013-10-03 |\n",
    "| 9  | 3         | 10        | 12      | completed           | 2013-10-03 |\n",
    "| 10 | 4         | 13        | 12      | cancelled_by_driver | 2013-10-03 |\n",
    "\n",
    "Users table:\n",
    "| users_id | banned | role   |\n",
    "|:--------:|:------:|:------:|\n",
    "| 1        | No     | client |\n",
    "| 2        | Yes    | client |\n",
    "| 3        | No     | client |\n",
    "| 4        | No     | client |\n",
    "| 10       | No     | driver |\n",
    "| 11       | No     | driver |\n",
    "| 12       | No     | driver |\n",
    "| 13       | No     | driver |\n",
    "\n",
    "Result table: \n",
    "| Day        | Cancellation Rate |\n",
    "|:----------:|:-----------------:|\n",
    "| 2013-10-01 | 0.33              |\n",
    "| 2013-10-02 | 0.00              |\n",
    "| 2013-10-03 | 0.50              |\n",
    "\n",
    "Explanation:<br/> \n",
    "On 2013-10-01:\n",
    "  - There were 4 requests in total, 2 of which were canceled.\n",
    "  - However, the request with Id=2 was made by a banned client (User_Id=2), so it is ignored in the calculation.\n",
    "  - Hence there are 3 unbanned requests in total, 1 of which was canceled.\n",
    "  - The Cancellation Rate is (1 / 3) = 0.33\n",
    "\n",
    "On 2013-10-02:\n",
    "  - There were 3 requests in total, 0 of which were canceled.\n",
    "  - The request with Id=6 was made by a banned client, so it is ignored.\n",
    "  - Hence there are 2 unbanned requests in total, 0 of which were canceled.\n",
    "  - The Cancellation Rate is (0 / 2) = 0.00\n",
    "  \n",
    "On 2013-10-03:\n",
    "  - There were 3 requests in total, 1 of which was canceled.\n",
    "  - The request with Id=8 was made by a banned client, so it is ignored.\n",
    "  - Hence there are 2 unbanned request in total, 1 of which were canceled.\n",
    "  - The Cancellation Rate is (1 / 2) = 0.50\n",
    "  "
   ]
  },
  {
   "cell_type": "code",
   "execution_count": null,
   "metadata": {
    "vscode": {
     "languageId": "sql"
    }
   },
   "outputs": [],
   "source": [
    "-- Active: 1658960739017@@127.0.0.1@3306@LeetCode\n",
    " -- Creating SQL Schema\n",
    "DROP TABLE IF EXISTS Trips;\n",
    "CREATE TABLE Trips (`Id` INTEGER, `Client_Id` INTEGER, `Driver_Id` INTEGER, `City_Id` INTEGER, `Status` VARCHAR(19), `Request_at` DATETIME);\n",
    "INSERT INTO Trips (`Id`, `Client_Id`, `Driver_Id`, `City_Id`, `Status`, `Request_at`) VALUES\n",
    "\t('1', '1', '10', '1', 'completed', '2013-10-01'),\n",
    "\t('2', '2', '11', '1', 'cancelled_by_driver', '2013-10-01'),\n",
    "\t('3', '3', '12', '6', 'completed', '2013-10-01'),\n",
    "\t('4', '4', '13', '6', 'cancelled_by_client', '2013-10-01'),\n",
    "\t('5', '1', '10', '1', 'completed', '2013-10-02'),\n",
    "\t('6', '2', '11', '6', 'completed', '2013-10-02'),\n",
    "\t('7', '3', '12', '6', 'completed', '2013-10-02'),\n",
    "\t('8', '2', '12', '12', 'completed', '2013-10-03'),\n",
    "\t('9', '3', '10', '12', 'completed', '2013-10-03'),\n",
    "\t('10', '4', '13', '12', 'cancelled_by_driver', '2013-10-03');\n",
    "\n",
    "DROP TABLE IF EXISTS Users;\n",
    "CREATE TABLE Users (`Users_Id` INTEGER, `Banned` VARCHAR(3), `Role` VARCHAR(6));\n",
    "INSERT INTO Users (`Users_Id`, `Banned`, `Role`) VALUES\n",
    "\t('1', 'No', 'client'),\n",
    "\t('2', 'Yes', 'client'),\n",
    "\t('3', 'No', 'client'),\n",
    "\t('4', 'No', 'client'),\n",
    "\t('10', 'No', 'driver'),\n",
    "\t('11', 'No', 'driver'),\n",
    "\t('12', 'No', 'driver'),\n",
    "\t('13', 'No', 'driver');\n",
    "\t\n",
    "-- Writing your MySQL query statement below\n",
    "SELECT DATE_FORMAT(t.request_at, '%Y-%m-%d') AS Day, \n",
    "ROUND(SUM(CASE WHEN t.status != 'completed' THEN 1 ELSE 0 END)/COUNT(*), 2) AS \"Cancellation Rate\"\n",
    "FROM Trips t INNER JOIN Users u1 \n",
    "ON t.client_id = u1.users_id AND u1.banned = \"No\"\n",
    "INNER JOIN Users u2\n",
    "ON t.driver_id = u2.users_id AND u2.banned = \"No\"\n",
    "WHERE t.request_at BETWEEN \"2013-10-01\" AND \"2013-10-03\"\n",
    "GROUP BY t.request_at\n",
    "ORDER BY Day;"
   ]
  },
  {
   "cell_type": "markdown",
   "metadata": {},
   "source": [
    "## 511.[Easy] Game Play Analysis I"
   ]
  },
  {
   "cell_type": "markdown",
   "metadata": {},
   "source": [
    "***Write an SQL query to report the first login date for each player.***\n",
    "\n",
    "Activity table:\n",
    "| player_id | device_id | event_date | games_played |\n",
    "|:---------:|:---------:|:----------:|:------------:|\n",
    "| 1         | 2         | 2016-03-01 | 5            |\n",
    "| 1         | 2         | 2016-05-02 | 6            |\n",
    "| 2         | 3         | 2017-06-25 | 1            |\n",
    "| 3         | 1         | 2016-03-02 | 0            |\n",
    "| 3         | 4         | 2018-07-03 | 5            |\n",
    "\n",
    "Result table: \n",
    "| player_id | first_login |\n",
    "|:---------:|:-----------:|\n",
    "| 1         | 2016-03-01  |\n",
    "| 2         | 2017-06-25  |\n",
    "| 3         | 2016-03-02  |"
   ]
  },
  {
   "cell_type": "code",
   "execution_count": null,
   "metadata": {
    "vscode": {
     "languageId": "sql"
    }
   },
   "outputs": [],
   "source": [
    "-- Creating MySQL Schema\n",
    "DROP TABLE IF EXISTS Activity;\n",
    "CREATE TABLE Activity (player_id INT, device_id INT, event_date DATE, games_played INT);\n",
    "INSERT INTO Activity (player_id, device_id, event_date, games_played) VALUES \n",
    "\t('1', '2', '2016-03-01', '5'),\n",
    "\t('1', '2', '2016-05-02', '6'),\n",
    "\t('2', '3', '2017-06-25', '1'),\n",
    "\t('3', '1', '2016-03-02', '0'),\n",
    "\t('3', '4', '2018-07-03', '5');\n",
    "    \n",
    "-- Writing your MySQL query statement below\n",
    "SELECT player_id, MIN(event_date) AS first_login\n",
    "FROM Activity\n",
    "GROUP BY player_id;"
   ]
  },
  {
   "cell_type": "markdown",
   "metadata": {},
   "source": [
    "## 512.[Easy] Game Play Analysis II "
   ]
  },
  {
   "cell_type": "markdown",
   "metadata": {},
   "source": [
    "***Write a SQL query that reports the device that is first logged in for each player.***\n",
    "\n",
    "Activity table:\n",
    "| player_id | device_id | event_date | games_played |\n",
    "|:---------:|:---------:|:----------:|:------------:|\n",
    "| 1         | 2         | 2016-03-01 | 5            |\n",
    "| 1         | 2         | 2016-05-02 | 6            |\n",
    "| 2         | 3         | 2017-06-25 | 1            |\n",
    "| 3         | 1         | 2016-03-02 | 0            |\n",
    "| 3         | 4         | 2018-07-03 | 5            |\n",
    "\n",
    "Result table:\n",
    "| player_id | device_id |\n",
    "|:---------:|:---------:|\n",
    "| 1         | 2         |\n",
    "| 2         | 3         |\n",
    "| 3         | 1         |\n"
   ]
  },
  {
   "cell_type": "code",
   "execution_count": null,
   "metadata": {
    "vscode": {
     "languageId": "sql"
    }
   },
   "outputs": [],
   "source": [
    "-- Creating SQL Schema\n",
    "DROP TABLE IF EXISTS Activity;\n",
    "CREATE TABLE Activity (player_id INT, device_id INT, event_date DATE, games_played INT);\n",
    "INSERT INTO Activity (player_id, device_id, event_date, games_played) VALUES \n",
    "\t('1', '2', '2016-03-01', '5'),\n",
    "\t('1', '2', '2016-05-02', '6'),\n",
    "\t('2', '3', '2017-06-25', '1'),\n",
    "\t('3', '1', '2016-03-02', '0'),\n",
    "\t('3', '4', '2018-07-03', '5');\n",
    "    \n",
    "-- Writing your MySQL query statement below\n",
    "SELECT player_id, device_id\n",
    "FROM Activity \n",
    "WHERE (player_id, event_date)\n",
    "IN (SELECT player_id, MIN(event_date) AS first_login\n",
    "\tFROM Activity\n",
    "\tGROUP BY player_id);"
   ]
  },
  {
   "cell_type": "markdown",
   "metadata": {},
   "source": [
    "## 534.[Medium] Game Play Analysis III \n"
   ]
  },
  {
   "cell_type": "markdown",
   "metadata": {},
   "source": [
    "***Write an SQL query that reports for each player and date, how many games played so far by the player.<br/>\n",
    "That is, the total number of games played by the player until that date. Check the example for clarity.***\n",
    "\n",
    "Input:<br/>\n",
    "Activity table:\n",
    "| player_id | device_id | event_date | games_played |\n",
    "|:---------:|:---------:|:----------:|:------------:|\n",
    "| 1         | 2         | 2016-03-01 | 5            |\n",
    "| 1         | 2         | 2016-05-02 | 6            |\n",
    "| 1         | 3         | 2017-06-25 | 1            |\n",
    "| 3         | 1         | 2016-03-02 | 0            |\n",
    "| 3         | 4         | 2018-07-03 | 5            |\n",
    "\n",
    "Output:\n",
    "| player_id | event_date | games_played_so_far |\n",
    "|:---------:|:----------:|:-------------------:|\n",
    "| 1         | 2016-03-01 | 5                   |\n",
    "| 1         | 2016-05-02 | 11                  |\n",
    "| 1         | 2017-06-25 | 12                  |\n",
    "| 3         | 2016-03-02 | 0                   |\n",
    "| 3         | 2018-07-03 | 5                   |\n",
    "\n",
    "For the player with id 1, 5 + 6 = 11 games played by 2016-05-02, and 5 + 6 + 1 = 12 games played by 2017-06-25.<br/>\n",
    "For the player with id 3, 0 + 5 = 5 games played by 2018-07-03."
   ]
  },
  {
   "cell_type": "code",
   "execution_count": null,
   "metadata": {
    "vscode": {
     "languageId": "sql"
    }
   },
   "outputs": [],
   "source": [
    "-- Active: 1658960739017@@127.0.0.1@3306@LeetCode\n",
    "-- Creating SQL Schema\n",
    "DROP TABLE IF EXISTS Activity;\n",
    "CREATE TABLE Activity (player_id INT, device_id INT, event_date date, games_played INT);\n",
    "INSERT INTO Activity (player_id, device_id, event_date, games_played) VALUES\n",
    "    (1, 2, \"2016-03-01\", 5),\n",
    "    (1, 2, \"2016-05-02\", 6),\n",
    "    (1, 3, \"2017-06-25\", 1),\n",
    "    (3, 1, \"2016-03-02\", 0),\n",
    "    (3, 4, \"2018-07-03\", 5);\n",
    "\n",
    "-- Write your MySQL query statement below\n",
    "SELECT player_id, event_date, \n",
    "SUM(games_played) OVER (PARTITION BY player_id ORDER BY event_date) AS games_played_so_far\n",
    "FROM activity;\n"
   ]
  },
  {
   "cell_type": "markdown",
   "metadata": {},
   "source": [
    "## 550.[Medium] Game Play Analysis IV "
   ]
  },
  {
   "cell_type": "markdown",
   "metadata": {},
   "source": [
    "***Write an SQL query that reports the fraction of players that logged in again on the day after the day they first logged in,<br/>rounded to 2 decimal places.<br/>\n",
    "In other words, you need to count the number of players that logged in for at least two consecutive days starting from their first<br/> login date, then divide that number by the total number of players.***\n",
    "\n",
    "Input:<br/>\n",
    "Activity table:\n",
    "| player_id | device_id | event_date | games_played |\n",
    "|:---------:|:---------:|:----------:|:------------:|\n",
    "| 1         | 2         | 2016-03-01 | 5            |\n",
    "| 1         | 2         | 2016-03-02 | 6            |\n",
    "| 2         | 3         | 2017-06-25 | 1            |\n",
    "| 3         | 1         | 2016-03-02 | 0            |\n",
    "| 3         | 4         | 2018-07-03 | 5            |\n",
    "\n",
    "Output:\n",
    "| fraction  |\n",
    "|:---------:|\n",
    "| 0.33      |\n",
    "\n",
    "Only the player with id 1 logged back in after the first day he had logged in so the answer is 1/3 = 0.33"
   ]
  },
  {
   "cell_type": "code",
   "execution_count": null,
   "metadata": {
    "vscode": {
     "languageId": "sql"
    }
   },
   "outputs": [],
   "source": [
    "-- Active: 1658960739017@@127.0.0.1@3306@LeetCode\n",
    "-- Creating SQL Schema\n",
    "DROP TABLE IF EXISTS Activity;\n",
    "CREATE TABLE Activity (player_id INT, device_id INT, event_date date, ames_played INT);\n",
    "INSERT INTO Activity (player_id, device_id, event_date, ames_played) VALUES\n",
    "    (1, 2, \"2016-03-01\", 5),\n",
    "    (1, 2, \"2016-03-02\", 6),\n",
    "    (2, 3, \"2017-06-25\", 1),\n",
    "    (3, 1, \"2016-03-02\", 0),\n",
    "    (3, 4, \"2018-07-03\", 5);\n",
    "    \n",
    "-- Write your MySQL query statement below\n",
    "-- #1 List first login dates for each player\n",
    "SELECT player_id, MIN(event_date) AS first_login_date\n",
    "FROM Activity \n",
    "GROUP BY player_id;\n",
    "\n",
    "-- #2 table a: first login, table b: all information\n",
    "-- a.first_login_date + 1 = b.event_date means login next day\n",
    "SELECT ROUND(COUNT(DISTINCT b.player_id) / COUNT(DISTINCT a.player_id),2) AS fraction \n",
    "FROM (SELECT player_id, MIN(event_date) AS first_login_date\n",
    "      FROM Activity \n",
    "      GROUP BY player_id) AS a LEFT JOIN Activity AS b \n",
    "ON a.player_id = b.player_id \n",
    "AND DATE_ADD(a. first_login_date, INTERVAL 1 DAY) = b.event_date;"
   ]
  },
  {
   "cell_type": "markdown",
   "metadata": {},
   "source": [
    "## 569.[Hard] Median Employee Salary "
   ]
  },
  {
   "cell_type": "markdown",
   "metadata": {},
   "source": [
    "***Write a SQL query to find the median salary of each company.<br/> \n",
    "Bonus points if you can solve it without using any built-in SQL functions.***\n",
    "\n",
    "Input:<br/>\n",
    "Employee Table:\n",
    "|Id   | Company    | Salary |\n",
    "|:---:|:----------:|:------:|\n",
    "|1    | A          | 2341   |\n",
    "|2    | A          | 341    |\n",
    "|3    | A          | 15     |\n",
    "|4    | A          | 15314  |\n",
    "|5    | A          | 451    |\n",
    "|6    | A          | 513    |\n",
    "|7    | B          | 15     |\n",
    "|8    | B          | 13     |\n",
    "|9    | B          | 1154   |\n",
    "|10   | B          | 1345   |\n",
    "|11   | B          | 1221   |\n",
    "|12   | B          | 234    |\n",
    "|13   | C          | 2345   |\n",
    "|14   | C          | 2645   |\n",
    "|15   | C          | 2645   |\n",
    "|16   | C          | 2652   |\n",
    "|17   | C          | 65     |\n",
    "\n",
    "Output:\n",
    "|Id   | Company    | Salary |\n",
    "|:---:|:----------:|:------:|\n",
    "|5    | A          | 451    |\n",
    "|6    | A          | 513    |\n",
    "|12   | B          | 234    |\n",
    "|9    | B          | 1154   |\n",
    "|14   | C          | 2645   |"
   ]
  },
  {
   "cell_type": "code",
   "execution_count": null,
   "metadata": {
    "vscode": {
     "languageId": "sql"
    }
   },
   "outputs": [],
   "source": [
    "-- Creating SQL Schema\n",
    "DROP TABLE IF EXISTS Employee;\n",
    "CREATE TABLE  Employee (Id INT, Company VARCHAR(100), Salary INT);\n",
    "INSERT INTO Employee (Id, Company, Salary) VALUES\n",
    "\t('1','A','2341'),\n",
    "\t('2','A','341'),\n",
    "\t('3','A','15'),\n",
    "\t('4','A','15314'),\n",
    "\t('5','A','451'),\n",
    "\t('6','A','513'),\n",
    "\t('7','B','15'),\n",
    "\t('8','B','13'),\n",
    "\t('9','B','1154'),\n",
    "\t('10','B','1345'),\n",
    "\t('11','B','1221'),\n",
    "\t('12','B','234'),\n",
    "\t('13','C','2345'),\n",
    "\t('14','C','2645'),\n",
    "\t('15','C','2645'),\n",
    "\t('16','C','2652'),\n",
    "\t('17','C','65');\n",
    "\n",
    "-- Write your MySQL query statement below\n",
    "SELECT Id, Company, Salary FROM\n",
    "(SELECT *,\n",
    "\t   ROW_NUMBER() OVER(PARTITION BY company ORDER BY Salary) AS rank_num,\n",
    "\t   COUNT(*) OVER(PARTITION BY company) AS total_num \n",
    "FROM Employee) AS temp\n",
    "WHERE (total_num % 2 = 0 AND rank_num = total_num/2)\n",
    "   OR (total_num % 2 = 0 AND rank_num = total_num/2 + 1)\n",
    "   OR (total_num % 2 = 1 AND rank_num = (total_num + 1)/2);\n",
    "\n",
    "-- Bonus Solution\n",
    "SELECT t1.Id AS Id, t1.Company, t1.Salary \n",
    "FROM Employee AS t1 JOIN Employee AS t2 \n",
    "ON t1.Company = t2.Company\n",
    "GROUP BY t1.Id, t1.Company, t1.Salary \n",
    "HAVING abs(SUM(CASE WHEN t2.Salary<t1.Salary THEN 1 \n",
    "\t\t\t\t\tWHEN t2.Salary>t1.Salary THEN -1\n",
    "\t\t\t\t\tWHEN t2.Salary=t1.Salary AND t2.Id<t1.Id THEN 1 \n",
    "                    WHEN t2.Salary=t1.Salary AND t2.Id>t1.Id THEN -1 \n",
    "                    ELSE 0 \n",
    "\t\t\t   END)) <= 1\n",
    "ORDER BY t1.Company, t1.Salary, t1.Id;"
   ]
  },
  {
   "cell_type": "markdown",
   "metadata": {},
   "source": [
    "## 570.[Medium] Managers with at Least 5 Direct Reports"
   ]
  },
  {
   "cell_type": "markdown",
   "metadata": {},
   "source": [
    "***Write a SQL query that finds out managers with at least 5 direct report.***\n",
    "\n",
    "Employee table:\n",
    "|Id    |Name \t  |Department |ManagerId |\n",
    "|:----:|:--------:|:---------:|:--------:|\n",
    "|101   |John \t  |A \t      |null      |\n",
    "|102   |Dan \t  |A \t      |101       |\n",
    "|103   |James \t  |A \t      |101       |\n",
    "|104   |Amy \t  |A \t      |101       |\n",
    "|105   |Anne \t  |A \t      |101       |\n",
    "|106   |Ron \t  |B \t      |101       |\n",
    "\n",
    "Result table:\n",
    "| Name  |\n",
    "|:-----:|\n",
    "| John  |\n",
    "\n",
    "Note:\n",
    "No one would report to himself."
   ]
  },
  {
   "cell_type": "code",
   "execution_count": null,
   "metadata": {
    "vscode": {
     "languageId": "sql"
    }
   },
   "outputs": [],
   "source": [
    "-- Creating SQL Schema\n",
    "DROP TABLE IF EXISTS Employee;\n",
    "CREATE TABLE Employee (`Id` INTEGER, `Name` VARCHAR(5), `Department` VARCHAR(1), `ManagerId` VARCHAR(4));\n",
    "INSERT INTO Employee (`Id`, `Name`, `Department`, `ManagerId`) VALUES\n",
    "\t('101', 'John', 'A', 'null'),\n",
    "\t('102', 'Dan', 'A', '101'),\n",
    "\t('103', 'James', 'A', '101'),\n",
    "\t('104', 'Amy', 'A', '101'),\n",
    "\t('105', 'Anne', 'A', '101'),\n",
    "\t('106', 'Ron', 'B', '101');\n",
    "\n",
    "-- Writing your MySQL query statement below\n",
    "-- Check\n",
    "SELECT e1.*, e2.* \n",
    "FROM employee e1 INNER JOIN employee e2\n",
    "ON e1.Id = e2.ManagerId;\n",
    "\n",
    "-- Final\n",
    "SELECT e1.name\n",
    "FROM employee e1 INNER JOIN employee e2\n",
    "ON e1.Id = e2.ManagerId\n",
    "GROUP BY e1.name\n",
    "HAVING COUNT(e2.id) >= 5;"
   ]
  },
  {
   "cell_type": "markdown",
   "metadata": {},
   "source": [
    "## 571.[Hard] Find Median Given Frequency of Numbers"
   ]
  },
  {
   "cell_type": "markdown",
   "metadata": {},
   "source": [
    "***Write a query to find the median of all numbers and name the result as median.***\n",
    "\n",
    "Numbers table:\n",
    "|  Number  |  Frequency  |\n",
    "|:--------:|:-----------:|\n",
    "|  0       |  7          |\n",
    "|  1       |  1          |\n",
    "|  2       |  3          |\n",
    "|  3       |  1          |\n",
    "\n",
    "In this table, the numbers are 0, 0, 0, 0, 0, 0, 0, 1, 2, 2, 2, 3, so the median is (0 + 0) / 2 = 0.\n",
    "\n",
    "Result table:\n",
    "| median |\n",
    "|:------:|\n",
    "| 0.0000 |"
   ]
  },
  {
   "cell_type": "code",
   "execution_count": 2,
   "metadata": {
    "vscode": {
     "languageId": "sql"
    }
   },
   "outputs": [
    {
     "ename": "SyntaxError",
     "evalue": "invalid syntax (4282713654.py, line 1)",
     "output_type": "error",
     "traceback": [
      "\u001b[0;36m  Input \u001b[0;32mIn [2]\u001b[0;36m\u001b[0m\n\u001b[0;31m    -- Creating SQL Schema\u001b[0m\n\u001b[0m                ^\u001b[0m\n\u001b[0;31mSyntaxError\u001b[0m\u001b[0;31m:\u001b[0m invalid syntax\n"
     ]
    }
   ],
   "source": [
    "-- Creating SQL Schema\n",
    "DROP TABLE IF EXISTS Numbers;\n",
    "CREATE TABLE Numbers (`Number` INTEGER, `Frequency` INTEGER);\n",
    "INSERT INTO Numbers (`Number`, `Frequency`) VALUES\n",
    "\t('0', '7'),\n",
    "\t('1', '1'),\n",
    "\t('2', '3'),\n",
    "\t('3', '1');\n",
    "\n",
    "-- Writing your MySQL query statement below\n",
    "SELECT ROUND(SUM(number)/COUNT(number), 2) AS median\n",
    "FROM (SELECT number, frequency,\n",
    "             SUM(frequency) OVER (ORDER BY number) AS cumulative_num,\n",
    "             SUM(frequency) OVER () AS total_num\n",
    "             FROM numbers) AS temp\n",
    "WHERE total_num/2.0 BETWEEN cumulative_num - frequency AND cumulative_num;"
   ]
  },
  {
   "cell_type": "markdown",
   "metadata": {},
   "source": [
    "## 574.[Medium] Winning Candidate"
   ]
  },
  {
   "cell_type": "markdown",
   "metadata": {},
   "source": [
    "***Write a sql to find the name of the winning candidate.***\n",
    "\n",
    "Candidate table:\n",
    "| id  | Name    |\n",
    "|:---:|:-------:|\n",
    "| 1   | A       |\n",
    "| 2   | B       |\n",
    "| 3   | C       |\n",
    "| 4   | D       |\n",
    "| 5   | E       |\n",
    "\n",
    "Vote table:\n",
    "| id  | CandidateId  |\n",
    "|:---:|:------------:|\n",
    "| 1   |     2        |\n",
    "| 2   |     4        |\n",
    "| 3   |     3        |\n",
    "| 4   |     2        |\n",
    "| 5   |     5        |\n",
    "\n",
    "Reuslt table:\n",
    "| Name |\n",
    "|:----:|\n",
    "| B    |\n",
    "\n",
    "Notes:\n",
    "You may assume there is no tie, in other words there will be only one winning candidate."
   ]
  },
  {
   "cell_type": "code",
   "execution_count": null,
   "metadata": {
    "vscode": {
     "languageId": "sql"
    }
   },
   "outputs": [],
   "source": [
    "-- Creating SQL Schema\n",
    "DROP TABLE IF EXISTS Candidate;\n",
    "CREATE TABLE Candidate (`id` INTEGER, `Name` VARCHAR(1));\n",
    "INSERT INTO Candidate (`id`, `Name`) VALUES\n",
    "\t('1', 'A'),\n",
    "\t('2', 'B'),\n",
    "\t('3', 'C'),\n",
    "\t('4', 'D'),\n",
    "\t('5', 'E');\n",
    "  \n",
    "DROP TABLE IF EXISTS Vote;\n",
    "CREATE TABLE Vote (`id` INTEGER, `CandidateId` INTEGER);\n",
    "INSERT INTO Vote (`id`, `CandidateId`) VALUES\n",
    "\t('1', '2'),\n",
    "\t('2', '4'),\n",
    "\t('3', '3'),\n",
    "\t('4', '2'),\n",
    "\t('5', '5');\n",
    "    \n",
    "-- Writing your MySQL query statement below\n",
    "-- #1\n",
    "SELECT name \n",
    "FROM Candidate \n",
    "WHERE id = (SELECT CandidateId\n",
    "\t\t\tFROM Vote\n",
    "\t\t\tGROUP BY CandidateId\n",
    "\t\t\tORDER BY COUNT(CandidateId) DESC\n",
    "\t\t\tLIMIT 1);\n",
    "\n",
    "-- #2\n",
    "SELECT name \n",
    "FROM Candidate AS c \n",
    "INNER JOIN (SELECT CandidateId\n",
    "\t\t\tFROM Vote\n",
    "\t\t\tGROUP BY CandidateId\n",
    "\t\t\tORDER BY COUNT(CandidateId) DESC\n",
    "\t\t\tLIMIT 1) AS t\n",
    "ON c.Id = t.CandidateId;"
   ]
  },
  {
   "cell_type": "markdown",
   "metadata": {},
   "source": [
    "## 577.[Easy] Employee Bonus "
   ]
  },
  {
   "cell_type": "markdown",
   "metadata": {},
   "source": [
    "Select all employee's name and bonus whose bonus is < 1000.\n",
    "\n",
    "Employee table:\n",
    "| empId |  name  | supervisor| salary |\n",
    "|:-----:|:------:|:---------:|:------:|\n",
    "|   1   | John   |  3        | 1000   |\n",
    "|   2   | Dan    |  3        | 2000   |\n",
    "|   3   | Brad   |  null     | 4000   |\n",
    "|   4   | Thomas |  3        | 4000   |\n",
    "\n",
    "Bonus table:\n",
    "| empId | bonus |\n",
    "|:-----:|:-----:|\n",
    "| 2     | 500   |\n",
    "| 4     | 2000  |\n",
    "\n",
    "Result table:\n",
    "| name  | bonus |\n",
    "|:-----:|:-----:|\n",
    "| John  | null  |\n",
    "| Dan   | 500   |\n",
    "| Brad  | null  |"
   ]
  },
  {
   "cell_type": "code",
   "execution_count": null,
   "metadata": {
    "vscode": {
     "languageId": "sql"
    }
   },
   "outputs": [],
   "source": [
    "-- Creating SQL Schema\n",
    "DROP TABLE IF EXISTS Employee;\n",
    "CREATE TABLE Employee (`empId` INTEGER, `name` VARCHAR(6), `supervisor` VARCHAR(4), `salary` INTEGER);\n",
    "INSERT INTO Employee (`empId`, `name`, `supervisor`, `salary`) VALUES\n",
    "\t('1', 'John', '3', '1000'),\n",
    "\t('2', 'Dan', '3', '2000'),\n",
    "\t('3', 'Brad', 'null', '4000'),\n",
    "\t('4', 'Thomas', '3', '4000');\n",
    "\n",
    "DROP TABLE IF EXISTS Bonus;\n",
    "CREATE TABLE Bonus (`empId` INTEGER, `bonus` INTEGER);\n",
    "INSERT INTO Bonus (`empId`, `bonus`)VALUES\n",
    "\t('2', '500'),\n",
    "\t('4', '2000');\n",
    "  \n",
    "-- Writing your MySQL query statement below\n",
    "SELECT e.name, b.bonus\n",
    "FROM employee e LEFT JOIN bonus b\n",
    "ON e.empId = b.empId\n",
    "WHERE b.bonus < 1000 OR bonus IS NULL;"
   ]
  },
  {
   "cell_type": "markdown",
   "metadata": {},
   "source": [
    "## 579.[Hard] Find Cumulative Salary of an Employee"
   ]
  },
  {
   "cell_type": "markdown",
   "metadata": {},
   "source": [
    "***Write a SQL to get the cumulative sum of an employee’s salary over a period of 3 months but exclude the most recent month.***\n",
    "- ***The result should be displayed by ‘Id’ ascending, and then by ‘Month’ descending.***\n",
    "\n",
    "Employee table:\n",
    "| Id | Month | Salary |\n",
    "|:--:|:-----:|:------:|\n",
    "| 1  | 1     | 20     |\n",
    "| 2  | 1     | 20     |\n",
    "| 1  | 2     | 30     |\n",
    "| 2  | 2     | 30     |\n",
    "| 3  | 2     | 40     |\n",
    "| 1  | 3     | 40     |\n",
    "| 3  | 3     | 60     |\n",
    "| 1  | 4     | 60     |\n",
    "| 3  | 4     | 70     |\n",
    "\n",
    "Result table:\n",
    "| Id | Month | Salary |\n",
    "|:--:|:-----:|:------:|\n",
    "| 1  | 3     | 90     |\n",
    "| 1  | 2     | 50     |\n",
    "| 1  | 1     | 20     |\n",
    "| 2  | 1     | 20     |\n",
    "| 3  | 3     | 100    |\n",
    "| 3  | 2     | 40     |\n",
    "\n",
    "Explanation:<br/>\n",
    "Employee ‘1’ has 3 salary records for the following 3 months except the most recent month ‘4’: salary 40 for month ‘3’, 30 for month ‘2’ and 20 for month ‘1’ So the cumulative sum of salary of this employee over 3 months is 90(40+30+20), 50(30+20) and 20 respectively."
   ]
  },
  {
   "cell_type": "code",
   "execution_count": null,
   "metadata": {
    "vscode": {
     "languageId": "sql"
    }
   },
   "outputs": [],
   "source": [
    "-- Creating SQL Schema\n",
    "DROP TABLE IF EXISTS Employee;\n",
    "CREATE TABLE Employee (`Id` INTEGER, `Month` INTEGER, `Salary` INTEGER);\n",
    "INSERT INTO Employee (`Id`, `Month`, `Salary`) VALUES\n",
    "\t('1', '1', '20'),\n",
    "\t('2', '1', '20'),\n",
    "\t('1', '2', '30'),\n",
    "\t('2', '2', '30'),\n",
    "\t('3', '2', '40'),\n",
    "\t('1', '3', '40'),\n",
    "\t('3', '3', '60'),\n",
    "\t('1', '4', '60'),\n",
    "\t('3', '4', '70');\n",
    "\n",
    "-- Writing your MySQL query statement below\n",
    "SELECT e1.Id, MAX(e2.month) AS Month, SUM(e2.salary) as Salary\n",
    "FROM Employee e1 INNER JOIN Employee e2\n",
    "ON e1.Id = e2.Id\n",
    "WHERE e2.Month BETWEEN (e1.Month-3) AND (e1.Month-1)\n",
    "GROUP BY e1.Id, e1.Month\n",
    "ORDER BY Id, Month DESC;"
   ]
  },
  {
   "cell_type": "markdown",
   "metadata": {},
   "source": [
    "## 578.[Medium] Get Highest Answer Rate Question "
   ]
  },
  {
   "cell_type": "markdown",
   "metadata": {},
   "source": [
    "***Write a sql query to identify the question which has the highest answer rate.***\n",
    "\n",
    "Input:<br/>\n",
    "Survey_log table:\n",
    "| id   | action    | question_id  | answer_id  | q_num     | timestamp  |\n",
    "|:----:|:---------:|:------------:|:----------:|:---------:|:----------:|\n",
    "| 5    | show      | 285          | null       | 1         | 123        |\n",
    "| 5    | answer    | 285          | 124124     | 1         | 124        |\n",
    "| 5    | show      | 369          | null       | 2         | 125        |\n",
    "| 5    | skip      | 369          | null       | 2         | 126        |\n",
    "\n",
    "Output:\n",
    "| survey_log  |\n",
    "|:-----------:|\n",
    "|    285      |\n",
    "\n",
    "Explanation:<br/>\n",
    "question 285 has answer rate 1/1, while question 369 has 0/1 answer rate, so output 285.<br/>\n",
    "Note: The highest answer rate meaning is: answer number’s ratio in show number in the same question."
   ]
  },
  {
   "cell_type": "code",
   "execution_count": null,
   "metadata": {
    "vscode": {
     "languageId": "sql"
    }
   },
   "outputs": [],
   "source": [
    "-- Create SQL Schema\n",
    "DROP TABLE IF EXISTS Survey_log;\n",
    "CREATE TABLE Survey_log (\n",
    "  `uid` INTEGER,\n",
    "  `action` VARCHAR(6),\n",
    "  `question_id` INTEGER,\n",
    "  `answer_id` VARCHAR(6),\n",
    "  `q_num` INTEGER,\n",
    "  `timestamp` INTEGER\n",
    ");\n",
    "\n",
    "INSERT INTO Survey_log (`uid`, `action`, `question_id`, `answer_id`, `q_num`, `timestamp`) VALUES\n",
    "    ('5', 'show', '285', 'null', '1', '123'),\n",
    "\t('5', 'answer', '285', '124124', '1', '124'),\n",
    "\t('5', 'show', '369', 'null', '2', '125'),\n",
    "\t('5', 'skip', '369', 'null', '2', '126');\n",
    "\n",
    "-- Write your MySQL query statement below\n",
    "-- #1\n",
    "SELECT question_id AS survey_log \n",
    "FROM (SELECT question_id,\n",
    "\t  SUM(CASE WHEN action='show' THEN 1 ELSE 0 END) AS nb_show,\n",
    "\t  SUM(CASE WHEN action='answer' THEN 1 ELSE 0 END) AS nb_answer \n",
    "   -- SUM(IF(action='show', 1, 0)) AS nb_show,\n",
    "   -- SUM(IF(action='answer', 1, 0)) AS nb_answer \n",
    "\t  FROM survey_log\n",
    "\t  GROUP BY question_id) AS temp\n",
    "ORDER BY nb_answer/nb_show DESC -- 2 Qs have same ratio\n",
    "LIMIT 1;\n",
    "\n",
    "-- #2\n",
    "WITH base AS (SELECT *, nb_answer/nb_show AS answer_rate\n",
    "              FROM (SELECT question_id,\n",
    "                    SUM(CASE WHEN action = \"show\" THEN 1 ELSE 0 END) AS nb_show,\n",
    "                    SUM(CASE WHEN action = \"answer\" THEN 1 ELSE 0 END) AS nb_answer\n",
    "                    FROM survey_log\n",
    "                    GROUP BY question_id) as tmp)\n",
    "SELECT question_id\n",
    "FROM base\n",
    "WHERE answer_rate IN (SELECT MAX(answer_rate) \n",
    "                      FROM base);\n",
    "\n",
    "-- #3\n",
    "WITH base AS (SELECT question_id, answer_rate, DENSE_RANK() OVER(ORDER BY answer_rate DESC) AS answer_rank\n",
    "\t\t\t  FROM (SELECT question_id,\n",
    "\t\t\t  ROUND(SUM(CASE WHEN action = \"answer\" THEN 1 ELSE 0 END)/\n",
    "\t\t      SUM(CASE WHEN action = \"show\" THEN 1 ELSE 0 END), 0) AS answer_rate\n",
    "\t\t\t  FROM survey_log\n",
    "\t\t\t  GROUP BY question_id) as temp)\n",
    "SELECT question_id\n",
    "FROM base\n",
    "WHERE answer_rank = 1;"
   ]
  },
  {
   "cell_type": "markdown",
   "metadata": {},
   "source": [
    "## 580.[Medium] Count Student Number in Departments"
   ]
  },
  {
   "cell_type": "markdown",
   "metadata": {},
   "source": [
    "***Write a query to print the respective department name and number of students majoring in each department for all departments in the department table (even ones with no current students).***\n",
    "\n",
    "***Sort your results by descending number of students; if two or more departments have the same number of students, then sort those departments alphabetically by department name.***\n",
    "\n",
    "Student table:\n",
    "| student_id | student_name | gender | dept_id |\n",
    "|:----------:|:------------:|:------:|:-------:|\n",
    "| 1          | Jack         | M      | 1       |\n",
    "| 2          | Jane         | F      | 1       |\n",
    "| 3          | Mark         | M      | 2       |\n",
    "\n",
    "Department table:\n",
    "| dept_id | dept_name   |\n",
    "|:-------:|:-----------:|\n",
    "| 1       | Engineering |\n",
    "| 2       | Science     |\n",
    "| 3       | Law         |\n",
    "\n",
    "Result table\n",
    "| dept_name   | student_number |\n",
    "|:-----------:|:--------------:|\n",
    "| Engineering | 2              |\n",
    "| Science     | 1              |\n",
    "| Law         | 0              |"
   ]
  },
  {
   "cell_type": "code",
   "execution_count": null,
   "metadata": {
    "vscode": {
     "languageId": "sql"
    }
   },
   "outputs": [],
   "source": [
    "-- Creating SQL Schema\n",
    "DROP TABLE IF EXISTS student;\n",
    "CREATE TABLE student (`student_id` INTEGER, `student_name` VARCHAR(4), `gender` VARCHAR(1), `dept_id` INTEGER);\n",
    "INSERT INTO student (`student_id`, `student_name`, `gender`, `dept_id`) VALUES\n",
    "\t('1', 'Jack', 'M', '1'),\n",
    "\t('2', 'Jane', 'F', '1'),\n",
    "\t('3', 'Mark', 'M', '2');\n",
    "\n",
    "DROP TABLE IF EXISTS department;\n",
    "CREATE TABLE department (`dept_id` INTEGER, `dept_name` VARCHAR(11));\n",
    "\n",
    "INSERT INTO department (`dept_id`, `dept_name`) VALUES\n",
    "\t('1', 'Engineering'),\n",
    "\t('2', 'Science'),\n",
    "\t('3', 'Law');\n",
    "    \n",
    "-- Writing your MySQL query statement below\n",
    "SELECT d.dept_name, IFNULL(COUNT(s.student_id), 0) AS student_number\n",
    "FROM department d LEFT JOIN student s\n",
    "ON d.dept_id = s.dept_id\n",
    "GROUP BY d.dept_name\n",
    "ORDER BY student_number DESC, d.dept_name;"
   ]
  },
  {
   "cell_type": "markdown",
   "metadata": {},
   "source": [
    "## 584.[Easy] Find Customer Referee "
   ]
  },
  {
   "cell_type": "markdown",
   "metadata": {},
   "source": [
    "***Write a query to return the list of customers NOT referred by the person with id '2'.***\n",
    "\n",
    "Customer table:\n",
    "| id   | name | referee_id|\n",
    "|:----:|:----:|:---------:|\n",
    "|    1 | Will |      NULL |\n",
    "|    2 | Jane |      NULL |\n",
    "|    3 | Alex |         2 |\n",
    "|    4 | Bill |      NULL |\n",
    "|    5 | Zack |         1 |\n",
    "|    6 | Mark |         2 |\n",
    "\n",
    "Result table:\n",
    "| name |\n",
    "|:----:|\n",
    "| Will |\n",
    "| Jane |\n",
    "| Bill |\n",
    "| Zack |"
   ]
  },
  {
   "cell_type": "code",
   "execution_count": null,
   "metadata": {
    "vscode": {
     "languageId": "sql"
    }
   },
   "outputs": [],
   "source": [
    "-- Creating SQL Schema\n",
    "DROP TABLE IF EXISTS customer;\n",
    "CREATE TABLE customer(`id` INTEGER, `name` VARCHAR(4), `referee_id` VARCHAR(4));\n",
    "INSERT INTO customer(`id`, `name`, `referee_id`)VALUES\n",
    "\t('1', 'Will', 'NULL'),\n",
    "\t('2', 'Jane', 'NULL'),\n",
    "\t('3', 'Alex', '2'),\n",
    "\t('4', 'Bill', 'NULL'),\n",
    "\t('5', 'Zack', '1'),\n",
    "\t('6', 'Mark', '2');\n",
    "  \n",
    "-- Writing your MySQL query statement below\n",
    "SELECT name \n",
    "FROM customer \n",
    "WHERE referee_id != 2 OR referee_id IS NULL;\n"
   ]
  },
  {
   "cell_type": "markdown",
   "metadata": {},
   "source": [
    "## 585.[Medium] Investments in 2016 "
   ]
  },
  {
   "cell_type": "markdown",
   "metadata": {},
   "source": [
    "***Write a query to print the sum of all total investment values in 2016 (TIV_2016), to a scale of <br/> 2 decimal places, for all policy holders who meet the following criteria:***\n",
    "- ***Have the same TIV_2015 value as one or more other policyholders.***\n",
    "- ***Are not located in the same city as any other policyholder (i.e.: the (latitude, longitude) attribute pairs must be unique).***\n",
    "\n",
    "Input:<br/>\n",
    "insurance table:\n",
    "| PID | TIV_2015 | TIV_2016 | LAT | LON |\n",
    "|:---:|:--------:|:--------:|:---:|:---:|\n",
    "| 1   | 10       | 5        | 10  | 10  |\n",
    "| 2   | 20       | 20       | 20  | 20  |\n",
    "| 3   | 10       | 30       | 20  | 20  |\n",
    "| 4   | 10       | 40       | 40  | 40  |\n",
    "\n",
    "\n",
    "Output:\n",
    "| TIV_2016 |\n",
    "|:--------:|\n",
    "| 45.00    |\n"
   ]
  },
  {
   "cell_type": "code",
   "execution_count": null,
   "metadata": {
    "vscode": {
     "languageId": "sql"
    }
   },
   "outputs": [],
   "source": [
    "-- Creat SQL Schema\n",
    "DROP TABLE IF EXISTS Insurance;\n",
    "CREATE TABLE insurance (\n",
    "  `PID` INTEGER,\n",
    "  `TIV_2015` INTEGER,\n",
    "  `TIV_2016` INTEGER,\n",
    "  `LAT` INTEGER,\n",
    "  `LON` INTEGER);\n",
    "\n",
    "INSERT INTO insurance (`PID`, `TIV_2015`, `TIV_2016`, `LAT`, `LON`) VALUES\n",
    "    ('1', '10', '5', '10', '10'),\n",
    "    ('2', '20', '20', '20', '20'),\n",
    "    ('3', '10', '30', '20', '20'),\n",
    "    ('4', '10', '40', '40', '40');\n",
    "\n",
    "-- Write your MySQL query statement beloww\n",
    "SELECT CAST(SUM(TIV_2016) AS DECIMAL(4,2)) AS TIV_2016\n",
    "FROM Insurance\n",
    "WHERE TIV_2015 IN (SELECT TIV_2015\n",
    "\t\t\t\t           FROM Insurance\n",
    "                   GROUP BY TIV_2015\n",
    "                   HAVING COUNT(*) > 1)\n",
    "AND (LAT, LON) IN (SELECT LAT, LON\n",
    "\t\t\t\t           FROM Insurance\n",
    "\t\t\t\t           GROUP BY LAT, LON\n",
    "\t\t\t\t           Having COUNT(*) = 1);\n"
   ]
  },
  {
   "cell_type": "markdown",
   "metadata": {},
   "source": [
    "## 586.[Easy] Customer Placing the Largest Number of Orders "
   ]
  },
  {
   "cell_type": "markdown",
   "metadata": {},
   "source": [
    "***Write an SQL query to find the customer_number for the customer who has placed the largest number of orders.***\n",
    "\n",
    "***The test cases are generated so that exactly one customer will have placed more orders than any other customer.***\n",
    "\n",
    "Orders table:\n",
    "| order_number | customer_number |\n",
    "|:------------:|:---------------:|\n",
    "| 1            | 1               |\n",
    "| 2            | 2               |\n",
    "| 3            | 3               |\n",
    "| 4            | 3               |\n",
    "\n",
    "Result table: \n",
    "| customer_number |\n",
    "|:---------------:|\n",
    "| 3               |\n",
    "\n",
    "Explanation: \n",
    "The customer with number 3 has two orders, which is greater than either customer 1 or 2 because each of them only has one order. \n",
    "So the result is customer_number 3."
   ]
  },
  {
   "cell_type": "code",
   "execution_count": null,
   "metadata": {
    "vscode": {
     "languageId": "sql"
    }
   },
   "outputs": [],
   "source": [
    "-- Creating SQL Schema\n",
    "DROP TABLE IF EXISTS orders;\n",
    "CREATE TABLE orders (`order_number` INTEGER, `customer_number` INTEGER, `order_date` DATETIME, `required_date` DATETIME,\n",
    "\t\t\t\t\t `shipped_date` DATETIME, `status` VARCHAR(6), `comment` CHAR(1));\n",
    "INSERT INTO orders (`order_number`, `customer_number`, `order_date`, `required_date`, `shipped_date`, `status`, `comment`) VALUES\n",
    "\t('1', '1', '2017-04-09', '2017-04-13', '2017-04-12', 'Closed', ''),\n",
    "\t('2', '2', '2017-04-15', '2017-04-20', '2017-04-18', 'Closed', ''),\n",
    "\t('3', '3', '2017-04-16', '2017-04-25', '2017-04-20', 'Closed', ''),\n",
    "\t('4', '3', '2017-04-18', '2017-04-28', '2017-04-25', 'Closed', '');\n",
    "    \n",
    "-- Writing your MySQL query statement below\n",
    "SELECT customer_number \n",
    "FROM orders\n",
    "GROUP BY customer_number\n",
    "ORDER BY COUNT(order_number) DESC\n",
    "LIMIT 1;"
   ]
  },
  {
   "cell_type": "markdown",
   "metadata": {},
   "source": [
    "## 595.[Easy] Big Countries"
   ]
  },
  {
   "cell_type": "markdown",
   "metadata": {},
   "source": [
    "***A country is big if:***\n",
    "- ***it has an area of at least three million (i.e., 3000000 km2), or***\n",
    "- ***it has a population of at least twenty-five million (i.e., 25000000).***\n",
    "\n",
    "***Write an SQL query to report the name, population, and area of the big countries.***\n",
    "\n",
    "World table:\n",
    "| name        | continent | area    | population | gdp          |\n",
    "|:-----------:|:---------:|:-------:|:----------:|:------------:|\n",
    "| Afghanistan | Asia      | 652230  | 25500100   | 20343000000  |\n",
    "| Albania     | Europe    | 28748   | 2831741    | 12960000000  |\n",
    "| Algeria     | Africa    | 2381741 | 37100000   | 188681000000 |\n",
    "| Andorra     | Europe    | 468     | 78115      | 3712000000   |\n",
    "| Angola      | Africa    | 1246700 | 20609294   | 100990000000 |\n",
    "\n",
    "Result table: \n",
    "| name        | population | area    |\n",
    "|:-----------:|:----------:|:-------:|\n",
    "| Afghanistan | 25500100   | 652230  |\n",
    "| Algeria     | 37100000   | 2381741 |"
   ]
  },
  {
   "cell_type": "code",
   "execution_count": null,
   "metadata": {
    "vscode": {
     "languageId": "sql"
    }
   },
   "outputs": [],
   "source": [
    "-- Creating SQL Schema\n",
    "DROP TABLE IF EXISTS World;\n",
    "CREATE TABLE World (`name` VARCHAR(11), `continent` VARCHAR(6), `area` INTEGER, `population` INTEGER, `gdp` INTEGER);\n",
    "INSERT INTO World (`name`, `continent`, `area`, `population`, `gdp`) VALUES\n",
    "\t('Afghanistan', 'Asia', '652230', '25500100', '20343000'),\n",
    "\t('Albania', 'Europe', '28748', '2831741', '12960000'),\n",
    "\t('Algeria', 'Africa', '2381741', '37100000', '188681000'),\n",
    "\t('Andorra', 'Europe', '468', '78115', '3712000'),\n",
    "\t('Angola', 'Africa', '1246700', '20609294', '100990000');\n",
    "  \n",
    "-- Writing your MySQL query statement below\n",
    "SELECT name, population, area\n",
    "FROM World\n",
    "WHERE population >= 25000000 OR area >= 3000000;"
   ]
  },
  {
   "cell_type": "markdown",
   "metadata": {},
   "source": [
    "## 596.[Easy] Classes More Than 5 Students"
   ]
  },
  {
   "cell_type": "markdown",
   "metadata": {},
   "source": [
    "***Write an SQL query to report all the classes that have at least five students.***\n",
    "\n",
    "Courses table:\n",
    "| student | class    |\n",
    "|:-------:|:--------:|\n",
    "| A       | Math     |\n",
    "| B       | English  |\n",
    "| C       | Math     |\n",
    "| D       | Biology  |\n",
    "| E       | Math     |\n",
    "| F       | Computer |\n",
    "| G       | Math     |\n",
    "| H       | Math     |\n",
    "| I       | Math     |\n",
    "\n",
    "Result table: \n",
    "| class   |\n",
    "|:-------:|\n",
    "| Math    |\n",
    "\n",
    "Explanation: \n",
    "- Math has 6 students, so we include it.\n",
    "- English has 1 student, so we do not include it.\n",
    "- Biology has 1 student, so we do not include it.\n",
    "- Computer has 1 student, so we do not include it."
   ]
  },
  {
   "cell_type": "code",
   "execution_count": null,
   "metadata": {
    "vscode": {
     "languageId": "sql"
    }
   },
   "outputs": [],
   "source": [
    "-- Creating SQL Schema\n",
    "DROP TABLE IF EXISTS courses;\n",
    "CREATE TABLE courses (`student` VARCHAR(1), `class` VARCHAR(8));\n",
    "INSERT INTO courses (`student`, `class`) VALUES\n",
    "\t('A', 'Math'),\n",
    "\t('B', 'English'),\n",
    "\t('C', 'Math'),\n",
    "\t('D', 'Biology'),\n",
    "\t('E', 'Math'),\n",
    "\t('F', 'Computer'),\n",
    "\t('G', 'Math'),\n",
    "\t('H', 'Math'),\n",
    "\t('I', 'Math');\n",
    "  \n",
    "-- Writing your MySQL query statement below\n",
    "SELECT class\n",
    "FROM courses\n",
    "GROUP BY class\n",
    "HAVING COUNT(class) >= 5;"
   ]
  },
  {
   "cell_type": "markdown",
   "metadata": {},
   "source": [
    "## 597.[Easy] Friend Requests I: Overall Acceptance Rate"
   ]
  },
  {
   "cell_type": "markdown",
   "metadata": {},
   "source": [
    "***Write a query to find the overall acceptance rate of requests rounded to 2 decimals, <br/>  which is the number of acceptance divide the number of requests.***\n",
    "\n",
    "friend_request table:\n",
    "| sender_id | send_to_id |request_date|\n",
    "|:---------:|:----------:|:----------:|\n",
    "| 1         | 2          | 2016_06-01 |\n",
    "| 1         | 3          | 2016_06-01 |\n",
    "| 1         | 4          | 2016_06-01 |\n",
    "| 2         | 3          | 2016_06-02 |\n",
    "| 3         | 4          | 2016-06-09 |\n",
    "\n",
    "request_accepted table:\n",
    "| requester_id | accepter_id |accept_date |\n",
    "|:------------:|:-----------:|:----------:|\n",
    "| 1            | 2           | 2016_06-03 |\n",
    "| 1            | 3           | 2016-06-08 |\n",
    "| 2            | 3           | 2016-06-08 |\n",
    "| 3            | 4           | 2016-06-09 |\n",
    "| 3            | 4           | 2016-06-10 |\n",
    "\n",
    "result table:\n",
    "|accept_rate|\n",
    "|:---------:|\n",
    "|       0.80|\n",
    "\n",
    "Note:\n",
    "The accepted requests are not necessarily from the table friend_request. \n",
    "In this case, you just need to simply count the total accepted requests \n",
    "(no matter whether they are in the original requests), \n",
    "and divide it by the number of requests to get the acceptance rate.\n",
    "\n",
    "It is possible that a sender sends multiple requests to the same receiver, \n",
    "and a request could be accepted more than once. \n",
    "In this case, the ‘duplicated’ requests or acceptances are only counted once.\n",
    "If there is no requests at all, you should return 0.00 as the accept_rate."
   ]
  },
  {
   "cell_type": "code",
   "execution_count": null,
   "metadata": {
    "vscode": {
     "languageId": "sql"
    }
   },
   "outputs": [],
   "source": [
    "-- Creating SQL Schema\n",
    "DROP TABLE IF EXISTS friend_request;\n",
    "CREATE TABLE friend_request (`sender_id` INTEGER, `send_to_id` INTEGER, `request_date` VARCHAR(10));\n",
    "INSERT INTO friend_request (`sender_id`, `send_to_id`, `request_date`) VALUES\n",
    "\t('1', '2', '2016_06-01'),\n",
    "\t('1', '3', '2016_06-01'),\n",
    "\t('1', '4', '2016_06-01'),\n",
    "\t('2', '3', '2016_06-02'),\n",
    "\t('3', '4', '2016-06-09');\n",
    "\n",
    "DROP TABLE IF EXISTS request_accepted;\n",
    "CREATE TABLE request_accepted (`requester_id` INTEGER, `accepter_id` INTEGER, `accept_date` VARCHAR(10));\n",
    "INSERT INTO request_accepted (`requester_id`, `accepter_id`, `accept_date`) VALUES\n",
    "\t('1', '2', '2016_06-03'),\n",
    "\t('1', '3', '2016-06-08'),\n",
    "\t('2', '3', '2016-06-08'),\n",
    "\t('3', '4', '2016-06-09'),\n",
    "\t('3', '4', '2016-06-10');\n",
    "  \n",
    "-- Writing your MySQL query statement below\n",
    "SELECT ROUND(IFNULL(\n",
    "(SELECT COUNT(DISTINCT requester_id, accepter_id)\n",
    "FROM request_accepted)\n",
    "/(SELECT COUNT(DISTINCT sender_id, send_to_id) \n",
    "FROM friend_request), 0), 2) AS accept_rate;"
   ]
  },
  {
   "cell_type": "markdown",
   "metadata": {},
   "source": [
    "## 601.[Hard] Human Traffic of Stadium "
   ]
  },
  {
   "cell_type": "markdown",
   "metadata": {},
   "source": [
    "***Write an SQL query to display the recORds with three OR mORe rows with cONsecutive id's, \n",
    "AND the number of people is greater than OR equal to 100 fOR each.***\n",
    "- Return the result table ORdered by visit_date in AScending ORder.\n",
    "\n",
    "Input: <br/>\n",
    "Stadium table:\n",
    "| id   | visit_date | people    |\n",
    "|:----:|:----------:|:---------:|\n",
    "| 1    | 2017-01-01 | 10        |\n",
    "| 2    | 2017-01-02 | 109       |\n",
    "| 3    | 2017-01-03 | 150       |\n",
    "| 4    | 2017-01-04 | 99        |\n",
    "| 5    | 2017-01-05 | 145       |\n",
    "| 6    | 2017-01-06 | 1455      |\n",
    "| 7    | 2017-01-07 | 199       |\n",
    "| 8    | 2017-01-09 | 188       |\n",
    "\n",
    "Output: \n",
    "| id   | visit_date | people    |\n",
    "|:----:|:----------:|:---------:|\n",
    "| 5    | 2017-01-05 | 145       |\n",
    "| 6    | 2017-01-06 | 1455      |\n",
    "| 7    | 2017-01-07 | 199       |\n",
    "| 8    | 2017-01-09 | 188       |\n",
    "\n",
    "Explanation: <br/>\n",
    "The four rows with ids 5, 6, 7, AND 8 have cONsecutive ids AND each of them hAS >= 100 people attended. <br/>\n",
    "Note that row 8 wAS included even though the visit_date wAS not the next day after row 7.<br/>\n",
    "The rows with ids 2 AND 3 are not included because we need at leASt three cONsecutive"
   ]
  },
  {
   "cell_type": "code",
   "execution_count": null,
   "metadata": {
    "vscode": {
     "languageId": "sql"
    }
   },
   "outputs": [],
   "source": [
    "-- Creating SQL Schema\n",
    "create table stadium (id int, visit_date date null, people int);\n",
    "insert into stadium (id, visit_date, people) values\n",
    "\t('1','2017-01-01','10'),\n",
    "\t('2','2017-01-02','109'),\n",
    "\t('3','2017-01-03','150'),\n",
    "\t('4','2017-01-04','99'),\n",
    "\t('5','2017-01-05','145'),\n",
    "\t('6','2017-01-06','1455'),\n",
    "\t('7','2017-01-07','199'),\n",
    "\t('8','2017-01-08','188');\n",
    "\n",
    "-- Write your MySQL query statement below\n",
    "-- #1\n",
    "WITH temp AS(\n",
    "SELECT a.visit_date AS date1,\n",
    "b.visit_date AS date2,\n",
    "c.visit_date AS date3\n",
    "FROM stadium AS a\n",
    "LEFT JOIN stadium AS b \n",
    "ON DATEDIFF(a.visit_date, b.visit_date) = -1\n",
    "LEFT JOIN stadium AS c\n",
    "ON DATEDIFF(b.visit_date, c.visit_date) = -1\n",
    "WHERE a.people >= 100\n",
    "AND b.people >= 100\n",
    "AND c.people >= 100)\n",
    "\n",
    "SELECT date1 AS total_date FROM temp\n",
    "UNION\n",
    "SELECT date2 AS total_date FROM temp\n",
    "UNION\n",
    "SELECT date3 AS total_date FROM temp;\n",
    "\n",
    "-- #2\n",
    "SELECT a.visit_date -- a\n",
    "FROM stadium AS a\n",
    "LEFT JOIN stadium AS b\n",
    "    --  a is day 1, b is day 2, c is day 3\n",
    "    ON datediff(a.visit_date,b.visit_date) = -1\n",
    "LEFT JOIN stadium AS c\n",
    "    ON datediff(b.visit_date,c.visit_date) = -1\n",
    "WHERE a.people >= 100 AND b.people >= 100 AND c.people >= 100\n",
    "UNION\n",
    "SELECT b.visit_date -- b\n",
    "FROM stadium AS a\n",
    "LEFT JOIN stadium AS b\n",
    "    --  a is day 1, b is day 2, c is day 3\n",
    "    ON datediff(a.visit_date,b.visit_date) = -1\n",
    "LEFT JOIN stadium AS c\n",
    "    ON datediff(b.visit_date,c.visit_date) = -1\n",
    "WHERE a.people >= 100 AND b.people >= 100 AND c.people >= 100\n",
    "UNION\n",
    "SELECT c.visit_date -- c\n",
    "FROM stadium AS a\n",
    "LEFT JOIN stadium AS b\n",
    "    --  a is day 1, b is day 2, c is day 3\n",
    "    ON datediff(a.visit_date,b.visit_date) = -1\n",
    "LEFT JOIN stadium AS c\n",
    "    ON datediff(b.visit_date,c.visit_date) = -1\n",
    "WHERE a.people >= 100 AND b.people >= 100 AND c.people >= 100;\n",
    "\n",
    "-- Eric's answer\n",
    "-- #1\n",
    "SELECT DISTINCT a.visit_date\n",
    "FROM stadium AS a, stadium AS b, stadium AS c\n",
    "WHERE (\n",
    "    --  a is day 1, b is day 2, c is day 3\n",
    "    (datediff(a.visit_date,b.visit_date) = -1 AND datediff(b.visit_date,c.visit_date) = -1)\n",
    "    --  a is day 2, b is day 1, c is day 3\n",
    "    OR (datediff(a.visit_date,b.visit_date) = 1 AND datediff(b.visit_date,c.visit_date) = -2)\n",
    "    --  a is day 3, b is day 1, c is day 2\n",
    "    OR (datediff(a.visit_date,b.visit_date) = 2 AND datediff(b.visit_date,c.visit_date) = -1)\n",
    ") AND a.people >= 100 AND b.people >= 100 AND c.people >= 100\n",
    "ORDER BY a.visit_date;\n",
    "\n",
    "-- #2 why don't change selct a/b/c???\n",
    "SELECT a.visit_date\n",
    "FROM stadium AS a\n",
    "LEFT JOIN stadium AS b\n",
    "    --  a is day 1, b is day 2, c is day 3\n",
    "    ON datediff(a.visit_date,b.visit_date) = -1\n",
    "LEFT JOIN stadium AS c\n",
    "    ON datediff(b.visit_date,c.visit_date) = -1\n",
    "WHERE a.people >= 100 AND b.people >= 100 AND c.people >= 100\n",
    "UNION\n",
    "SELECT a.visit_date\n",
    "FROM stadium AS a\n",
    "LEFT JOIN stadium AS b\n",
    "    --  a is day 2, b is day 1, c is day 3\n",
    "    ON datediff(a.visit_date,b.visit_date) = 1\n",
    "LEFT JOIN stadium AS c\n",
    "    ON datediff(b.visit_date,c.visit_date) = -2\n",
    "WHERE a.people >= 100 AND b.people >= 100 AND c.people >= 100\n",
    "UNION\n",
    "SELECT a.visit_date\n",
    "FROM stadium AS a\n",
    "LEFT JOIN stadium AS b\n",
    "    --  a is day 3, b is day 1, c is day 2\n",
    "    ON datediff(a.visit_date,b.visit_date) = 2\n",
    "LEFT JOIN stadium AS c\n",
    "    ON datediff(b.visit_date,c.visit_date) = -1\n",
    "WHERE a.people >= 100 AND b.people >= 100 AND c.people >= 100;"
   ]
  },
  {
   "cell_type": "markdown",
   "metadata": {},
   "source": [
    "## 602.[Medium] Friend Requests II: Who has the most friends "
   ]
  },
  {
   "cell_type": "markdown",
   "metadata": {},
   "source": [
    "***Write a query to find the the people who has most friends and the most friends number under the following rules:***\n",
    "- ***It is guaranteed there is only 1 people having the most friends.***\n",
    "- ***The friend request could only been accepted once, which mean there is no multiple records \n",
    "  with the same requester_id and accepter_id value.***\n",
    "  \n",
    "Input:<br/>\n",
    "request_accepted Table:\n",
    "| requester_id | accepter_id | accept_date|\n",
    "|:------------:|:-----------:|:----------:|\n",
    "| 1            | 2           | 2016_06-03 |\n",
    "| 1            | 3           | 2016-06-08 |\n",
    "| 2            | 3           | 2016-06-08 |\n",
    "| 3            | 4           | 2016-06-09 |\n",
    "\n",
    "Output:\n",
    "| id | num |\n",
    "|:--:|:---:|\n",
    "| 3  | 3   |\n"
   ]
  },
  {
   "cell_type": "code",
   "execution_count": null,
   "metadata": {
    "vscode": {
     "languageId": "sql"
    }
   },
   "outputs": [],
   "source": [
    "-- Creating SQL Schema\n",
    "DROP TABLE IF EXISTS request_accepted;\n",
    "CREATE TABLE request_accepted (requester_id INT NOT NULL, accepter_id INT NULL, accept_date DATE NULL);\n",
    "INSERT INTO request_accepted (requester_id, accepter_id, accept_date) VALUES\n",
    "\t('1','2','2016/06/03'),\n",
    "\t('1','3','2016/06/08'),\n",
    "\t('2','3','2016/06/08'),\n",
    "\t('3','4','2016/06/09');\n",
    "\n",
    "-- Write your MySQL query statement below\n",
    "SELECT id, COUNT(id) AS num\n",
    "FROM (SELECT requester_id AS id FROM request_accepted\n",
    "\t  UNION ALL \n",
    "      SELECT accepter_id AS id FROM request_accepted) AS temp\n",
    "GROUP BY id\n",
    "ORDER BY COUNT(id) DESC\n",
    "LIMIT 1;"
   ]
  },
  {
   "cell_type": "markdown",
   "metadata": {},
   "source": [
    "## 603.[Easy] Consecutive Available Seats"
   ]
  },
  {
   "cell_type": "markdown",
   "metadata": {},
   "source": [
    "***Several friends at a cinema ticket office would like to reserve consecutive available seats.***\n",
    "\n",
    "***Can you help to query all the consecutive available seats order by the seat_id using the following cinema table?**\n",
    "\n",
    "cinema table:\n",
    "| seat_id | free |\n",
    "|:-------:|:----:|\n",
    "| 1       | 1    |\n",
    "| 2       | 0    |\n",
    "| 3       | 1    |\n",
    "| 4       | 1    |\n",
    "| 5       | 1    |\n",
    "\n",
    "result table:\n",
    "| seat_id |\n",
    "|:-------:|\n",
    "| 3       |\n",
    "| 4       |\n",
    "| 5       |\n",
    "\n",
    "Note:\n",
    "The seat_id is an auto increment int, and free is bool ('1' means free, and '0' means occupied.).\n",
    "Consecutive available seats are more than 2(inclusive) seats consecutively available."
   ]
  },
  {
   "cell_type": "code",
   "execution_count": null,
   "metadata": {
    "vscode": {
     "languageId": "sql"
    }
   },
   "outputs": [],
   "source": [
    "-- Creating SQL Schema\n",
    "DROP TABLE IF EXISTS cinema;\n",
    "CREATE TABLE cinema (`seat_id` INTEGER, `free` INTEGER);\n",
    "INSERT INTO cinema (`seat_id`, `free`)VALUES\n",
    "\t('1', '1'),\n",
    "\t('2', '0'),\n",
    "\t('3', '1'),\n",
    "\t('4', '1'),\n",
    "\t('5', '1');\n",
    "    \n",
    "-- Writing your MySQL query statement below\n",
    "SELECT DISTINCT c1.seat_id\n",
    "FROM cinema AS c1 INNER JOIN cinema AS c2\n",
    "-- ABS() returns the absolute value of a number.\n",
    "ON ABS(c1.seat_id - c2.seat_id) = 1\n",
    "AND c1.free = 1 AND c2.free = 1\n",
    "ORDER BY c1.seat_id;\n"
   ]
  },
  {
   "cell_type": "markdown",
   "metadata": {},
   "source": [
    "## 607.[Easy] Sales Person"
   ]
  },
  {
   "cell_type": "markdown",
   "metadata": {},
   "source": [
    "***Write an SQL query to report the names of all the salespersons who did not have any orders related to the company with the name \"RED\".***\n",
    "\n",
    "SalesPerson table:\n",
    "| sales_id | name | salary | commission_rate | hire_date  |\n",
    "|:--------:|:----:|:------:|:---------------:|:----------:|\n",
    "| 1        | John | 100000 | 6               | 4/1/2006   |\n",
    "| 2        | Amy  | 12000  | 5               | 5/1/2010   |\n",
    "| 3        | Mark | 65000  | 12              | 12/25/2008 |\n",
    "| 4        | Pam  | 25000  | 25              | 1/1/2005   |\n",
    "| 5        | Alex | 5000   | 10              | 2/3/2007   |\n",
    "\n",
    "Company table:\n",
    "| com_id | name   | city     |\n",
    "|:------:|:------:|:--------:|\n",
    "| 1      | RED    | Boston   |\n",
    "| 2      | ORANGE | New York |\n",
    "| 3      | YELLOW | Boston   |\n",
    "| 4      | GREEN  | Austin   |\n",
    "\n",
    "Orders table:\n",
    "| order_id | order_date | com_id | sales_id | amount |\n",
    "|:--------:|:----------:|:------:|:--------:|:------:|\n",
    "| 1        | 1/1/2014   | 3      | 4        | 10000  |\n",
    "| 2        | 2/1/2014   | 4      | 5        | 5000   |\n",
    "| 3        | 3/1/2014   | 1      | 1        | 50000  |\n",
    "| 4        | 4/1/2014   | 1      | 4        | 25000  |\n",
    "\n",
    "Result table: \n",
    "| name |\n",
    "|:----:|\n",
    "| Amy  |\n",
    "| Mark |\n",
    "| Alex |\n",
    "\n",
    "Explanation: \n",
    "According to orders 3 and 4 in the Orders table, it is easy to tell that only salesperson John and Pam have sales to company RED, \n",
    "so we report all the other names in the table salesperson."
   ]
  },
  {
   "cell_type": "code",
   "execution_count": null,
   "metadata": {
    "vscode": {
     "languageId": "sql"
    }
   },
   "outputs": [],
   "source": [
    "-- Creating SQL Schema\n",
    "DROP TABLE IF EXISTS salesperson;\n",
    "CREATE TABLE salesperson (`sales_id` INTEGER, `name` VARCHAR(4), `salary` INTEGER, `commission_rate` INTEGER, `hire_date` DATETIME);\n",
    "INSERT INTO salesperson (`sales_id`, `name`, `salary`, `commission_rate`, `hire_date`) VALUES\n",
    "\t('1', 'John', '100000', '6', '2006-4-1'),\n",
    "\t('2', 'Amy', '120000', '5', '2010-5-1'),\n",
    "\t('3', 'Mark', '65000', '12', '2008-12-25'),\n",
    "\t('4', 'Pam', '25000', '25', '2005-1-1'),\n",
    "\t('5', 'Alex', '50000', '10', '2007-2-3');\n",
    "\n",
    "DROP TABLE IF EXISTS company;\n",
    "CREATE TABLE company (`com_id` INTEGER, `name` VARCHAR(6), `city` VARCHAR(8));\n",
    "INSERT INTO company (`com_id`, `name`, `city`) VALUES\n",
    "\t('1', 'RED', 'Boston'),\n",
    "\t('2', 'ORANGE', 'New York'),\n",
    "\t('3', 'YELLOW', 'Boston'),\n",
    "\t('4', 'GREEN', 'Austin');\n",
    "    \n",
    "DROP TABLE IF EXISTS orders;\n",
    "CREATE TABLE orders (`order_id` INTEGER, `order_date` DATETIME, `com_id` INTEGER, `sales_id` INTEGER, `amount` INTEGER);\n",
    "INSERT INTO orders (`order_id`, `order_date`, `com_id`, `sales_id`, `amount`) VALUES\n",
    "\t('1', '2014-1-1', '3', '4', '100000'),\n",
    "\t('2', '2014-2-1', '4', '5', '5000'),\n",
    "\t('3', '2014-3-1', '1', '1', '50000'),\n",
    "\t('4', '2014-4-1', '1', '4', '25000');\n",
    "    \n",
    "-- Writing your MySQL query statement below\n",
    "SELECT name\n",
    "FROM salesperson\n",
    "WHERE sales_id NOT IN(SELECT o.sales_id\n",
    "\t\t\t\t\t  FROM orders o LEFT JOIN company c \n",
    "\t\t\t\t\t  ON o.com_id = c.com_id\n",
    "\t\t\t\t\t  WHERE c.name = \"RED\");\n"
   ]
  },
  {
   "cell_type": "markdown",
   "metadata": {},
   "source": [
    "## 608.[Medium] Tree Node: print node id and type "
   ]
  },
  {
   "cell_type": "markdown",
   "metadata": {},
   "source": [
    "***Write an SQL query to report the type of each node in the tree.***\n",
    "- ***Return the result table ordered by id in ascending order.***\n",
    "***Each node in the tree can be one of three types:***\n",
    "- ***\"Leaf\": if the node is a leaf node.***\n",
    "- ***\"Root\": if the node is the root of the tree.***\n",
    "- ***\"Inner\": If the node is neither a leaf node nor a root node.***\n",
    "\n",
    "<img src = https://assets.leetcode.com/uploads/2021/10/22/tree1.jpg>\n",
    "\n",
    "Input: <br/>\n",
    "Tree table:\n",
    "\n",
    "| id | p_id |\n",
    "|:--:|:----:|\n",
    "| 1  | null |\n",
    "| 2  | 1    |\n",
    "| 3  | 1    |\n",
    "| 4  | 2    |\n",
    "| 5  | 2    |\n",
    "\n",
    "Output: \n",
    "| id | type  |\n",
    "|:--:|:-----:|\n",
    "| 1  | Root  |\n",
    "| 2  | Inner |\n",
    "| 3  | Leaf  |\n",
    "| 4  | Leaf  |\n",
    "| 5  | Leaf  |\n",
    "\n",
    "Explanation: <br/>\n",
    "- Node 1 is the root node because its parent node is null and it has child nodes 2 and 3.\n",
    "- Node 2 is an inner node because it has parent node 1 and child node 4 and 5.\n",
    "- Nodes 3, 4, and 5 are leaf nodes because they have parent nodes and they do not have child nodes."
   ]
  },
  {
   "cell_type": "code",
   "execution_count": null,
   "metadata": {
    "vscode": {
     "languageId": "sql"
    }
   },
   "outputs": [],
   "source": [
    "-- Creating SQL Schema\n",
    "DROP TABLE IF EXISTS tree;\n",
    "CREATE TABLE tree (id INT, p_id int);\n",
    "INSERT INTO tree VALUES \n",
    "\t(1,NULL), \n",
    "    (2,1), \n",
    "    (3,1), \n",
    "    (4,2), \n",
    "    (5,2);\n",
    "\n",
    "-- Write your MySQL query statement below\n",
    "SELECT t1.id, t1.p_id, t2.id, t2.p_id\n",
    "FROM tree AS t1 LEFT JOIN tree AS t2 \n",
    "ON t1.id = t2.p_id;\n",
    "/*\n",
    "# id, p_id, id, p_id\n",
    "'1', NULL, '3', '1'\n",
    "'1', NULL, '2', '1'\n",
    "'2', '1', '5', '2'\n",
    "'2', '1', '4', '2'\n",
    "'3', '1', NULL, NULL\n",
    "'4', '2', NULL, NULL\n",
    "'5', '2', NULL, NULL\n",
    "*/\n",
    "\n",
    "SELECT DISTINCT t1.id, \n",
    "\t   CASE WHEN ISNULL(t1.p_id) THEN 'Root' \n",
    "            WHEN ISNULL(t2.id) THEN 'Leaf' \n",
    "            ELSE 'Inner'\n",
    "\t   END AS 'type'\n",
    "FROM tree AS t1 LEFT JOIN tree AS t2 \n",
    "ON t1.id = t2.p_id"
   ]
  },
  {
   "cell_type": "markdown",
   "metadata": {},
   "source": [
    "## 610.[Easy] Triangle Judgement"
   ]
  },
  {
   "cell_type": "markdown",
   "metadata": {},
   "source": [
    "***A pupil Tim gets homework to identify whether three line segments could possibly form a triangle.***\n",
    "\n",
    "***Could you help Tim by writing a query to judge whether these three sides can form a triangle, assuming table triangle holds the length of the three sides x, y and z.***\n",
    "\n",
    "Triangle table:\n",
    "| x  | y  | z  |\n",
    "|:--:|:--:|:--:|\n",
    "| 13 | 15 | 30 |\n",
    "| 10 | 20 | 15 |\n",
    "\n",
    "Result table:\n",
    "| x  | y  | z  | triangle |\n",
    "|:--:|:--:|:--:|:--------:|\n",
    "| 13 | 15 | 30 | No       |\n",
    "| 10 | 20 | 15 | Yes      |"
   ]
  },
  {
   "cell_type": "code",
   "execution_count": null,
   "metadata": {
    "vscode": {
     "languageId": "sql"
    }
   },
   "outputs": [],
   "source": [
    "-- Creating SQL Schema\n",
    "DROP TABLE IF EXISTS triangle;\n",
    "CREATE TABLE triangle (`x` INTEGER, `y` INTEGER, `z` INTEGER);\n",
    "INSERT INTO triangle (`x`, `y`, `z`) VALUES\n",
    "\t('13', '15', '30'),\n",
    "\t('10', '20', '15');\n",
    "\n",
    "-- Writing your MySQL query statement below\n",
    "SELECT *, CASE WHEN x + y > z \n",
    "\t\t\t AND x + z > y\n",
    "             AND y + z > x\n",
    "\t\t\tThen \"Yes\"\n",
    "\t\t    ELSE \"No\" END AS triangle\n",
    "FROM triangle"
   ]
  },
  {
   "cell_type": "markdown",
   "metadata": {},
   "source": [
    "## 612.[Medium] Shortest Distance in a Plane"
   ]
  },
  {
   "cell_type": "markdown",
   "metadata": {},
   "source": [
    "***Write a query to find the shortest distance between these points rounded to 2 decimals.***\n",
    "\n",
    "Point_2d table:\n",
    " | x  | y  |\n",
    " |:--:|:--:|\n",
    " | -1 | -1 |\n",
    " | 0  | 0  |\n",
    " | -1 | -2 |\n",
    "\n",
    "Result table:\n",
    " | shortest |\n",
    " |:--------:|\n",
    " | 1.00     |\n",
    " \n",
    "Note: \n",
    "The shortest distance is 1.00 from point (-1,-1) to (-1,-2). \n",
    "The longest distance among all the points are less than 10000.\n",
    "\n",
    "***The distance between two points (x1, y1) and (x2, y2) on a plane can be calculated by pythagorean theorem.***\n",
    "<img src = https://i0.wp.com/lifewithdata.com/wp-content/uploads/2021/08/leetcode87.png>"
   ]
  },
  {
   "cell_type": "code",
   "execution_count": null,
   "metadata": {
    "vscode": {
     "languageId": "sql"
    }
   },
   "outputs": [],
   "source": [
    "-- Creating SQL Schema\n",
    "DROP TABLE IF EXISTS point_2d;\n",
    "CREATE TABLE point_2d (`x` INTEGER, `y` INTEGER);\n",
    "INSERT INTO point_2d (`x`, `y`) VALUES\n",
    "\t('-1', '-1'),\n",
    "\t('0', '0'),\n",
    "\t('-1', '-2');\n",
    "    \n",
    "-- Writing your MySQL query statement below\n",
    "-- #1\n",
    "SELECT ROUND(SQRT(MIN(POW(p1.x-p2.x,2) + POW(p1.y-p2.y,2))),2) shortest\n",
    "FROM point_2d p1 \n",
    "CROSS JOIN point_2d p2\n",
    "WHERE NOT (p1.x = p2.x AND p1.y = p2.y);\n",
    "\n",
    "-- #2\n",
    "SELECT  ROUND(SQRT(MIN(POW(p1.x-p2.x,2) + POW(p1.y-p2.y,2))),2) shortest\n",
    "FROM point_2d p1, point_2d p2\n",
    "WHERE p1.x <> p2.x OR p1.y <> p2.y\n",
    "-- https://lifewithdata.com/2021/08/06/sql-interview-questions-leetcode-612-shortest-distance-in-a-plane/"
   ]
  },
  {
   "cell_type": "markdown",
   "metadata": {},
   "source": [
    "## 613.[Easy] Shortest Distance in a Line"
   ]
  },
  {
   "cell_type": "markdown",
   "metadata": {},
   "source": [
    "***Write a query to find the shortest distance between two points in these points.***\n",
    "\n",
    "Point table:\n",
    "| x   |\n",
    "|:---:|\n",
    "| -1  |\n",
    "| 0   |\n",
    "| 2   |\n",
    "\n",
    "Result table: \n",
    "| shortest|\n",
    "|:-------:|\n",
    "| 1       |\n",
    "\n",
    "The shortest distance is '1' obviously, which is from point '-1' to '0'."
   ]
  },
  {
   "cell_type": "code",
   "execution_count": null,
   "metadata": {
    "vscode": {
     "languageId": "sql"
    }
   },
   "outputs": [],
   "source": [
    "-- Creating SQL Schema\n",
    "DROP TABLE IF EXISTS point;\n",
    "CREATE TABLE point (`x` INTEGER, `ignore` VARCHAR(1));\n",
    "INSERT INTO point (`x`, `ignore`) VALUES\n",
    "\t('-1', '_'),\n",
    "\t('0', '_'),\n",
    "\t('2', '_');\n",
    "    \n",
    "-- Writing your MySQL query statement below\n",
    "SELECT MIN(ABS(p1.x - p2.x)) AS shortest\n",
    "FROM point p1 INNER JOIN point p2\n",
    "ON p1.x != p2.x;"
   ]
  },
  {
   "cell_type": "markdown",
   "metadata": {},
   "source": [
    "## 614.[Medium] Second Degree Follower"
   ]
  },
  {
   "cell_type": "markdown",
   "metadata": {},
   "source": [
    "***Please write a sql query to get the amount of each follower’s follower if he/she has one.***\n",
    "- ***Followee would not follow himself/herself in all cases.***\n",
    "- ***Please display the result in follower’s alphabet order.***\n",
    "\n",
    "Follow table:\n",
    "| followee    | follower   |\n",
    "|:-----------:|:----------:|\n",
    "|     A       |     B      |\n",
    "|     B       |     C      |\n",
    "|     B       |     D      |\n",
    "|     D       |     E      |\n",
    "\n",
    "Result table:\n",
    "| follower    | num        |\n",
    "|:-----------:|:----------:|\n",
    "|     B       |  2         |\n",
    "|     D       |  1         |\n",
    "\n",
    "Explaination:\n",
    "Both B and D exist in the follower list, when as a followee, B’s follower is C and D, and D’s follower is E. \n",
    "A does not exist in follower list."
   ]
  },
  {
   "cell_type": "code",
   "execution_count": null,
   "metadata": {
    "vscode": {
     "languageId": "sql"
    }
   },
   "outputs": [],
   "source": [
    "-- Creating SQL Schema\n",
    "DROP TABLE IF EXISTS follow;\n",
    "CREATE TABLE follow (`followee` VARCHAR(1), `follower` VARCHAR(1));\n",
    "INSERT INTO follow (`followee`, `follower`) VALUES\n",
    "\t('A', 'B'),\n",
    "\t('B', 'C'),\n",
    "\t('B', 'D'),\n",
    "\t('D', 'E');\n",
    "    \n",
    "-- Writing your MySQL query statement below\n",
    "-- Check\n",
    "SELECT f1.*, f2.*\n",
    "FROM follow f1 LEFT JOIN follow f2\n",
    "ON f1.follower = f2.followee;\n",
    "\n",
    "-- Final\n",
    "SELECT follower, num \n",
    "FROM (SELECT f1.follower AS follower, COUNT(DISTINCT f2.follower) AS num\n",
    "\t  FROM follow f1 LEFT JOIN follow f2\n",
    "\t  ON f1.follower = f2.followee\n",
    "      GROUP BY f1.follower) AS temp\n",
    "WHERE num > 0\n",
    "ORDER BY follower;"
   ]
  },
  {
   "cell_type": "markdown",
   "metadata": {},
   "source": [
    "## 615.[Hard] Average Salary: Departments VS Company "
   ]
  },
  {
   "cell_type": "markdown",
   "metadata": {},
   "source": [
    "***write a query to display the comparison result (higher/lower/same) of the average salary of <br/> employees in a department to the company’s average salary.***\n",
    "\n",
    "Input:<br/>\n",
    "Salary Table:\n",
    "| id | employee_id | amount | pay_date   |\n",
    "|:--:|:-----------:|:------:|:----------:|\n",
    "| 1  | 1           | 9000   | 2017-03-31 |\n",
    "| 2  | 2           | 6000   | 2017-03-31 |\n",
    "| 3  | 3           | 10000  | 2017-03-31 |\n",
    "| 4  | 1           | 7000   | 2017-02-28 |\n",
    "| 5  | 2           | 6000   | 2017-02-28 |\n",
    "| 6  | 3           | 8000   | 2017-02-28 |\n",
    "\n",
    "Employee Table:\n",
    "| employee_id | department_id |\n",
    "|:-------------:|:---------------:|\n",
    "| 1           | 1             |\n",
    "| 2           | 2             |\n",
    "| 3           | 2             |\n",
    "\n",
    "Output:\n",
    "| pay_month | department_id | comparison  |\n",
    "|:---------:|:-------------:|:-----------:|\n",
    "| 2017-03   | 1             | higher      |\n",
    "| 2017-03   | 2             | lower       |\n",
    "| 2017-02   | 1             | same        |\n",
    "| 2017-02   | 2             | same        |"
   ]
  },
  {
   "cell_type": "code",
   "execution_count": null,
   "metadata": {
    "vscode": {
     "languageId": "sql"
    }
   },
   "outputs": [],
   "source": [
    "-- Creating SQL Schema\n",
    "DROP TABLE IF EXISTS salary;\n",
    "CREATE TABLE salary (id int, employee_id INT, amount INT, pay_date DATE);\n",
    "INSERT INTO salary (id, employee_id, amount, pay_date) VALUES\n",
    "\t('1','1','9000','2017/03/31'),\n",
    "\t('2','2','6000','2017/03/31'),\n",
    "\t('3','3','10000','2017/03/31'),\n",
    "\t('4','1','7000','2017/02/28'),\n",
    "\t('5','2','6000','2017/02/28'),\n",
    "\t('6','3','8000','2017/02/28');\n",
    "DROP TABLE IF EXISTS employee;\n",
    "CREATE TABLE employee (employee_id INT, department_id INT);\n",
    "INSERT INTO employee (employee_id, department_id) VALUES\n",
    "\t('1','1'),\n",
    "\t('2','2'),\n",
    "\t('3','2');\n",
    "\n",
    "-- Write your MySQL query statement below\n",
    "SELECT LEFT(pay_date, 7) AS pay_month, department_id,\n",
    "\t   CASE WHEN department_avg > company_avg THEN 'higher'\n",
    "\t        WHEN department_avg < company_avg THEN 'lower'\n",
    "\t\t\tELSE 'same' \n",
    "            END AS comparison\n",
    "FROM(SELECT DISTINCT pay_date, department_id,\n",
    "\t\t\tAVG(amount) OVER(PARTITION BY pay_date) AS company_avg,\n",
    "\t\t\tAVG(amount) OVER(PARTITION BY pay_date, department_id) AS department_avg\n",
    "\t\t\tFROM salary AS s LEFT JOIN employee AS e\n",
    "\t\t\tON s.employee_id = e. employee_id) AS temp\n",
    "ORDER BY pay_month DESC;"
   ]
  },
  {
   "cell_type": "markdown",
   "metadata": {},
   "source": [
    "## 618.[Hard] Students Report By Geography"
   ]
  },
  {
   "cell_type": "markdown",
   "metadata": {},
   "source": [
    "***Pivot the continent column in this table so that each name is sorted alphabetically and displayed underneath its corresponding continent.***\n",
    "- ***The output headers should be America, Asia and Europe respectively.***\n",
    "\n",
    "| name   | continent |\n",
    "|:------:|:---------:|\n",
    "| Jack   | America   |\n",
    "| Pascal | Europe    |\n",
    "| Xi     | Asia      |\n",
    "| Jane   | America   |\n",
    "\n",
    "\n",
    "| America | Asia | Europe |\n",
    "|:-------:|:----:|:------:|\n",
    "| Jack    | Xi   | Pascal |\n",
    "| Jane    |      |        |\n",
    "\n",
    "Follow-up: If it is unknown which continent has the most students, can you write a query to generate the student report?"
   ]
  },
  {
   "cell_type": "code",
   "execution_count": null,
   "metadata": {
    "vscode": {
     "languageId": "sql"
    }
   },
   "outputs": [],
   "source": [
    "-- Creating SQL Schema\n",
    "DROP TABLE IF EXISTS student;\n",
    "CREATE TABLE student (`name` VARCHAR(6), `continent` VARCHAR(7));\n",
    "INSERT INTO student (`name`, `continent`) VALUES\n",
    "\t('Jack', 'America'),\n",
    "\t('Pascal', 'Europe'),\n",
    "\t('Xi', 'Asia'),\n",
    "\t('Jane', 'America');\n",
    "    \n",
    "-- Writing your MySQL query statement below\n",
    "SELECT America, Asia, Europe\n",
    "FROM(SELECT row_num,\n",
    "\t\t    MAX(CASE WHEN continent = 'America' THEN name END )AS America,\n",
    "\t\t\tMAX(CASE WHEN continent = 'Europe' THEN name END )AS Europe,\n",
    "\t\t\tMAX(CASE WHEN continent = 'Asia' THEN name END )AS Asia\n",
    "\t FROM (SELECT *,\n",
    "\t\t\t\t  ROW_NUMBER()OVER(PARTITION BY continent ORDER BY name) AS row_num\n",
    "\t\t   FROM student) AS SOURCE\n",
    "GROUP BY row_num)temp;"
   ]
  },
  {
   "cell_type": "markdown",
   "metadata": {},
   "source": [
    "## 619.[Easy] Biggest Single Number"
   ]
  },
  {
   "cell_type": "markdown",
   "metadata": {},
   "source": [
    "***Table my_numbers contains many numbers in column num including duplicated ones.***\n",
    "\n",
    "***Can you write a SQL query to find the biggest number, which only appears once?***\n",
    "\n",
    "my_numbers table:\n",
    "|num|\n",
    "|:-:|\n",
    "| 8 |\n",
    "| 8 |\n",
    "| 3 |\n",
    "| 3 |\n",
    "| 1 |\n",
    "| 4 |\n",
    "| 5 |\n",
    "| 6 | \n",
    "\n",
    "result table:\n",
    "|num|\n",
    "|:-:|\n",
    "| 6 |\n",
    "\n",
    "Note:\n",
    "If there is no such number, just output null"
   ]
  },
  {
   "cell_type": "code",
   "execution_count": null,
   "metadata": {
    "vscode": {
     "languageId": "sql"
    }
   },
   "outputs": [],
   "source": [
    "-- Creating SQL Schema\n",
    "DROP TABLE IF EXISTS my_numbers;\n",
    "CREATE TABLE my_numbers (`num` INTEGER, `ignore` VARCHAR(1));\n",
    "INSERT INTO my_numbers (`num`, `ignore`) VALUES\n",
    "\t('8', '_'),\n",
    "\t('8', '_'),\n",
    "\t('3', '_'),\n",
    "\t('3', '_'),\n",
    "\t('1', '_'),\n",
    "\t('4', '_'),\n",
    "\t('5', '_'),\n",
    "\t('6', '_');\n",
    "    \n",
    "-- Writing your MySQL query statement below\n",
    "SELECT MAX(num)\n",
    "FROM (SELECT num\n",
    "\t  FROM my_numbers\n",
    "\t  GROUP BY num \n",
    "\t  HAVING COUNT(num) = 1) AS temp;"
   ]
  },
  {
   "cell_type": "markdown",
   "metadata": {},
   "source": [
    "## 620.[Easy] Not Boring Movies"
   ]
  },
  {
   "cell_type": "markdown",
   "metadata": {},
   "source": [
    "***Write an SQL query to report the movies with an odd-numbered ID and a description that is not \"boring\".***\n",
    "- ***Return the result table ordered by rating in descending order.***\n",
    "\n",
    "Cinema table:\n",
    "| id | movie      | description | rating |\n",
    "|:--:|:----------:|:-----------:|:------:|\n",
    "| 1  | War        | great 3D    | 8.9    |\n",
    "| 2  | Science    | fiction     | 8.5    |\n",
    "| 3  | irish      | boring      | 6.2    |\n",
    "| 4  | Ice song   | Fantacy     | 8.6    |\n",
    "| 5  | House card | Interesting | 9.1    |\n",
    "\n",
    "Result table: \n",
    "| id | movie      | description | rating |\n",
    "|:--:|:----------:|:-----------:|:------:|\n",
    "| 5  | House card | Interesting | 9.1    |\n",
    "| 1  | War        | great 3D    | 8.9    |\n",
    "\n",
    "Explanation: \n",
    "We have three movies with odd-numbered IDs: 1, 3, and 5. The movie with ID = 3 is boring so we do not include it in the answer."
   ]
  },
  {
   "cell_type": "code",
   "execution_count": null,
   "metadata": {
    "vscode": {
     "languageId": "sql"
    }
   },
   "outputs": [],
   "source": [
    "-- Creating SQL Schema\n",
    "DROP TABLE IF EXISTS cinema;\n",
    "CREATE TABLE cinema (`id` INTEGER, `movie` VARCHAR(10), `description` VARCHAR(11), `rating` FLOAT);\n",
    "INSERT INTO cinema (`id`, `movie`, `description`, `rating`) VALUES\n",
    "\t('1', 'War', 'great 3D', '8.9'),\n",
    "\t('2', 'Science', 'fiction', '8.5'),\n",
    "\t('3', 'irish', 'boring', '6.2'),\n",
    "\t('4', 'Ice song', 'Fantacy', '8.6'),\n",
    "\t('5', 'House card', 'Interesting', '9.1');\n",
    "    \n",
    "-- Writing your MySQL query statement below\n",
    "SELECT id, movie, description, rating\n",
    "FROM cinema\n",
    "-- Check odd number \n",
    "WHERE MOD(id, 2) = 1 \n",
    "AND description != \"boring\"\n",
    "ORDER BY rating DESC;"
   ]
  },
  {
   "cell_type": "markdown",
   "metadata": {},
   "source": [
    "## 626.[Medium] Exchange Seats"
   ]
  },
  {
   "cell_type": "markdown",
   "metadata": {},
   "source": [
    "***Write an SQL query to swap the seat id of every two consecutive students. If the number of students is odd, the id of the last student is not swapped.**\n",
    "- ***Return the result table ordered by id in ascending order.***\n",
    "\n",
    "Seat table:\n",
    "| id | student |\n",
    "|:--:|:-------:|\n",
    "| 1  | Abbot   |\n",
    "| 2  | Doris   |\n",
    "| 3  | Emerson |\n",
    "| 4  | Green   |\n",
    "| 5  | Jeames  |\n",
    "\n",
    "Result table: \n",
    "| id | student |\n",
    "|:--:|:-------:|\n",
    "| 1  | Doris   |\n",
    "| 2  | Abbot   |\n",
    "| 3  | Green   |\n",
    "| 4  | Emerson |\n",
    "| 5  | Jeames  |\n",
    "\n",
    "Explanation: \n",
    "Note that if the number of students is odd, there is no need to change the last one's seat.\n"
   ]
  },
  {
   "cell_type": "code",
   "execution_count": null,
   "metadata": {
    "vscode": {
     "languageId": "sql"
    }
   },
   "outputs": [],
   "source": [
    "-- Creating SQL Schema\n",
    "DROP TABLE IF EXISTS seat;\n",
    "CREATE TABLE seat (`id` INTEGER, `student` VARCHAR(7));\n",
    "INSERT INTO seat (`id`, `student`) VALUES\n",
    "\t('1', 'Abbot'),\n",
    "\t('2', 'Doris'),\n",
    "\t('3', 'Emerson'),\n",
    "\t('4', 'Green'),\n",
    "\t('5', 'Jeames');\n",
    "\n",
    "-- Writing your MySQL query statement below\n",
    "SELECT (CASE WHEN MOD(id, 2) = 0 THEN id - 1\n",
    "\t\t\t WHEN id = (SELECT MAX(id) FROM seat) THEN id\n",
    "\t\t\t ELSE id + 1\n",
    "\t\t\t END) AS id, student\n",
    "FROM seat\n",
    "ORDER BY id;"
   ]
  },
  {
   "cell_type": "markdown",
   "metadata": {},
   "source": [
    "## 627.[Easy] Swap Salary"
   ]
  },
  {
   "cell_type": "markdown",
   "metadata": {},
   "source": [
    "***Write an SQL query to swap all 'f' and 'm' values (i.e., change all 'f' values to 'm' and vice versa) with a single update statement and no intermediate temporary tables.***\n",
    "***Note that you must write a single update statement, do not write any select statement for this problem.***\n",
    "\n",
    "Salary table:\n",
    "| id | name | sex | salary |\n",
    "|:--:|:----:|:---:|:------:|\n",
    "| 1  | A    | m   | 2500   |\n",
    "| 2  | B    | f   | 1500   |\n",
    "| 3  | C    | m   | 5500   |\n",
    "| 4  | D    | f   | 500    |\n",
    "\n",
    "Result table: \n",
    "| id | name | sex | salary |\n",
    "|:--:|:----:|:---:|:------:|\n",
    "| 1  | A    | f   | 2500   |\n",
    "| 2  | B    | m   | 1500   |\n",
    "| 3  | C    | f   | 5500   |\n",
    "| 4  | D    | m   | 500    |\n",
    "\n",
    "Explanation: \n",
    "(1, A) and (3, C) were changed from 'm' to 'f'.\n",
    "(2, B) and (4, D) were changed from 'f' to 'm'."
   ]
  },
  {
   "cell_type": "code",
   "execution_count": null,
   "metadata": {
    "vscode": {
     "languageId": "sql"
    }
   },
   "outputs": [],
   "source": [
    "-- Creating SQL Schema\n",
    "DROP TABLE IF EXISTS salary;\n",
    "CREATE TABLE salary (`id` INTEGER, `name` VARCHAR(1), `sex` VARCHAR(1), `salary` INTEGER);\n",
    "INSERT INTO salary (`id`, `name`, `sex`, `salary`) VALUES\n",
    "\t('1', 'A', 'm', '2500'),\n",
    "\t('2', 'B', 'f', '1500'),\n",
    "\t('3', 'C', 'm', '5500'),\n",
    "\t('4', 'D', 'f', '500');\n",
    "    \n",
    "-- Writing your MySQL query statement below\n",
    "UPDATE salary\n",
    "SET sex = CASE sex\n",
    "\t\t  WHEN 'm' THEN 'f'\n",
    "\t\t  ELSE 'm'\n",
    "\t\t  END;\n",
    "\n",
    "SELECT * FROM salary;"
   ]
  },
  {
   "cell_type": "markdown",
   "metadata": {},
   "source": [
    "## 1045.[Medium] Customers Who Bought All Products"
   ]
  },
  {
   "cell_type": "markdown",
   "metadata": {},
   "source": [
    "***Write an SQL query for a report that provides the customer ids from the Customer table that bought all the products in the Product table.***\n",
    "\n",
    "Customer table:\n",
    "| customer_id | product_key |\n",
    "|:-----------:|:-----------:|\n",
    "| 1           | 5           |\n",
    "| 2           | 6           |\n",
    "| 3           | 5           |\n",
    "| 3           | 6           |\n",
    "| 1           | 6           |\n",
    "\n",
    "Product table:\n",
    "| product_key |\n",
    "|:-----------:|\n",
    "| 5           |\n",
    "| 6           |\n",
    "\n",
    "Result table:\n",
    "| customer_id |\n",
    "|:-----------:|\n",
    "| 1           |\n",
    "| 3           |\n",
    "\n",
    "The customers who bought all the products (5 and 6) are customers with id 1 and 3."
   ]
  },
  {
   "cell_type": "code",
   "execution_count": null,
   "metadata": {
    "vscode": {
     "languageId": "sql"
    }
   },
   "outputs": [],
   "source": [
    "-- Creating SQL Schema\n",
    "DROP TABLE IF EXISTS Customer;\n",
    "CREATE TABLE Customer (\n",
    "  `customer_id` INTEGER,\n",
    "  `product_key` INTEGER);\n",
    "\n",
    "INSERT INTO Customer (`customer_id`, `product_key`) VALUES\n",
    "  ('1', '5'),\n",
    "  ('2', '6'),\n",
    "  ('3', '5'),\n",
    "  ('3', '6'),\n",
    "  ('1', '6');\n",
    "\n",
    "DROP TABLE IF EXISTS Product;\n",
    "CREATE TABLE Product (\n",
    "  `product_key` INTEGER,\n",
    "  `ignore` VARCHAR(1));\n",
    "\n",
    "INSERT INTO Product (`product_key`, `ignore`) VALUES\n",
    "  ('5', '_'),\n",
    "  ('6', '_');\n",
    "  \n",
    "-- Writing your MySQL query statement below\n",
    "SELECT customer_id\n",
    "FROM customer\n",
    "GROUP BY customer_id\n",
    "HAVING COUNT(DISTINCT product_key) = (SELECT COUNT(DISTINCT product_key) FROM Product);"
   ]
  },
  {
   "cell_type": "markdown",
   "metadata": {},
   "source": [
    "## 1050.[Easy] Actors and Directors Who Cooperated At Least Three Times"
   ]
  },
  {
   "cell_type": "markdown",
   "metadata": {},
   "source": [
    "***Write a SQL query for a report that provides the pairs (actor_id, director_id) where the actor has cooperated with the director at least three times.***\n",
    "\n",
    "ActorDirector table:\n",
    "| actor_id    | director_id | timestamp   |\n",
    "|:-----------:|:-----------:|:-----------:|\n",
    "| 1           | 1           | 0           |\n",
    "| 1           | 1           | 1           |\n",
    "| 1           | 1           | 2           |\n",
    "| 1           | 2           | 3           |\n",
    "| 1           | 2           | 4           |\n",
    "| 2           | 1           | 5           |\n",
    "| 2           | 1           | 6           |\n",
    "\n",
    "Result table: \n",
    "| actor_id    | director_id |\n",
    "|:-----------:|:-----------:|\n",
    "| 1           | 1           |\n",
    "\n",
    "Explanation: The only pair is (1, 1) where they cooperated exactly 3 times."
   ]
  },
  {
   "cell_type": "code",
   "execution_count": null,
   "metadata": {
    "vscode": {
     "languageId": "sql"
    }
   },
   "outputs": [],
   "source": [
    "-- Creating SQL Schema\n",
    "DROP TABLE IF EXISTS ActorDirector;\n",
    "CREATE TABLE ActorDirector (\n",
    "  `actor_id` INTEGER,\n",
    "  `director_id` INTEGER,\n",
    "  `timestamp` INTEGER);\n",
    "\n",
    "INSERT INTO ActorDirector (`actor_id`, `director_id`, `timestamp`) VALUES\n",
    "  ('1', '1', '0'),\n",
    "  ('1', '1', '1'),\n",
    "  ('1', '1', '2'),\n",
    "  ('1', '2', '3'),\n",
    "  ('1', '2', '4'),\n",
    "  ('2', '1', '5'),\n",
    "  ('2', '1', '6');\n",
    "  \n",
    "-- Writing your MySQL query statement below\n",
    "SELECT actor_id, director_id\n",
    "FROM ActorDirector\n",
    "GROUP BY actor_id, director_id\n",
    "HAVING COUNT(director_id) >=3\n"
   ]
  },
  {
   "cell_type": "markdown",
   "metadata": {},
   "source": [
    "## 1068.[Easy] Product Sales Analysis I"
   ]
  },
  {
   "cell_type": "markdown",
   "metadata": {},
   "source": [
    "***Write an SQL query that reports all product names of the products in the Sales table along with their selling year and price.***\n",
    "\n",
    "Sales table:\n",
    "| sale_id | product_id | year | quantity | price |\n",
    "|:-------:|:----------:|:----:|:--------:|:-----:|\n",
    "| 1       | 100        | 2008 | 10       | 5000  |\n",
    "| 2       | 100        | 2009 | 12       | 5000  |\n",
    "| 7       | 200        | 2011 | 15       | 9000  |\n",
    "\n",
    "Product table:\n",
    "| product_id | product_name |\n",
    "|:----------:|:------------:|\n",
    "| 100        | Nokia        |\n",
    "| 200        | Apple        |\n",
    "| 300        | Samsung      |\n",
    "\n",
    "Result table:\n",
    "| product_name | year  | price |\n",
    "|:------------:|:-----:|:-----:|\n",
    "| Nokia        | 2008  | 5000  |\n",
    "| Nokia        | 2009  | 5000  |\n",
    "| Apple        | 2011  | 9000  |"
   ]
  },
  {
   "cell_type": "code",
   "execution_count": null,
   "metadata": {
    "vscode": {
     "languageId": "sql"
    }
   },
   "outputs": [],
   "source": [
    "-- Creating SQL Schema\n",
    "DROP TABLE IF EXISTS Sales;\n",
    "CREATE TABLE Sales (\n",
    "  `sale_id` INTEGER,\n",
    "  `product_id` INTEGER,\n",
    "  `year` INTEGER,\n",
    "  `quantity` INTEGER,\n",
    "  `price` INTEGER);\n",
    "\n",
    "INSERT INTO Sales (`sale_id`, `product_id`, `year`, `quantity`, `price`) VALUES\n",
    "  ('1', '100', '2008', '10', '5000'),\n",
    "  ('2', '100', '2009', '12', '5000'),\n",
    "  ('7', '200', '2011', '15', '9000');\n",
    "\n",
    "DROP TABLE IF EXISTS Product;\n",
    "CREATE TABLE Product (\n",
    "  `product_id` INTEGER,\n",
    "  `product_name` VARCHAR(7));\n",
    "\n",
    "INSERT INTO Product (`product_id`, `product_name`) VALUES\n",
    "  ('100', 'Nokia'),\n",
    "  ('200', 'Apple'),\n",
    "  ('300', 'Samsung');\n",
    "\n",
    "-- Writing your MySQL query statement below\n",
    "SELECT p.product_name, s.year, s.price\n",
    "FROM Sales s LEFT JOIN Product p\n",
    "ON s.product_id = p.product_id\n"
   ]
  },
  {
   "cell_type": "markdown",
   "metadata": {},
   "source": [
    "## 1069.[Easy] Product Sales Analysis II"
   ]
  },
  {
   "cell_type": "markdown",
   "metadata": {},
   "source": [
    "***Write an SQL query that reports the total quantity sold for every product id.***\n",
    "\n",
    "Sales table:\n",
    "| sale_id | product_id | year | quantity | price |\n",
    "|:-------:|:----------:|:----:|:--------:|:-----:|\n",
    "| 1       | 100        | 2008 | 10       | 5000  |\n",
    "| 2       | 100        | 2009 | 12       | 5000  |\n",
    "| 7       | 200        | 2011 | 15       | 9000  |\n",
    "\n",
    "Product table:\n",
    "| product_id | product_name |\n",
    "|:----------:|:------------:|\n",
    "| 100        | Nokia        |\n",
    "| 200        | Apple        |\n",
    "| 300        | Samsung      |\n",
    "\n",
    "Result table:\n",
    "| product_id   | total_quantity |\n",
    "|:------------:|:--------------:|\n",
    "| 100          | 22             |\n",
    "| 200          | 15             |\n"
   ]
  },
  {
   "cell_type": "code",
   "execution_count": null,
   "metadata": {
    "vscode": {
     "languageId": "sql"
    }
   },
   "outputs": [],
   "source": [
    "-- Creating SQL Schema\n",
    "DROP TABLE IF EXISTS Sales;\n",
    "CREATE TABLE Sales (\n",
    "`sale_id` INTEGER,\n",
    "  `product_id` INTEGER,\n",
    "  `year` INTEGER,\n",
    "  `quantity` INTEGER,\n",
    "  `price` INTEGER);\n",
    "\n",
    "INSERT INTO Sales (`sale_id`, `product_id`, `year`, `quantity`, `price`) VALUES\n",
    "  ('1', '100', '2008', '10', '5000'),\n",
    "  ('2', '100', '2009', '12', '5000'),\n",
    "  ('7', '200', '2011', '15', '9000');\n",
    "\n",
    "DROP TABLE IF EXISTS Product;\n",
    "CREATE TABLE Product (\n",
    "  `product_id` INTEGER,\n",
    "  `product_name` VARCHAR(7));\n",
    "\n",
    "INSERT INTO Product (`product_id`, `product_name`) VALUES\n",
    "  ('100', 'Nokia'),\n",
    "  ('200', 'Apple'),\n",
    "  ('300', 'Samsung');\n",
    "  \n",
    "-- Writing your MySQL query statement below\n",
    "SELECT  product_id, SUM(quantity) AS total_quantity\n",
    "FROM Sales\n",
    "GROUP BY product_id"
   ]
  },
  {
   "cell_type": "markdown",
   "metadata": {},
   "source": [
    "## 1070.[Medium] Product Sales Analysis III"
   ]
  },
  {
   "cell_type": "markdown",
   "metadata": {},
   "source": [
    "***Write an SQL query that selects the product id, year, quantity, and price for the first year of every product sold.***\n",
    "\n",
    "Sales table:\n",
    "| sale_id | product_id | year | quantity | price |\n",
    "|:-------:|:----------:|:----:|:--------:|:-----:|\n",
    "| 1       | 100        | 2008 | 10       | 5000  |\n",
    "| 2       | 100        | 2009 | 12       | 5000  |\n",
    "| 7       | 200        | 2011 | 15       | 9000  |\n",
    "\n",
    "Product table:\n",
    "| product_id | product_name |\n",
    "|:----------:|:------------:|\n",
    "| 100        | Nokia        |\n",
    "| 200        | Apple        |\n",
    "| 300        | Samsung      |\n",
    "\n",
    "Result table:\n",
    "| product_id | first_year | quantity | price |\n",
    "|:----------:|:----------:|:--------:|:-----:|\n",
    "| 100        | 2008       | 10       | 5000  |\n",
    "| 200        | 2011       | 15       | 9000  |"
   ]
  },
  {
   "cell_type": "code",
   "execution_count": null,
   "metadata": {
    "vscode": {
     "languageId": "sql"
    }
   },
   "outputs": [],
   "source": [
    "-- Creating SQL Schema\n",
    "DROP TABLE IF EXISTS Sales;\n",
    "CREATE TABLE Sales (\n",
    "  `sale_id` INTEGER,\n",
    "  `product_id` INTEGER,\n",
    "  `year` INTEGER,\n",
    "  `quantity` INTEGER,\n",
    "  `price` INTEGER);\n",
    "\n",
    "INSERT INTO Sales (`sale_id`, `product_id`, `year`, `quantity`, `price`) VALUES\n",
    "  ('1', '100', '2008', '10', '5000'),\n",
    "  ('2', '100', '2009', '12', '5000'),\n",
    "  ('7', '200', '2011', '15', '9000');\n",
    "\n",
    "DROP TABLE IF EXISTS Product;\n",
    "CREATE TABLE Product (\n",
    "  `product_id` INTEGER,\n",
    "  `product_name` VARCHAR(7));\n",
    "\n",
    "INSERT INTO Product (`product_id`, `product_name`) VALUES\n",
    "  ('100', 'Nokia'),\n",
    "  ('200', 'Apple'),\n",
    "  ('300', 'Samsung');\n",
    "\n",
    "-- Writing your MySQL query statement below\n",
    "SELECT product_id, year AS first_year, quantity, price\n",
    "FROM (SELECT product_id, year, quantity, price, ROW_NUMBER() OVER (PARTITION BY product_id ORDER BY year ASC) AS yr\n",
    "\t  FROM Sales) t\n",
    "WHERE yr = 1;"
   ]
  },
  {
   "cell_type": "markdown",
   "metadata": {},
   "source": [
    "## 1075.[Easy] Project Employees I"
   ]
  },
  {
   "cell_type": "markdown",
   "metadata": {},
   "source": [
    "***Write an SQL query that reports the average experience years of all the employees for each project, rounded to 2 digits.***\n",
    "\n",
    "Project table:\n",
    "| project_id  | employee_id |\n",
    "|:-----------:|:-----------:|\n",
    "| 1           | 1           |\n",
    "| 1           | 2           |\n",
    "| 1           | 3           |\n",
    "| 2           | 1           |\n",
    "| 2           | 4           |\n",
    "\n",
    "Employee table:\n",
    "| employee_id | name   | experience_years |\n",
    "|:-----------:|:------:|:----------------:|\n",
    "| 1           | Khaled | 3                |\n",
    "| 2           | Ali    | 2                |\n",
    "| 3           | John   | 1                |\n",
    "| 4           | Doe    | 2                |\n",
    "\n",
    "Result table:\n",
    "| project_id  | average_years |\n",
    "|:-----------:|:-------------:|\n",
    "| 1           | 2.00          |\n",
    "| 2           | 2.50          |\n",
    "\n",
    "The average experience years for the first project is (3 + 2 + 1) / 3 = 2.00 and for the second project is (3 + 2) / 2 = 2.50"
   ]
  },
  {
   "cell_type": "code",
   "execution_count": null,
   "metadata": {
    "vscode": {
     "languageId": "sql"
    }
   },
   "outputs": [],
   "source": [
    "-- Creating SQL Schema\n",
    "DROP TABLE IF EXISTS Project;\n",
    "CREATE TABLE Project (\n",
    "  `project_id` INTEGER,\n",
    "  `employee_id` INTEGER);\n",
    "\n",
    "INSERT INTO Project (`project_id`, `employee_id`) VALUES\n",
    "  ('1', '1'),\n",
    "  ('1', '2'),\n",
    "  ('1', '3'),\n",
    "  ('2', '1'),\n",
    "  ('2', '4');\n",
    "\n",
    "DROP TABLE IF EXISTS Employee;\n",
    "CREATE TABLE Employee (\n",
    "  `employee_id` INTEGER,\n",
    "  `name` VARCHAR(6),\n",
    "  `experience_years` INTEGER);\n",
    "\n",
    "INSERT INTO Employee (`employee_id`, `name`, `experience_years`) VALUES\n",
    "  ('1', 'Khaled', '3'),\n",
    "  ('2', 'Ali', '2'),\n",
    "  ('3', 'John', '1'),\n",
    "  ('4', 'Doe', '2');\n",
    "  \n",
    "-- Writing your MySQL query statement below\n",
    "SELECT p.project_id, ROUND(AVG(e.experience_years), 2) AS average_years\n",
    "FROM Project p LEFT JOIN Employee e \n",
    "ON p.employee_id = e.employee_id \n",
    "GROUP BY p.project_id"
   ]
  },
  {
   "cell_type": "markdown",
   "metadata": {},
   "source": [
    "## 1076.[Easy] Project Employees II"
   ]
  },
  {
   "cell_type": "markdown",
   "metadata": {},
   "source": [
    "***Write an SQL query that reports all the projects that have the most employees.***\n",
    "\n",
    "Project table:\n",
    "| project_id  | employee_id |\n",
    "|:-----------:|:-----------:|\n",
    "| 1           | 1           |\n",
    "| 1           | 2           |\n",
    "| 1           | 3           |\n",
    "| 2           | 1           |\n",
    "| 2           | 4           |\n",
    "\n",
    "Employee table:\n",
    "| employee_id | name   | experience_years |\n",
    "|:-----------:|:------:|:----------------:|\n",
    "| 1           | Khaled | 3                |\n",
    "| 2           | Ali    | 2                |\n",
    "| 3           | John   | 1                |\n",
    "| 4           | Doe    | 2                |\n",
    "\n",
    "Result table:\n",
    "| project_id  |\n",
    "|:-----------:|\n",
    "| 1           |\n",
    "\n",
    "The first project has 3 employees while the second one has 2."
   ]
  },
  {
   "cell_type": "code",
   "execution_count": null,
   "metadata": {
    "vscode": {
     "languageId": "sql"
    }
   },
   "outputs": [],
   "source": [
    "-- Creating SQL Schema\n",
    "DROP TABLE IF EXISTS Project;\n",
    "CREATE TABLE Project (\n",
    "  `project_id` INTEGER,\n",
    "  `employee_id` INTEGER);\n",
    "\n",
    "INSERT INTO Project (`project_id`, `employee_id`) VALUES\n",
    "  ('1', '1'),\n",
    "  ('1', '2'),\n",
    "  ('1', '3'),\n",
    "  ('2', '1'),\n",
    "  ('2', '4');\n",
    "\n",
    "CREATE TABLE Employee (\n",
    "  `employee_id` INTEGER,\n",
    "  `name` VARCHAR(6),\n",
    "  `experience_years` INTEGER);\n",
    "\n",
    "INSERT INTO Employee (`employee_id`, `name`, `experience_years`) VALUES\n",
    "  ('1', 'Khaled', '3'),\n",
    "  ('2', 'Ali', '2'),\n",
    "  ('3', 'John', '1'),\n",
    "  ('4', 'Doe', '2');\n",
    "  \n",
    "-- Writing your MySQL query statement below\n",
    "SELECT project_id\n",
    "FROM Project\n",
    "GROUP BY project_id\n",
    "HAVING COUNT(employee_id) = (SELECT COUNT(employee_id)\n",
    "\t\t\t\t\t\t\t FROM Project\n",
    "\t\t\t\t\t\t\t GROUP BY project_id\n",
    "\t\t\t\t\t\t\t ORDER BY COUNT(employee_id) DESC\n",
    "\t\t\t\t\t\t\t LIMIT 1);"
   ]
  },
  {
   "cell_type": "markdown",
   "metadata": {},
   "source": [
    "## 1077.[Medium] Project Employees III"
   ]
  },
  {
   "cell_type": "markdown",
   "metadata": {},
   "source": [
    "***Write an SQL query that reports the most experienced employees in each project. \n",
    "In case of a tie, report all employees with the maximum number of experience years.***\n",
    "\n",
    "Project table:\n",
    "| project_id  | employee_id |\n",
    "|:-----------:|:-----------:|\n",
    "| 1           | 1           |\n",
    "| 1           | 2           |\n",
    "| 1           | 3           |\n",
    "| 2           | 1           |\n",
    "| 2           | 4           |\n",
    "\n",
    "Employee table:\n",
    "| employee_id | name   | experience_years |\n",
    "|:-----------:|:------:|:----------------:|\n",
    "| 1           | Khaled | 3                |\n",
    "| 2           | Ali    | 2                |\n",
    "| 3           | John   | 3                |\n",
    "| 4           | Doe    | 2                |\n",
    "\n",
    "Result table:\n",
    "| project_id  | employee_id   |\n",
    "|:-----------:|:-------------:|\n",
    "| 1           | 1             |\n",
    "| 1           | 3             |\n",
    "| 2           | 1             |\n",
    "\n",
    "Both employees with id 1 and 3 have the most experience among the employees of the first project. For the second project, the employee with id 1 has the most experience."
   ]
  },
  {
   "cell_type": "code",
   "execution_count": null,
   "metadata": {
    "vscode": {
     "languageId": "sql"
    }
   },
   "outputs": [],
   "source": [
    "-- Creating SQL Schema\n",
    "DROP TABLE IF EXISTS Project;\n",
    "CREATE TABLE Project (\n",
    "  `project_id` INTEGER,\n",
    "  `employee_id` INTEGER);\n",
    "\n",
    "INSERT INTO Project (`project_id`, `employee_id`) VALUES\n",
    "  ('1', '1'),\n",
    "  ('1', '2'),\n",
    "  ('1', '3'),\n",
    "  ('2', '1'),\n",
    "  ('2', '4');\n",
    "\n",
    "DROP TABLE IF EXISTS Employee;\n",
    "CREATE TABLE Employee (\n",
    "  `employee_id` INTEGER,\n",
    "  `name` VARCHAR(6),\n",
    "  `experience_years` INTEGER);\n",
    "\n",
    "INSERT INTO Employee (`employee_id`, `name`, `experience_years`) VALUES\n",
    "  ('1', 'Khaled', '3'),\n",
    "  ('2', 'Ali', '2'),\n",
    "  ('3', 'John', '3'),\n",
    "  ('4', 'Doe', '2');\n",
    "\n",
    "-- Writing your MySQL query statement below\n",
    "SELECT project_id, employee_id\n",
    "FROM (SELECT p.project_id, e.employee_id, e.name, e.experience_years, \n",
    "             RANK() OVER (PARTITION BY p.project_id ORDER BY e.experience_years DESC) AS yr\n",
    "\t  FROM Project p LEFT JOIN Employee e\n",
    "\t  ON p.employee_id = e.employee_id) t\n",
    "WHERE yr = 1;"
   ]
  },
  {
   "cell_type": "markdown",
   "metadata": {},
   "source": [
    "## 1082.[Easy] Sales Analysis I"
   ]
  },
  {
   "cell_type": "markdown",
   "metadata": {},
   "source": [
    "***Write an SQL query that reports the best seller by total sales price, If there is a tie, report them all.***\n",
    "\n",
    "Product table:\n",
    "| product_id | product_name | unit_price |\n",
    "|:----------:|:------------:|:----------:|\n",
    "| 1          | S8           | 1000       |\n",
    "| 2          | G4           | 800        |\n",
    "| 3          | iPhone       | 1400       |\n",
    "\n",
    "Sales table:\n",
    "| seller_id | product_id | buyer_id | sale_date  | quantity | price |\n",
    "|:---------:|:----------:|:--------:|:----------:|:--------:|:-----:|\n",
    "| 1         | 1          | 1        | 2019-01-21 | 2        | 2000  |\n",
    "| 1         | 2          | 2        | 2019-02-17 | 1        | 800   |\n",
    "| 2         | 2          | 3        | 2019-06-02 | 1        | 800   |\n",
    "| 3         | 3          | 4        | 2019-05-13 | 2        | 2800  |\n",
    "\n",
    "Result table:\n",
    "| seller_id   |\n",
    "|:-----------:|\n",
    "| 1           |\n",
    "| 3           |\n",
    "\n",
    "Both sellers with id 1 and 3 sold products with the most total price of 2800."
   ]
  },
  {
   "cell_type": "code",
   "execution_count": null,
   "metadata": {
    "vscode": {
     "languageId": "sql"
    }
   },
   "outputs": [],
   "source": [
    "-- Creating SQL Schema\n",
    "DROP TABLE IF EXISTS Product;\n",
    "CREATE TABLE Product (\n",
    "  `product_id` INTEGER,\n",
    "  `product_name` VARCHAR(6),\n",
    "  `unit_price` INTEGER);\n",
    "\n",
    "INSERT INTO Product (`product_id`, `product_name`, `unit_price`) VALUES\n",
    "  ('1', 'S8', '1000'),\n",
    "  ('2', 'G4', '800'),\n",
    "  ('3', 'iPhone', '1400');\n",
    "\n",
    "DROP TABLE IF EXISTS Sales;\n",
    "CREATE TABLE Sales (\n",
    "  `seller_id` INTEGER,\n",
    "  `product_id` INTEGER,\n",
    "  `buyer_id` INTEGER,\n",
    "  `sale_date` DATETIME,\n",
    "  `quantity` INTEGER,\n",
    "  `price` INTEGER);\n",
    "\n",
    "INSERT INTO Sales (`seller_id`, `product_id`, `buyer_id`, `sale_date`, `quantity`, `price`) VALUES\n",
    "  ('1', '1', '1', '2019-01-21', '2', '2000'),\n",
    "  ('1', '2', '2', '2019-02-17', '1', '800'),\n",
    "  ('2', '2', '3', '2019-06-02', '1', '800'),\n",
    "  ('3', '3', '4', '2019-05-13', '2', '2800');\n",
    "  \n",
    "-- Writing your MySQL query statement below\n",
    "SELECT seller_id \n",
    "FROM Sales\n",
    "GROUP BY seller_id\n",
    "HAVING SUM(price) = (SELECT SUM(price)\n",
    "\t\t\t\t\t FROM Sales\n",
    "\t\t\t\t\t GROUP BY seller_id\n",
    "                     ORDER BY SUM(price) DESC\n"
   ]
  },
  {
   "cell_type": "markdown",
   "metadata": {},
   "source": [
    "## 1083.[Easy] Sales Analysis II"
   ]
  },
  {
   "cell_type": "markdown",
   "metadata": {},
   "source": [
    "***Write an SQL query that reports the buyers who have bought S8 but not iPhone. \n",
    "Note that S8 and iPhone are products present in the Product table.***\n",
    "\n",
    "Product table:\n",
    "| product_id | product_name | unit_price |\n",
    "|:----------:|:------------:|:----------:|\n",
    "| 1          | S8           | 1000       |\n",
    "| 2          | G4           | 800        |\n",
    "| 3          | iPhone       | 1400       |\n",
    "\n",
    "Sales table:\n",
    "| seller_id | product_id | buyer_id | sale_date  | quantity | price |\n",
    "|:---------:|:----------:|:--------:|:----------:|:--------:|:-----:|\n",
    "| 1         | 1          | 1        | 2019-01-21 | 2        | 2000  |\n",
    "| 1         | 2          | 2        | 2019-02-17 | 1        | 800   |\n",
    "| 2         | 1          | 3        | 2019-06-02 | 1        | 800   |\n",
    "| 3         | 3          | 3        | 2019-05-13 | 2        | 2800  |\n",
    "\n",
    "Result table:\n",
    "| buyer_id    |\n",
    "|:-----------:|\n",
    "| 1           |\n",
    "\n",
    "The buyer with id 1 bought an S8 but didn't buy an iPhone. The buyer with id 3 bought both."
   ]
  },
  {
   "cell_type": "markdown",
   "metadata": {},
   "source": [
    "-- Creating SQL Schema\n",
    "DROP TABLE IF EXISTS Product;\n",
    "CREATE TABLE Product (\n",
    "  `product_id` INTEGER,\n",
    "  `product_name` VARCHAR(6),\n",
    "  `unit_price` INTEGER);\n",
    "\n",
    "INSERT INTO Product (`product_id`, `product_name`, `unit_price`) VALUES\n",
    "  ('1', 'S8', '1000'),\n",
    "  ('2', 'G4', '800'),\n",
    "  ('3', 'iPhone', '1400');\n",
    "\n",
    "DROP TABLE IF EXISTS Sales;\n",
    "CREATE TABLE Sales (\n",
    "  `seller_id` INTEGER,\n",
    "  `product_id` INTEGER,\n",
    "  `buyer_id` INTEGER,\n",
    "  `sale_date` DATETIME,\n",
    "  `quantity` INTEGER,\n",
    "  `price` INTEGER);\n",
    "\n",
    "INSERT INTO Sales (`seller_id`, `product_id`, `buyer_id`, `sale_date`, `quantity`, `price`) VALUES\n",
    "  ('1', '1', '1', '2019-01-21', '2', '2000'),\n",
    "  ('1', '2', '2', '2019-02-17', '1', '800'),\n",
    "  ('2', '1', '3', '2019-06-02', '1', '800'),\n",
    "  ('3', '3', '3', '2019-05-13', '2', '2800');\n",
    "\n",
    "-- Writing your MySQL query statement below\n",
    "SELECT DISTINCT s.buyer_id\n",
    "FROM Sales s LEFT JOIN Product p\n",
    "ON s.product_id = p.product_id\n",
    "WHERE p.product_name = \"S8\"\n",
    "AND s.buyer_id NOT IN (SELECT s.buyer_id\n",
    "\t\t\t\t\t   FROM Sales s LEFT JOIN Product p\n",
    "\t\t\t\t\t   ON s.product_id = p.product_id\n",
    "\t\t\t\t\t   WHERE p.product_name IN (\"G4\", \"iPhone\"));\n",
    "\n",
    "SELECT s.buyer_id\n",
    "FROM Sales s LEFT JOIN Product p\n",
    "ON s.product_id = p.product_id\n",
    "GROUP BY buyer_id\n",
    "HAVING SUM(product_name = 'S8') > 0 \n",
    "AND SUM(product_name = 'G4') = 0\n",
    "AND SUM(product_name = 'iPhone') = 0;"
   ]
  },
  {
   "cell_type": "markdown",
   "metadata": {},
   "source": [
    "## 1084.[Easy] Sales Analysis III"
   ]
  },
  {
   "cell_type": "markdown",
   "metadata": {},
   "source": [
    "***Write an SQL query that reports the products that were only sold in spring 2019. \n",
    "That is, between 2019-01-01 and 2019-03-31 inclusive.***\n",
    "\n",
    "Product table:\n",
    "| product_id | product_name | unit_price |\n",
    "|:----------:|:------------:|:----------:|\n",
    "| 1          | S8           | 1000       |\n",
    "| 2          | G4           | 800        |\n",
    "| 3          | iPhone       | 1400       |\n",
    "\n",
    "Sales table:\n",
    "| seller_id | product_id | buyer_id | sale_date  | quantity | price |\n",
    "|:---------:|:----------:|:--------:|:----------:|:--------:|:-----:|\n",
    "| 1         | 1          | 1        | 2019-01-21 | 2        | 2000  |\n",
    "| 1         | 2          | 2        | 2019-02-17 | 1        | 800   |\n",
    "| 2         | 2          | 3        | 2019-06-02 | 1        | 800   |\n",
    "| 3         | 3          | 4        | 2019-05-13 | 2        | 2800  |\n",
    "\n",
    "Result table:\n",
    "| product_id  | product_name |\n",
    "|:-----------:|:------------:|\n",
    "| 1           | S8           |\n",
    "\n",
    "The product with id 1 was only sold in spring 2019 while the other two were sold after."
   ]
  },
  {
   "cell_type": "code",
   "execution_count": null,
   "metadata": {
    "vscode": {
     "languageId": "sql"
    }
   },
   "outputs": [],
   "source": [
    "-- Creating SQL Schema\n",
    "DROP TABLE IF EXISTS Product;\n",
    "CREATE TABLE Product (\n",
    "  `product_id` INTEGER,\n",
    "  `product_name` VARCHAR(6),\n",
    "  `unit_price` INTEGER);\n",
    "\n",
    "INSERT INTO Product (`product_id`, `product_name`, `unit_price`) VALUES\n",
    "  ('1', 'S8', '1000'),\n",
    "  ('2', 'G4', '800'),\n",
    "  ('3', 'iPhone', '1400');\n",
    "\n",
    "DROP TABLE IF EXISTS Sales;\n",
    "CREATE TABLE Sales (\n",
    "  `seller_id` INTEGER,\n",
    "  `product_id` INTEGER,\n",
    "  `buyer_id` INTEGER,\n",
    "  `sale_date` DATETIME,\n",
    "  `quantity` INTEGER,\n",
    "  `price` INTEGER);\n",
    "\n",
    "INSERT INTO Sales (`seller_id`, `product_id`, `buyer_id`, `sale_date`, `quantity`, `price`) VALUES\n",
    "  ('1', '1', '1', '2019-01-21', '2', '2000'),\n",
    "  ('1', '2', '2', '2019-02-17', '1', '800'),\n",
    "  ('2', '2', '3', '2019-06-02', '1', '800'),\n",
    "  ('3', '3', '4', '2019-05-13', '2', '2800');\n",
    "\n",
    "-- Writing your MySQL query statement below\n",
    "SELECT p.product_id, p.product_name \n",
    "FROM Product p LEFT JOIN Sales s\n",
    "ON p.product_id = s.product_id \n",
    "GROUP BY p.product_id, p.product_name \n",
    "HAVING MIN(s.sale_date) >= \"2019-01-01\" AND MAX(s.sale_date) <= \"2019-03-31\";"
   ]
  },
  {
   "cell_type": "markdown",
   "metadata": {},
   "source": [
    "## 1097.[Hard] Game Play Analysis V"
   ]
  },
  {
   "cell_type": "markdown",
   "metadata": {},
   "source": [
    "***Write an SQL query that reports for each install date, the number of players that installed the game on that day and the day 1 retention.***\n",
    "\n",
    "Activity table:\n",
    "| player_id | device_id | event_date | games_played |\n",
    "|:---------:|:---------:|:----------:|:------------:|\n",
    "| 1         | 2         | 2016-03-01 | 5            |\n",
    "| 1         | 2         | 2016-03-02 | 6            |\n",
    "| 2         | 3         | 2017-06-25 | 1            |\n",
    "| 3         | 1         | 2016-03-01 | 0            |\n",
    "| 3         | 4         | 2016-07-03 | 5            |\n",
    "\n",
    "Result table:\n",
    "| install_dt | installs | Day1_retention |\n",
    "|:----------:|:--------:|:--------------:|\n",
    "| 2016-03-01 | 2        | 0.50           |\n",
    "| 2017-06-25 | 1        | 0.00           |\n",
    "\n",
    "Player 1 and 3 installed the game on 2016-03-01 but only player 1 logged back in on 2016-03-02 so the day 1 retention of 2016-03-01 is 1 / 2 = 0.50\n",
    "Player 2 installed the game on 2017-06-25 but didn't log back in on 2017-06-26 so the day 1 retention of 2017-06-25 is 0 / 1 = 0.00\n"
   ]
  },
  {
   "cell_type": "code",
   "execution_count": null,
   "metadata": {
    "vscode": {
     "languageId": "sql"
    }
   },
   "outputs": [],
   "source": [
    "-- Creating SQL Schema\n",
    "DROP TABLE IF EXISTS Activity;\n",
    "CREATE TABLE Activity (\n",
    "  `player_id` INTEGER,\n",
    "  `device_id` INTEGER,\n",
    "  `event_date` DATETIME,\n",
    "  `games_played` INTEGER);\n",
    "\n",
    "INSERT INTO Activity (`player_id`, `device_id`, `event_date`, `games_played`) VALUES\n",
    "  ('1', '2', '2016-03-01', '5'),\n",
    "  ('1', '2', '2016-03-02', '6'),\n",
    "  ('2', '3', '2017-06-25', '1'),\n",
    "  ('3', '1', '2016-03-01', '0'),\n",
    "  ('3', '4', '2016-07-03', '5');\n",
    "  \n",
    "-- Writing your MySQL query statement below\n",
    "SELECT CAST(t1.event_date AS DATE) AS install_dt, COUNT(t1.player_id) AS installs, ROUND(COUNT(t3.player_id)/COUNT(t1.player_id), 2) AS Day1_retention\n",
    "FROM Activity t1 LEFT JOIN Activity t2 \n",
    "ON t1.player_id = t2.player_id AND t1.event_date > t2.event_date LEFT JOIN Activity t3\n",
    "ON t1.player_id = t3.player_id AND DATEDIFF(t3.event_date, t1.event_date) = 1\n",
    "WHERE t2.event_date IS NULL \n",
    "GROUP BY t1.event_date;"
   ]
  },
  {
   "cell_type": "markdown",
   "metadata": {},
   "source": [
    "## 1098.[Medium] Unpopular Books"
   ]
  },
  {
   "cell_type": "markdown",
   "metadata": {},
   "source": [
    "***Write an SQL query that reports the books that have sold less than 10 copies in the last year, excluding books that have been available for less than 1 month from today. Assume today is 2019-06-23.***\n",
    "\n",
    "Books table:\n",
    "| book_id | name               | available_from |\n",
    "|:-------:|:------------------:|:--------------:|\n",
    "| 1       | \"Kalila And Demna\" | 2010-01-01     |\n",
    "| 2       | \"28 Letters\"       | 2012-05-12     |\n",
    "| 3       | \"The Hobbit\"       | 2019-06-10     |\n",
    "| 4       | \"13 Reasons Why\"   | 2019-06-01     |\n",
    "| 5       | \"The Hunger Games\" | 2008-09-21     |\n",
    "\n",
    "Orders table:\n",
    "| order_id | book_id | quantity | dispatch_date |\n",
    "|:--------:|:-------:|:--------:|:-------------:|\n",
    "| 1        | 1       | 2        | 2018-07-26    |\n",
    "| 2        | 1       | 1        | 2018-11-05    |\n",
    "| 3        | 3       | 8        | 2019-06-11    |\n",
    "| 4        | 4       | 6        | 2019-06-05    |\n",
    "| 5        | 4       | 5        | 2019-06-20    |\n",
    "| 6        | 5       | 9        | 2009-02-02    |\n",
    "| 7        | 5       | 8        | 2010-04-13    |\n",
    "\n",
    "Result table:\n",
    "| book_id   | name               |\n",
    "|:---------:|:------------------:|\n",
    "| 1         | \"Kalila And Demna\" |\n",
    "| 2         | \"28 Letters\"       |\n",
    "| 5         | \"The Hunger Games\" |"
   ]
  },
  {
   "cell_type": "code",
   "execution_count": null,
   "metadata": {
    "vscode": {
     "languageId": "sql"
    }
   },
   "outputs": [],
   "source": [
    "-- Creating SQL Schema\n",
    "DROP TABLE IF EXISTS Books;\n",
    "CREATE TABLE Books (\n",
    "  `book_id` INTEGER,\n",
    "  `name` VARCHAR(18),\n",
    "  `available_from` DATETIME);\n",
    "\n",
    "INSERT INTO Books (`book_id`, `name`, `available_from`) VALUES\n",
    "  ('1', 'Kalila And Demna', '2010-01-01'),\n",
    "  ('2', '28 Letters', '2012-05-12'),\n",
    "  ('3', 'The Hobbit', '2019-06-10'),\n",
    "  ('4', '13 Reasons Why', '2019-06-01'),\n",
    "  ('5', 'The Hunger Games', '2008-09-21');\n",
    "\n",
    "DROP TABLE IF EXISTS Orders;\n",
    "CREATE TABLE Orders (\n",
    "  `order_id` INTEGER,\n",
    "  `book_id` INTEGER,\n",
    "  `quantity` INTEGER,\n",
    "  `dispatch_date` DATETIME);\n",
    "\n",
    "INSERT INTO Orders (`order_id`, `book_id`, `quantity`, `dispatch_date`) VALUES\n",
    "  ('1', '1', '2', '2018-07-26'),\n",
    "  ('2', '1', '1', '2018-11-05'),\n",
    "  ('3', '3', '8', '2019-06-11'),\n",
    "  ('4', '4', '6', '2019-06-05'),\n",
    "  ('5', '4', '5', '2019-06-20'),\n",
    "  ('6', '5', '9', '2009-02-02'),\n",
    "  ('7', '5', '8', '2010-04-13');\n",
    "  \n",
    "-- Writing your MySQL query statement below\n",
    "#\n",
    "SELECT b.book_id, b.name\n",
    "FROM Books b LEFT JOIN Orders o\n",
    "ON b.book_id = o.book_id\n",
    "WHERE DATE_ADD(b.available_from, INTERVAL 1 MONTH) < \"2019-06-23\"\n",
    "GROUP BY b.book_id, b.name\n",
    "HAVING SUM(CASE WHEN DATE_ADD(o.dispatch_date, INTERVAL 1 YEAR) > '2019-06-23'\n",
    "                THEN o.quantity\n",
    "                ELSE 0 END) < 10;\n",
    "-- HAVING SUM(IF(DATE_ADD(o.dispatch_date, INTERVAL 1 YEAR) > \"2019-06-23\", o.quantity, 0)) < 10;\n",
    "##\n",
    "SELECT b.book_id, b.name\n",
    "FROM Books b LEFT JOIN (SELECT book_id, SUM(quantity) AS sold\n",
    "\t\t\t\t\t\tFROM Orders\n",
    "                        WHERE dispatch_date BETWEEN \"2018-06-23\" AND \"2019-06-23\"\n",
    "                        GROUP BY book_id) t\n",
    "ON b.book_id = t.book_id\n",
    "WHERE IFNULL(sold, 0) <= 10 AND available_from < DATE_SUB(\"2019-06-23\", INTERVAL 1 MONTH);\n",
    "###\n",
    "SELECT book_id, name \n",
    "FROM Books\n",
    "WHERE available_from < DATE_SUB(\"2019-06-23\", INTERVAL 1 MONTH) \n",
    "AND book_id NOT IN (SELECT book_id\n",
    "\t\t\t\t\tFROM Orders \n",
    "                    WHERE dispatch_date > DATE_SUB(\"2019-06-23\", INTERVAL 1 YEAR));"
   ]
  },
  {
   "cell_type": "markdown",
   "metadata": {},
   "source": [
    "## 1107.[Medium] New Users Daily Count\n"
   ]
  },
  {
   "cell_type": "markdown",
   "metadata": {},
   "source": [
    "***Write an SQL query that reports for every date within at most 90 days from today, \n",
    "the number of users that logged in for the first time on that date. Assume today is 2019-06-30.***\n",
    "\n",
    "Traffic table:\n",
    "| user_id | activity | activity_date |\n",
    "|:-------:|:--------:|:-------------:|\n",
    "| 1       | login    | 2019-05-01    |\n",
    "| 1       | homepage | 2019-05-01    |\n",
    "| 1       | logout   | 2019-05-01    |\n",
    "| 2       | login    | 2019-06-21    |\n",
    "| 2       | logout   | 2019-06-21    |\n",
    "| 3       | login    | 2019-01-01    |\n",
    "| 3       | jobs     | 2019-01-01    |\n",
    "| 3       | logout   | 2019-01-01    |\n",
    "| 4       | login    | 2019-06-21    |\n",
    "| 4       | groups   | 2019-06-21    |\n",
    "| 4       | logout   | 2019-06-21    |\n",
    "| 5       | login    | 2019-03-01    |\n",
    "| 5       | logout   | 2019-03-01    |\n",
    "| 5       | login    | 2019-06-21    |\n",
    "| 5       | logout   | 2019-06-21    |\n",
    "\n",
    "Result table:\n",
    "| login_date | user_count  |\n",
    "|:----------:|:-----------:|\n",
    "| 2019-05-01 | 1           |\n",
    "| 2019-06-21 | 2           |\n",
    "\n",
    "Note that we only care about dates with non zero user count.\n",
    "The user with id 5 first logged in on 2019-03-01 so he's not counted on 2019-06-21."
   ]
  },
  {
   "cell_type": "code",
   "execution_count": null,
   "metadata": {
    "vscode": {
     "languageId": "sql"
    }
   },
   "outputs": [],
   "source": [
    "-- Creating SQL Schema\n",
    "DROP TABLE IF EXISTS Traffic;\n",
    "CREATE TABLE Traffic (\n",
    "  `user_id` INTEGER,\n",
    "  `activity` VARCHAR(8),\n",
    "  `activity_date` DATETIME);\n",
    "\n",
    "INSERT INTO Traffic (`user_id`, `activity`, `activity_date`) VALUES\n",
    "  ('1', 'login', '2019-05-01'),\n",
    "  ('1', 'homepage', '2019-05-01'),\n",
    "  ('1', 'logout', '2019-05-01'),\n",
    "  ('2', 'login', '2019-06-21'),\n",
    "  ('2', 'logout', '2019-06-21'),\n",
    "  ('3', 'login', '2019-01-01'),\n",
    "  ('3', 'jobs', '2019-01-01'),\n",
    "  ('3', 'logout', '2019-01-01'),\n",
    "  ('4', 'login', '2019-06-21'),\n",
    "  ('4', 'groups', '2019-06-21'),\n",
    "  ('4', 'logout', '2019-06-21'),\n",
    "  ('5', 'login', '2019-03-01'),\n",
    "  ('5', 'logout', '2019-03-01'),\n",
    "  ('5', 'login', '2019-06-21'),\n",
    "  ('5', 'logout', '2019-06-21');\n",
    "  \n",
    "-- Writing your MySQL query statement below\n",
    "SELECT login_date, COUNT(DISTINCT user_id) AS user_count\n",
    "FROM (SELECT user_id, CAST(MIN(activity_date) AS DATE) AS login_date\n",
    "\t  FROM Traffic\n",
    "\t  WHERE activity = 'login'\n",
    "\t  GROUP BY user_id) t\n",
    "WHERE DATEDIFF(\"2019-06-30\", login_date) <= 90\n",
    "GROUP BY login_date\n",
    "ORDER BY login_date;"
   ]
  },
  {
   "cell_type": "markdown",
   "metadata": {},
   "source": [
    "## 1112.[Medium] Highest Grade For Each Student"
   ]
  },
  {
   "cell_type": "markdown",
   "metadata": {},
   "source": [
    "***Write a SQL query to find the highest grade with its corresponding course for each student. \n",
    "In case of a tie, you should find the course with the smallest course_id. The output must be sorted by increasing student_id.***\n",
    "\n",
    "Enrollments table:\n",
    "| student_id | course_id | grade |\n",
    "|:----------:|:---------:|:-----:|\n",
    "| 2          | 2         | 95    |\n",
    "| 2          | 3         | 95    |\n",
    "| 1          | 1         | 90    |\n",
    "| 1          | 2         | 99    |\n",
    "| 3          | 1         | 80    |\n",
    "| 3          | 2         | 75    |\n",
    "| 3          | 3         | 82    |\n",
    "\n",
    "Result table:\n",
    "| student_id | course_id | grade |\n",
    "|:----------:|:---------:|:-----:|\n",
    "| 1          | 2         | 99    |\n",
    "| 2          | 2         | 95    |\n",
    "| 3          | 3         | 82    |"
   ]
  },
  {
   "cell_type": "code",
   "execution_count": null,
   "metadata": {
    "vscode": {
     "languageId": "sql"
    }
   },
   "outputs": [],
   "source": [
    "-- Creating SQL Schema\n",
    "DROP TABLE IF EXISTS Enrollments;\n",
    "CREATE TABLE Enrollments (\n",
    "  `student_id` INTEGER,\n",
    "  `course_id` INTEGER,\n",
    "  `grade` INTEGER);\n",
    "\n",
    "INSERT INTO Enrollments (`student_id`, `course_id`, `grade`) VALUES\n",
    "  ('2', '2', '95'),\n",
    "  ('2', '3', '95'),\n",
    "  ('1', '1', '90'),\n",
    "  ('1', '2', '99'),\n",
    "  ('3', '1', '80'),\n",
    "  ('3', '2', '75'),\n",
    "  ('3', '3', '82');\n",
    "  \n",
    "-- Writing your MySQL query statement below\n",
    "#\n",
    "SELECT student_id, course_id, grade\n",
    "FROM (SELECT student_id, course_id, MAX(grade) AS grade, \n",
    "\t         ROW_NUMBER() OVER (PARTITION BY student_id ORDER BY MAX(grade) DESC, course_id ASC) AS rk\n",
    "\t  FROM Enrollments\n",
    "\t  GROUP BY student_id, course_id) t\n",
    "WHERE rk = 1;\n",
    "##\n",
    "SELECT student_id, MIN(course_id) AS course_id, grade \n",
    "FROM Enrollments\n",
    "WHERE (student_id, grade) IN (SELECT student_id, MAX(grade) AS grade\n",
    "\t\t\t\t\t\t\t  FROM Enrollments \n",
    "                              GROUP BY student_id)\n",
    "GROUP BY student_id, grade\n",
    "ORDER BY student_id ASC;"
   ]
  },
  {
   "cell_type": "markdown",
   "metadata": {},
   "source": [
    "## 1113.[Easy] Reported Posts"
   ]
  },
  {
   "cell_type": "markdown",
   "metadata": {},
   "source": [
    "***Write an SQL query that reports the number of posts reported yesterday for each report reason. Assume today is 2019-07-05.***\n",
    "\n",
    "Actions table:\n",
    "| user_id | post_id | action_date | action | extra  |\n",
    "|:-------:|:-------:|:-----------:|:------:|:------:|\n",
    "| 1       | 1       | 2019-07-01  | view   | null   |\n",
    "| 1       | 1       | 2019-07-01  | like   | null   |\n",
    "| 1       | 1       | 2019-07-01  | share  | null   |\n",
    "| 2       | 4       | 2019-07-04  | view   | null   |\n",
    "| 2       | 4       | 2019-07-04  | report | spam   |\n",
    "| 3       | 4       | 2019-07-04  | view   | null   |\n",
    "| 3       | 4       | 2019-07-04  | report | spam   |\n",
    "| 4       | 3       | 2019-07-02  | view   | null   |\n",
    "| 4       | 3       | 2019-07-02  | report | spam   |\n",
    "| 5       | 2       | 2019-07-04  | view   | null   |\n",
    "| 5       | 2       | 2019-07-04  | report | racism |\n",
    "| 5       | 5       | 2019-07-04  | view   | null   |\n",
    "| 5       | 5       | 2019-07-04  | report | racism |\n",
    "\n",
    "Result table:\n",
    "| report_reason | report_count |\n",
    "|:-------------:|:------------:|\n",
    "| spam          | 1            |\n",
    "| racism        | 2            |\n",
    " \n",
    "Note that we only care about report reasons with non zero number of reports."
   ]
  },
  {
   "cell_type": "code",
   "execution_count": null,
   "metadata": {
    "vscode": {
     "languageId": "sql"
    }
   },
   "outputs": [],
   "source": [
    "-- Creating SQL Schema\n",
    "DROP TABLE IF EXISTS Actions;\n",
    "CREATE TABLE Actions (\n",
    "  `user_id` INTEGER,\n",
    "  `post_id` INTEGER,\n",
    "  `action_date` DATETIME,\n",
    "  `action` VARCHAR(6),\n",
    "  `extra` VARCHAR(6));\n",
    "\n",
    "INSERT INTO Actions (`user_id`, `post_id`, `action_date`, `action`, `extra`) VALUES\n",
    "  ('1', '1', '2019-07-01', 'view', 'null'),\n",
    "  ('1', '1', '2019-07-01', 'like', 'null'),\n",
    "  ('1', '1', '2019-07-01', 'share', 'null'),\n",
    "  ('2', '4', '2019-07-04', 'view', 'null'),\n",
    "  ('2', '4', '2019-07-04', 'report', 'spam'),\n",
    "  ('3', '4', '2019-07-04', 'view', 'null'),\n",
    "  ('3', '4', '2019-07-04', 'report', 'spam'),\n",
    "  ('4', '3', '2019-07-02', 'view', 'null'),\n",
    "  ('4', '3', '2019-07-02', 'report', 'spam'),\n",
    "  ('5', '2', '2019-07-04', 'view', 'null'),\n",
    "  ('5', '2', '2019-07-04', 'report', 'racism'),\n",
    "  ('5', '5', '2019-07-04', 'view', 'null'),\n",
    "  ('5', '5', '2019-07-04', 'report', 'racism');\n",
    "  \n",
    "-- Writing your MySQL query statement below\n",
    "SELECT extra AS report_reason, COUNT(DISTINCT post_id) AS report_count\n",
    "FROM Actions\n",
    "WHERE DATEDIFF('2019-07-05', action_date) = 1 \n",
    "AND action = \"report\"\n",
    "AND extra != \"null\"\n",
    "GROUP BY report_reason;"
   ]
  },
  {
   "cell_type": "markdown",
   "metadata": {},
   "source": [
    "## 1126.[Medium] Active Businesses"
   ]
  },
  {
   "cell_type": "markdown",
   "metadata": {},
   "source": [
    "***Write an SQL query to find all active businesses. An active business is a business that has more than one event type with occurences greater than the average occurences of that event type among all businesses.***\n",
    "\n",
    "Events table:\n",
    "| business_id | event_type | occurences |\n",
    "|:-----------:|:----------:|:----------:|\n",
    "| 1           | reviews    | 7          |\n",
    "| 3           | reviews    | 3          |\n",
    "| 1           | ads        | 11         |\n",
    "| 2           | ads        | 7          |\n",
    "| 3           | ads        | 6          |\n",
    "| 1           | page views | 3          |\n",
    "| 2           | page views | 12         |\n",
    "\n",
    "Result table:\n",
    "| business_id |\n",
    "|:-----------:|\n",
    "| 1           |\n",
    " \n",
    "Average for 'reviews', 'ads' and 'page views' are (7+3)/2=5, (11+7+6)/3=8, (3+12)/2=7.5 respectively. <br/>\n",
    "Business with id 1 has 7 'reviews' events (more than 5) and 11 'ads' events (more than 8) so it is an active business."
   ]
  },
  {
   "cell_type": "code",
   "execution_count": null,
   "metadata": {
    "vscode": {
     "languageId": "sql"
    }
   },
   "outputs": [],
   "source": [
    "-- Creating SQL Schema\n",
    "DROP TABLE IF EXISTS Events;\n",
    "CREATE TABLE Events (\n",
    "  `business_id` INTEGER,\n",
    "  `event_type` VARCHAR(10),\n",
    "  `occurences` INTEGER);\n",
    "\n",
    "INSERT INTO Events (`business_id`, `event_type`, `occurences`) VALUES\n",
    "  ('1', 'reviews', '7'),\n",
    "  ('3', 'reviews', '3'),\n",
    "  ('1', 'ads', '11'),\n",
    "  ('2', 'ads', '7'),\n",
    "  ('3', 'ads', '6'),\n",
    "  ('1', 'page views', '3'),\n",
    "  ('2', 'page views', '12');\n",
    "  \n",
    "-- Writing your MySQL query statement below\n",
    "#\n",
    "SELECT b.business_id\n",
    "FROM Events b LEFT JOIN (SELECT event_type, CAST(AVG(occurences) AS FLOAT) AS avg_occurences\n",
    "\t\t\t\t\t\t FROM Events\n",
    "\t\t\t\t\t\t GROUP BY event_type) t\n",
    "ON b.event_type = t.event_type\n",
    "GROUP BY business_id\n",
    "HAVING SUM(IF(b.occurences > t.avg_occurences, 1, 0)) > 1;\n",
    "##\n",
    "SELECT business_id\n",
    "FROM (SELECT *, AVG(CAST(occurences AS FLOAT)) OVER (PARTITION BY event_type) AS avg_occurences\n",
    "\t  FROM Events) t\n",
    "GROUP BY business_id\n",
    "HAVING SUM(IF(occurences > avg_occurences, 1, 0)) > 1;"
   ]
  },
  {
   "cell_type": "markdown",
   "metadata": {},
   "source": [
    "## 1127.[Hard] User Purchase Platform"
   ]
  },
  {
   "cell_type": "markdown",
   "metadata": {},
   "source": [
    "***Write an SQL query to find the total number of users and the total amount spent using mobile only, desktop only and both mobile and desktop together for each date.***\n",
    "\n",
    "Spending table:\n",
    "| user_id | spend_date | platform | amount |\n",
    "|:-------:|:----------:|:--------:|:------:|\n",
    "| 1       | 2019-07-01 | mobile   | 100    |\n",
    "| 1       | 2019-07-01 | desktop  | 100    |\n",
    "| 2       | 2019-07-01 | mobile   | 100    |\n",
    "| 2       | 2019-07-02 | mobile   | 100    |\n",
    "| 3       | 2019-07-01 | desktop  | 100    |\n",
    "| 3       | 2019-07-02 | desktop  | 100    |\n",
    "\n",
    "Result table:\n",
    "| spend_date | platform | total_amount | total_users |\n",
    "|:----------:|:--------:|:------------:|:-----------:|\n",
    "| 2019-07-01 | desktop  | 100          | 1           |\n",
    "| 2019-07-01 | mobile   | 100          | 1           |\n",
    "| 2019-07-01 | both     | 200          | 1           |\n",
    "| 2019-07-02 | desktop  | 100          | 1           |\n",
    "| 2019-07-02 | mobile   | 100          | 1           |\n",
    "| 2019-07-02 | both     | 0            | 0           |\n",
    " \n",
    "On 2019-07-01, user 1 purchased using both desktop and mobile, user 2 purchased using mobile only and user 3 purchased using desktop only.<br/>\n",
    "On 2019-07-02, user 2 purchased using mobile only, user 3 purchased using desktop only and no one purchased using both platforms."
   ]
  },
  {
   "cell_type": "code",
   "execution_count": null,
   "metadata": {
    "vscode": {
     "languageId": "sql"
    }
   },
   "outputs": [],
   "source": []
  },
  {
   "cell_type": "markdown",
   "metadata": {},
   "source": [
    "## 1132.[Medium] Reported Posts II"
   ]
  },
  {
   "cell_type": "markdown",
   "metadata": {},
   "source": [
    "***Write an SQL query to find the average for daily percentage of posts that got removed after being reported as spam, rounded to 2 decimal places.***\n",
    "\n",
    "Actions table:\n",
    "| user_id | post_id | action_date | action | extra  |\n",
    "|:-------:|:-------:|:-----------:|:------:|:------:|\n",
    "| 1       | 1       | 2019-07-01  | view   | null   |\n",
    "| 1       | 1       | 2019-07-01  | like   | null   |\n",
    "| 1       | 1       | 2019-07-01  | share  | null   |\n",
    "| 2       | 2       | 2019-07-04  | view   | null   |\n",
    "| 2       | 2       | 2019-07-04  | report | spam   |\n",
    "| 3       | 4       | 2019-07-04  | view   | null   |\n",
    "| 3       | 4       | 2019-07-04  | report | spam   |\n",
    "| 4       | 3       | 2019-07-02  | view   | null   |\n",
    "| 4       | 3       | 2019-07-02  | report | spam   |\n",
    "| 5       | 2       | 2019-07-03  | view   | null   |\n",
    "| 5       | 2       | 2019-07-03  | report | racism |\n",
    "| 5       | 5       | 2019-07-03  | view   | null   |\n",
    "| 5       | 5       | 2019-07-03  | report | racism |\n",
    "\n",
    "Removals table:\n",
    "| post_id | remove_date |\n",
    "|:-------:|:-----------:|\n",
    "| 2       | 2019-07-20  |\n",
    "| 3       | 2019-07-18  |\n",
    "\n",
    "Result table:\n",
    "| average_daily_percent |\n",
    "|:---------------------:|\n",
    "| 75.00                 |\n",
    "\n",
    "The percentage for 2019-07-04 is 50% because only one post of two spam reported posts was removed.<br/>\n",
    "The percentage for 2019-07-02 is 100% because one post was reported as spam and it was removed.<br/>\n",
    "The other days had no spam reports so the average is (50 + 100) / 2 = 75%<br/>\n",
    "Note that the output is only one number and that we do not care about the remove dates."
   ]
  },
  {
   "cell_type": "code",
   "execution_count": null,
   "metadata": {
    "vscode": {
     "languageId": "sql"
    }
   },
   "outputs": [],
   "source": [
    "-- Creating SQL Schema\n",
    "DROP TABLE IF EXISTS Actions;\n",
    "CREATE TABLE Actions (\n",
    "  `user_id` INTEGER,\n",
    "  `post_id` INTEGER,\n",
    "  `action_date` DATETIME,\n",
    "  `action` VARCHAR(6),\n",
    "  `extra` VARCHAR(6));\n",
    "\n",
    "INSERT INTO Actions (`user_id`, `post_id`, `action_date`, `action`, `extra`) VALUES\n",
    "  ('1', '1', '2019-07-01', 'view', 'null'),\n",
    "  ('1', '1', '2019-07-01', 'like', 'null'),\n",
    "  ('1', '1', '2019-07-01', 'share', 'null'),\n",
    "  ('2', '2', '2019-07-04', 'view', 'null'),\n",
    "  ('2', '2', '2019-07-04', 'report', 'spam'),\n",
    "  ('3', '4', '2019-07-04', 'view', 'null'),\n",
    "  ('3', '4', '2019-07-04', 'report', 'spam'),\n",
    "  ('4', '3', '2019-07-02', 'view', 'null'),\n",
    "  ('4', '3', '2019-07-02', 'report', 'spam'),\n",
    "  ('5', '2', '2019-07-03', 'view', 'null'),\n",
    "  ('5', '2', '2019-07-03', 'report', 'racism'),\n",
    "  ('5', '5', '2019-07-03', 'view', 'null'),\n",
    "  ('5', '5', '2019-07-03', 'report', 'racism');\n",
    "\n",
    "DROP TABLE IF EXISTS Removals;\n",
    "CREATE TABLE Removals (\n",
    "  `post_id` INTEGER,\n",
    "  `remove_date` DATETIME);\n",
    "\n",
    "INSERT INTO Removals (`post_id`, `remove_date`) VALUES\n",
    "  ('2', '2019-07-20'),\n",
    "  ('3', '2019-07-18');\n",
    "\n",
    "-- Writing your MySQL query statement below\n",
    "SELECT IFNULL(ROUND(SUM(remove_count/spam_count * 100)/COUNT(DISTINCT action_date), 2), 0) AS average_daily_percent \n",
    "FROM (SELECT action_date, COUNT(DISTINCT a.post_id) AS spam_count, COUNT(DISTINCT r.post_id) AS remove_COUNT\n",
    "\t  FROM Actions a LEFT JOIN Removals r \n",
    "\t  ON a.post_id = r.post_id\n",
    "\t  WHERE a.extra = 'spam'\n",
    "\t  GROUP BY a.action_date) t;"
   ]
  },
  {
   "cell_type": "markdown",
   "metadata": {},
   "source": [
    "## 1141.[Easy] User Activity for the Past 30 Days I"
   ]
  },
  {
   "cell_type": "markdown",
   "metadata": {},
   "source": [
    "***Write an SQL query to find the daily active user count for a period of 30 days ending 2019-07-27 inclusively. \n",
    "A user was active on some day if he/she made at least one activity on that day.***\n",
    "\n",
    "Activity table:\n",
    "| user_id | session_id | activity_date | activity_type |\n",
    "|:-------:|:----------:|:-------------:|:-------------:|\n",
    "| 1       | 1          | 2019-07-20    | open_session  |\n",
    "| 1       | 1          | 2019-07-20    | scroll_down   |\n",
    "| 1       | 1          | 2019-07-20    | end_session   |\n",
    "| 2       | 4          | 2019-07-20    | open_session  |\n",
    "| 2       | 4          | 2019-07-21    | send_message  |\n",
    "| 2       | 4          | 2019-07-21    | end_session   |\n",
    "| 3       | 2          | 2019-07-21    | open_session  |\n",
    "| 3       | 2          | 2019-07-21    | send_message  |\n",
    "| 3       | 2          | 2019-07-21    | end_session   |\n",
    "| 4       | 3          | 2019-06-25    | open_session  |\n",
    "| 4       | 3          | 2019-06-25    | end_session   |\n",
    "\n",
    "Result table: \n",
    "| day        | active_users |\n",
    "|:----------:|:------------:|\n",
    "| 2019-07-20 | 2            |\n",
    "| 2019-07-21 | 2            | "
   ]
  },
  {
   "cell_type": "code",
   "execution_count": null,
   "metadata": {
    "vscode": {
     "languageId": "sql"
    }
   },
   "outputs": [],
   "source": [
    "-- Creating SQL Schema\n",
    "DROP TABLE IF EXISTS Activity;\n",
    "CREATE TABLE Activity (\n",
    "  `user_id` INTEGER,\n",
    "  `session_id` INTEGER,\n",
    "  `activity_date` DATETIME,\n",
    "  `activity_type` VARCHAR(12));\n",
    "\n",
    "INSERT INTO Activity (`user_id`, `session_id`, `activity_date`, `activity_type`) VALUES\n",
    "  ('1', '1', '2019-07-20', 'open_session'),\n",
    "  ('1', '1', '2019-07-20', 'scroll_down'),\n",
    "  ('1', '1', '2019-07-20', 'end_session'),\n",
    "  ('2', '4', '2019-07-20', 'open_session'),\n",
    "  ('2', '4', '2019-07-21', 'send_message'),\n",
    "  ('2', '4', '2019-07-21', 'end_session'),\n",
    "  ('3', '2', '2019-07-21', 'open_session'),\n",
    "  ('3', '2', '2019-07-21', 'send_message'),\n",
    "  ('3', '2', '2019-07-21', 'end_session'),\n",
    "  ('4', '3', '2019-06-25', 'open_session'),\n",
    "  ('4', '3', '2019-06-25', 'end_session');\n",
    "  \n",
    "-- Writing your MySQL query statement below\n",
    "SELECT DATE(activity_date) AS day, COUNT(DISTINCT user_id) AS active_users\n",
    "FROM Activity\n",
    "WHERE DATEDIFF(\"2019-07-27\", activity_date) < 30 \n",
    "AND activity_date <= \"2019-07-27\"\n",
    "GROUP BY activity_date\n"
   ]
  },
  {
   "cell_type": "markdown",
   "metadata": {},
   "source": [
    "## 1142.[Easy] User Activity for the Past 30 Days II"
   ]
  },
  {
   "cell_type": "markdown",
   "metadata": {},
   "source": [
    "***Write an SQL query to find the average number of sessions per user for a period of 30 days ending 2019-07-27 inclusively, rounded to 2 decimal places. \n",
    "The sessions we want to count for a user are those with at least one activity in that time period.***\n",
    "\n",
    "Activity table:\n",
    "| user_id | session_id | activity_date | activity_type |\n",
    "|:-------:|:----------:|:-------------:|:-------------:|\n",
    "| 1       | 1          | 2019-07-20    | open_session  |\n",
    "| 1       | 1          | 2019-07-20    | scroll_down   |\n",
    "| 1       | 1          | 2019-07-20    | end_session   |\n",
    "| 2       | 4          | 2019-07-20    | open_session  |\n",
    "| 2       | 4          | 2019-07-21    | send_message  |\n",
    "| 2       | 4          | 2019-07-21    | end_session   |\n",
    "| 3       | 2          | 2019-07-21    | open_session  |\n",
    "| 3       | 2          | 2019-07-21    | send_message  |\n",
    "| 3       | 2          | 2019-07-21    | end_session   |\n",
    "| 3       | 5          | 2019-07-21    | open_session  |\n",
    "| 3       | 5          | 2019-07-21    | scroll_down   |\n",
    "| 3       | 5          | 2019-07-21    | end_session   |\n",
    "| 4       | 3          | 2019-06-25    | open_session  |\n",
    "| 4       | 3          | 2019-06-25    | end_session   |\n",
    "\n",
    "Result table:\n",
    "| average_sessions_per_user |\n",
    "|:-------------------------:|\n",
    "| 1.33                      |\n",
    "\n",
    "User 1 and 2 each had 1 session in the past 30 days while user 3 had 2 sessions so the average is (1 + 1 + 2) / 3 = 1.33."
   ]
  },
  {
   "cell_type": "code",
   "execution_count": null,
   "metadata": {
    "vscode": {
     "languageId": "sql"
    }
   },
   "outputs": [],
   "source": [
    "-- Creating SQL Schema\n",
    "DROP TABLE IF EXISTS Activity;\n",
    "CREATE TABLE Activity (\n",
    "  `user_id` INTEGER,\n",
    "  `session_id` INTEGER,\n",
    "  `activity_date` DATETIME,\n",
    "  `activity_type` VARCHAR(12));\n",
    "\n",
    "INSERT INTO Activity (`user_id`, `session_id`, `activity_date`, `activity_type`) VALUES\n",
    "  ('1', '1', '2019-07-20', 'open_session'),\n",
    "  ('1', '1', '2019-07-20', 'scroll_down'),\n",
    "  ('1', '1', '2019-07-20', 'end_session'),\n",
    "  ('2', '4', '2019-07-20', 'open_session'),\n",
    "  ('2', '4', '2019-07-21', 'send_message'),\n",
    "  ('2', '4', '2019-07-21', 'end_session'),\n",
    "  ('3', '2', '2019-07-21', 'open_session'),\n",
    "  ('3', '2', '2019-07-21', 'send_message'),\n",
    "  ('3', '2', '2019-07-21', 'end_session'),\n",
    "  ('3', '5', '2019-07-21', 'open_session'),\n",
    "  ('3', '5', '2019-07-21', 'scroll_down'),\n",
    "  ('3', '5', '2019-07-21', 'end_session'),\n",
    "  ('4', '3', '2019-06-25', 'open_session'),\n",
    "  ('4', '3', '2019-06-25', 'end_session');\n",
    "  \n",
    "-- Writing your MySQL query statement below\n",
    "SELECT DISTINCT user_id, COUNT(DISTINCT session_id) AS active_users\n",
    "FROM Activity\n",
    "WHERE DATEDIFF(\"2019-07-27\", activity_date) < 30 \n",
    "AND activity_date <= \"2019-07-27\"\n",
    "GROUP BY user_id;\n",
    "\n",
    "SELECT IFNULL(ROUND(COUNT(DISTINCT session_id)/COUNT(DISTINCT user_id), 2), 0) AS average_sessions_per_user\n",
    "FROM Activity\n",
    "WHERE DATEDIFF(\"2019-07-27\", activity_date) < 30 \n",
    "AND activity_date <= \"2019-07-27\";"
   ]
  },
  {
   "cell_type": "markdown",
   "metadata": {},
   "source": [
    "## 1148.[Easy] Article Views I"
   ]
  },
  {
   "cell_type": "markdown",
   "metadata": {},
   "source": [
    "***Write an SQL query to find all the authors that viewed at least one of their own articles, sorted in ascending order by their id.***\n",
    "\n",
    "Views table:\n",
    "| article_id | author_id | viewer_id | view_date  |\n",
    "|:----------:|:---------:|:---------:|:----------:|\n",
    "| 1          | 3         | 5         | 2019-08-01 |\n",
    "| 1          | 3         | 6         | 2019-08-02 |\n",
    "| 2          | 7         | 7         | 2019-08-01 |\n",
    "| 2          | 7         | 6         | 2019-08-02 |\n",
    "| 4          | 7         | 1         | 2019-07-22 |\n",
    "| 3          | 4         | 4         | 2019-07-21 |\n",
    "| 3          | 4         | 4         | 2019-07-21 |\n",
    "\n",
    "Result table:\n",
    "| id   |\n",
    "|:----:|\n",
    "| 4    |\n",
    "| 7    |"
   ]
  },
  {
   "cell_type": "code",
   "execution_count": null,
   "metadata": {
    "vscode": {
     "languageId": "sql"
    }
   },
   "outputs": [],
   "source": [
    "-- Creating SQL Schema\n",
    "DROP TABLE IF EXISTS Views;\n",
    "CREATE TABLE Views (\n",
    "  `article_id` INTEGER,\n",
    "  `author_id` INTEGER,\n",
    "  `viewer_id` INTEGER,\n",
    "  `view_date` DATETIME);\n",
    "\n",
    "INSERT INTO Views (`article_id`, `author_id`, `viewer_id`, `view_date`) VALUES\n",
    "  ('1', '3', '5', '2019-08-01'),\n",
    "  ('1', '3', '6', '2019-08-02'),\n",
    "  ('2', '7', '7', '2019-08-01'),\n",
    "  ('2', '7', '6', '2019-08-02'),\n",
    "  ('4', '7', '1', '2019-07-22'),\n",
    "  ('3', '4', '4', '2019-07-21'),\n",
    "  ('3', '4', '4', '2019-07-21');\n",
    "\n",
    "-- Writing your MySQL query statement below\n",
    "SELECT author_id AS id\n",
    "FROM Views\n",
    "WHERE author_id = viewer_id\n",
    "GROUP BY author_id\n",
    "HAVING COUNT(viewer_id) >= 1\n",
    "ORDER BY author_id ASC;"
   ]
  },
  {
   "cell_type": "markdown",
   "metadata": {},
   "source": [
    "## 1149.[Medium] Article Views II"
   ]
  },
  {
   "cell_type": "markdown",
   "metadata": {},
   "source": [
    "***Write an SQL query to find all the people who viewed more than one article on the same date, sorted in ascending order by their id.***\n",
    "\n",
    "Views table:\n",
    "| article_id | author_id | viewer_id | view_date  |\n",
    "|:----------:|:---------:|:---------:|:----------:|\n",
    "| 1          | 3         | 5         | 2019-08-01 |\n",
    "| 3          | 4         | 5         | 2019-08-01 |\n",
    "| 1          | 3         | 6         | 2019-08-02 |\n",
    "| 2          | 7         | 7         | 2019-08-01 |\n",
    "| 2          | 7         | 6         | 2019-08-02 |\n",
    "| 4          | 7         | 1         | 2019-07-22 |\n",
    "| 3          | 4         | 4         | 2019-07-21 |\n",
    "| 3          | 4         | 4         | 2019-07-21 |\n",
    "\n",
    "Result table:\n",
    "| id   |\n",
    "|:----:|\n",
    "| 5    |\n",
    "| 6    |"
   ]
  },
  {
   "cell_type": "code",
   "execution_count": null,
   "metadata": {
    "vscode": {
     "languageId": "sql"
    }
   },
   "outputs": [],
   "source": []
  },
  {
   "cell_type": "markdown",
   "metadata": {},
   "source": [
    "## 1173.[Easy] Immediate Food Delivery I"
   ]
  },
  {
   "cell_type": "markdown",
   "metadata": {},
   "source": [
    "***Write an SQL query to find the percentage of immediate orders in the table, rounded to 2 decimal places.\n",
    "If the preferred delivery date of the customer is the same as the order date then the order is called immediate otherwise it’s called scheduled.***\n",
    "\n",
    "Delivery table:\n",
    "| delivery_id | customer_id | order_date | customer_pref_delivery_date |\n",
    "|:-----------:|:-----------:|:----------:|:---------------------------:|\n",
    "| 1           | 1           | 2019-08-01 | 2019-08-02                  |\n",
    "| 2           | 5           | 2019-08-02 | 2019-08-02                  |\n",
    "| 3           | 1           | 2019-08-11 | 2019-08-11                  |\n",
    "| 4           | 3           | 2019-08-24 | 2019-08-26                  |\n",
    "| 5           | 4           | 2019-08-21 | 2019-08-22                  |\n",
    "| 6           | 2           | 2019-08-11 | 2019-08-13                  |\n",
    "\n",
    "Result table:\n",
    "| immediate_percentage |\n",
    "|:--------------------:|\n",
    "| 33.33                |\n",
    "\n",
    "The orders with delivery id 2 and 3 are immediate while the others are scheduled."
   ]
  },
  {
   "cell_type": "code",
   "execution_count": null,
   "metadata": {
    "vscode": {
     "languageId": "sql"
    }
   },
   "outputs": [],
   "source": [
    "-- Creating SQL Schema\n",
    "DROP TABLE IF EXISTS Delivery;\n",
    "CREATE TABLE Delivery (\n",
    "  `delivery_id` INTEGER,\n",
    "  `customer_id` INTEGER,\n",
    "  `order_date` DATETIME,\n",
    "  `customer_pref_delivery_date` DATETIME);\n",
    "\n",
    "INSERT INTO Delivery (`delivery_id`, `customer_id`, `order_date`, `customer_pref_delivery_date`) VALUES\n",
    "  ('1', '1', '2019-08-01', '2019-08-02'),\n",
    "  ('2', '5', '2019-08-02', '2019-08-02'),\n",
    "  ('3', '1', '2019-08-11', '2019-08-11'),\n",
    "  ('4', '3', '2019-08-24', '2019-08-26'),\n",
    "  ('5', '4', '2019-08-21', '2019-08-22'),\n",
    "  ('6', '2', '2019-08-11', '2019-08-13');\n",
    "  \n",
    "-- Writing your MySQL query statement below\n",
    "SELECT IFNULL(ROUND((SELECT COUNT(delivery_id)\n",
    "\t\t\t\t\t FROM Delivery\n",
    "\t\t\t\t\t WHERE order_date = customer_pref_delivery_date)\n",
    "                     /COUNT(delivery_id)*100, 2), 0) AS immediate_percentage\n",
    "FROM Delivery"
   ]
  },
  {
   "cell_type": "markdown",
   "metadata": {},
   "source": [
    "## 1179.[Easy] Reformat Department Table"
   ]
  },
  {
   "cell_type": "markdown",
   "metadata": {},
   "source": [
    "***Write an SQL query to reformat the table such that there is a department id column and a revenue column for each month.***\n",
    "\n",
    "Department table:\n",
    "| id   | revenue | month |\n",
    "|:----:|:-------:|:-----:|\n",
    "| 1    | 8000    | Jan   |\n",
    "| 2    | 9000    | Jan   |\n",
    "| 3    | 10000   | Feb   |\n",
    "| 1    | 7000    | Feb   |\n",
    "| 1    | 6000    | Mar   |\n",
    "\n",
    "Result table:\n",
    "| id   | Jan_Revenue | Feb_Revenue | Mar_Revenue | ... | Dec_Revenue |\n",
    "|:----:|:-----------:|:-----------:|:-----------:|:---:|:-----------:|\n",
    "| 1    | 8000        | 7000        | 6000        | ... | null        |\n",
    "| 2    | 9000        | null        | null        | ... | null        |\n",
    "| 3    | null        | 10000       | null        | ... | null        |\n"
   ]
  },
  {
   "cell_type": "code",
   "execution_count": null,
   "metadata": {
    "vscode": {
     "languageId": "sql"
    }
   },
   "outputs": [],
   "source": [
    "-- Creating SQL Schema\n",
    "DROP TABLE IF EXISTS Department;\n",
    "CREATE TABLE Department (\n",
    "  `id` INTEGER,\n",
    "  `revenue` INTEGER,\n",
    "  `month` VARCHAR(3));\n",
    "\n",
    "INSERT INTO Department (`id`, `revenue`, `month`) VALUES\n",
    "  ('1', '8000', 'Jan'),\n",
    "  ('2', '9000', 'Jan'),\n",
    "  ('3', '10000', 'Feb'),\n",
    "  ('1', '7000', 'Feb'),\n",
    "  ('1', '6000', 'Mar');\n",
    "  \n",
    "-- Writing your MySQL query statement below\n",
    "SELECT id,\n",
    "    SUM(CASE month WHEN 'Jan' THEN revenue END) AS Jan_Revenue,\n",
    "    SUM(CASE month WHEN 'Feb' THEN revenue END) AS Feb_Revenue,\n",
    "    SUM(CASE month WHEN 'Mar' THEN revenue END) AS Mar_Revenue,\n",
    "    SUM(CASE month WHEN 'Apr' THEN revenue END) AS Apr_Revenue,\n",
    "    SUM(CASE month WHEN 'May' THEN revenue END) AS May_Revenue,\n",
    "    SUM(CASE month WHEN 'Jun' THEN revenue END) AS Jun_Revenue,\n",
    "    SUM(CASE month WHEN 'Jul' THEN revenue END) AS Jul_Revenue,\n",
    "    SUM(CASE month WHEN 'Aug' THEN revenue END) AS Aug_Revenue,\n",
    "    SUM(CASE month WHEN 'Sep' THEN revenue END) AS Sep_Revenue,\n",
    "    SUM(CASE month WHEN 'Oct' THEN revenue END) AS Oct_Revenue,\n",
    "    SUM(CASE month WHEN 'Nov' THEN revenue END) AS Nov_Revenue,\n",
    "    SUM(CASE month WHEN 'Dec' THEN revenue END) AS Dec_Revenue\n",
    "FROM Department\n",
    "GROUP BY id;"
   ]
  }
 ],
 "metadata": {
  "kernelspec": {
   "display_name": "Python 3.9.12 ('base')",
   "language": "python",
   "name": "python3"
  },
  "language_info": {
   "codemirror_mode": {
    "name": "ipython",
    "version": 3
   },
   "file_extension": ".py",
   "mimetype": "text/x-python",
   "name": "python",
   "nbconvert_exporter": "python",
   "pygments_lexer": "ipython3",
   "version": "3.9.12"
  },
  "orig_nbformat": 4,
  "vscode": {
   "interpreter": {
    "hash": "85e4efe9063ed4b62e0af5c002e514e18481edf79e017b3b1894968950fcef3b"
   }
  }
 },
 "nbformat": 4,
 "nbformat_minor": 2
}
